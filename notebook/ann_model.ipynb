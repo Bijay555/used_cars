{
  "nbformat": 4,
  "nbformat_minor": 0,
  "metadata": {
    "colab": {
      "provenance": []
    },
    "kernelspec": {
      "name": "python3",
      "display_name": "Python 3"
    },
    "language_info": {
      "name": "python"
    }
  },
  "cells": [
    {
      "cell_type": "code",
      "source": [
        "# Importing necessary libraries\n",
        "import pandas as pd\n",
        "import numpy as np\n",
        "\n",
        "from sklearn.model_selection import train_test_split\n",
        "from keras import regularizers\n",
        "\n",
        "import tensorflow as tf\n",
        "from keras.models import Sequential\n",
        "from keras.layers import Dense\n",
        "\n",
        "from sklearn.metrics import mean_squared_error, r2_score"
      ],
      "metadata": {
        "id": "efhwRW_XfUW3"
      },
      "execution_count": 21,
      "outputs": []
    },
    {
      "cell_type": "code",
      "source": [
        "from google.colab import drive\n",
        "drive.mount('/content/drive')\n",
        "\n",
        "#train_data_path = '/content/drive/My Drive/train_data.csv'\n",
        "#test_data_path='/content/drive/My Drive/test_data.csv'\n",
        "vehicle_data_path = '/content/drive/My Drive/vehicle_dataset/final.csv'"
      ],
      "metadata": {
        "colab": {
          "base_uri": "https://localhost:8080/"
        },
        "id": "UYhaf56TfP57",
        "outputId": "4a391a6b-e183-46af-9cae-b46676e999f0"
      },
      "execution_count": 22,
      "outputs": [
        {
          "output_type": "stream",
          "name": "stdout",
          "text": [
            "Drive already mounted at /content/drive; to attempt to forcibly remount, call drive.mount(\"/content/drive\", force_remount=True).\n"
          ]
        }
      ]
    },
    {
      "cell_type": "code",
      "source": [
        "#loading the dataset\n",
        "vehicle_data=pd.read_csv(vehicle_data_path)"
      ],
      "metadata": {
        "id": "VVlNz4bMfdSm"
      },
      "execution_count": 23,
      "outputs": []
    },
    {
      "cell_type": "code",
      "source": [
        "# spliting independent and dependent variables\n",
        "X = vehicle_data.drop(columns=['price'])\n",
        "y = vehicle_data['price']"
      ],
      "metadata": {
        "id": "dp4B5pOxfgKx"
      },
      "execution_count": 24,
      "outputs": []
    },
    {
      "cell_type": "code",
      "source": [
        "# spliting the data into training and test data\n",
        "X_train, X_test, y_train, y_test = train_test_split(X, y, test_size=0.2, random_state=42)\n",
        "print('Print X_train: {}'.format(X_train.shape[0]))\n",
        "print('Print y_train: {}'.format(y_train.shape[0]))\n",
        "print('Print X_test: {}'.format(X_test.shape[0]))\n",
        "print('Print y_test: {}'.format(y_test.shape[0]))"
      ],
      "metadata": {
        "colab": {
          "base_uri": "https://localhost:8080/"
        },
        "id": "EUgDm4Gpfsa8",
        "outputId": "fc52d673-b3dc-4ce7-d7ad-533a32c14025"
      },
      "execution_count": 25,
      "outputs": [
        {
          "output_type": "stream",
          "name": "stdout",
          "text": [
            "Print X_train: 276324\n",
            "Print y_train: 276324\n",
            "Print X_test: 69081\n",
            "Print y_test: 69081\n"
          ]
        }
      ]
    },
    {
      "cell_type": "code",
      "source": [
        "input_shape = X_train.shape[1]"
      ],
      "metadata": {
        "id": "L_KLFT_RnugH"
      },
      "execution_count": 26,
      "outputs": []
    },
    {
      "cell_type": "code",
      "source": [
        "# define function to calculate r2 score\n",
        "def r2_keras(y_true, y_pred):\n",
        "    return r2_score(y_true, y_pred)"
      ],
      "metadata": {
        "id": "7IQ1LIff88J1"
      },
      "execution_count": 27,
      "outputs": []
    },
    {
      "cell_type": "code",
      "source": [
        "# define model\n",
        "model = Sequential()\n",
        "# input layer\n",
        "model.add(Dense(32, input_dim=X_train.shape[1], activation='relu'))\n",
        "# hidden layer\n",
        "model.add(Dense(32, activation='relu'))\n",
        "# output layer\n",
        "model.add(Dense(1))\n",
        "\n",
        "# compilation of the model\n",
        "model.compile(loss='mean_squared_error', optimizer='adam')\n"
      ],
      "metadata": {
        "id": "m3wJNNqoj-hZ"
      },
      "execution_count": 28,
      "outputs": []
    },
    {
      "cell_type": "code",
      "source": [
        "# training the model\n",
        "model.fit(X_train, y_train, epochs=25, batch_size=32, verbose=1)\n",
        "\n",
        "# model evaluation\n",
        "mse_value = model.evaluate(X_test, y_test)\n",
        "print(\"The Mean Squared Error (MSE) on test set: {:.4f}\".format(mse_value))"
      ],
      "metadata": {
        "colab": {
          "base_uri": "https://localhost:8080/"
        },
        "id": "3rDMOxzu65B_",
        "outputId": "cebf1cd3-95c4-48c8-d314-18e8d4857459"
      },
      "execution_count": 29,
      "outputs": [
        {
          "output_type": "stream",
          "name": "stdout",
          "text": [
            "Epoch 1/25\n",
            "8636/8636 [==============================] - 17s 2ms/step - loss: 239974448.0000\n",
            "Epoch 2/25\n",
            "8636/8636 [==============================] - 16s 2ms/step - loss: 144838528.0000\n",
            "Epoch 3/25\n",
            "8636/8636 [==============================] - 15s 2ms/step - loss: 122254856.0000\n",
            "Epoch 4/25\n",
            "8636/8636 [==============================] - 16s 2ms/step - loss: 103655592.0000\n",
            "Epoch 5/25\n",
            "8636/8636 [==============================] - 16s 2ms/step - loss: 91997752.0000\n",
            "Epoch 6/25\n",
            "8636/8636 [==============================] - 15s 2ms/step - loss: 86483448.0000\n",
            "Epoch 7/25\n",
            "8636/8636 [==============================] - 16s 2ms/step - loss: 83285056.0000\n",
            "Epoch 8/25\n",
            "8636/8636 [==============================] - 17s 2ms/step - loss: 81953816.0000\n",
            "Epoch 9/25\n",
            "8636/8636 [==============================] - 18s 2ms/step - loss: 80433112.0000\n",
            "Epoch 10/25\n",
            "8636/8636 [==============================] - 20s 2ms/step - loss: 79460840.0000\n",
            "Epoch 11/25\n",
            "8636/8636 [==============================] - 16s 2ms/step - loss: 78942432.0000\n",
            "Epoch 12/25\n",
            "8636/8636 [==============================] - 15s 2ms/step - loss: 77982104.0000\n",
            "Epoch 13/25\n",
            "8636/8636 [==============================] - 16s 2ms/step - loss: 76737184.0000\n",
            "Epoch 14/25\n",
            "8636/8636 [==============================] - 16s 2ms/step - loss: 76910672.0000\n",
            "Epoch 15/25\n",
            "8636/8636 [==============================] - 15s 2ms/step - loss: 75848856.0000\n",
            "Epoch 16/25\n",
            "8636/8636 [==============================] - 15s 2ms/step - loss: 74880656.0000\n",
            "Epoch 17/25\n",
            "8636/8636 [==============================] - 15s 2ms/step - loss: 74214024.0000\n",
            "Epoch 18/25\n",
            "8636/8636 [==============================] - 15s 2ms/step - loss: 74250208.0000\n",
            "Epoch 19/25\n",
            "8636/8636 [==============================] - 17s 2ms/step - loss: 73445800.0000\n",
            "Epoch 20/25\n",
            "8636/8636 [==============================] - 16s 2ms/step - loss: 72904808.0000\n",
            "Epoch 21/25\n",
            "8636/8636 [==============================] - 19s 2ms/step - loss: 73172600.0000\n",
            "Epoch 22/25\n",
            "8636/8636 [==============================] - 16s 2ms/step - loss: 72639144.0000\n",
            "Epoch 23/25\n",
            "8636/8636 [==============================] - 16s 2ms/step - loss: 73190192.0000\n",
            "Epoch 24/25\n",
            "8636/8636 [==============================] - 16s 2ms/step - loss: 72251800.0000\n",
            "Epoch 25/25\n",
            "8636/8636 [==============================] - 15s 2ms/step - loss: 72688704.0000\n",
            "2159/2159 [==============================] - 4s 2ms/step - loss: 69248968.0000\n",
            "The Mean Squared Error (MSE) on test set: 69248968.0000\n"
          ]
        }
      ]
    },
    {
      "cell_type": "code",
      "source": [
        "# Training evaluation\n",
        "# Model evaluation\n",
        "y_pred_train = model.predict(X_train)\n",
        "\n",
        "r2 = r2_score(y_train, y_pred_train)\n",
        "print('R^2 Score:', r2)"
      ],
      "metadata": {
        "colab": {
          "base_uri": "https://localhost:8080/"
        },
        "id": "MJSZ_86D9aIA",
        "outputId": "7f1b3f17-ec12-4db0-aa0b-271fe2ab6f46"
      },
      "execution_count": 30,
      "outputs": [
        {
          "output_type": "stream",
          "name": "stdout",
          "text": [
            "8636/8636 [==============================] - 12s 1ms/step\n",
            "R^2 Score: 0.561149018314744\n"
          ]
        }
      ]
    },
    {
      "cell_type": "code",
      "source": [
        "# Test evaluation\n",
        "y_pred = model.predict(X_test)\n",
        "\n",
        "r2 = r2_score(y_test, y_pred)\n",
        "print('R^2 Score:', r2)"
      ],
      "metadata": {
        "colab": {
          "base_uri": "https://localhost:8080/"
        },
        "id": "VIqt5h-_9L4e",
        "outputId": "0b40f909-4b38-4d10-f44f-601f622bd9bc"
      },
      "execution_count": 31,
      "outputs": [
        {
          "output_type": "stream",
          "name": "stdout",
          "text": [
            "2159/2159 [==============================] - 3s 1ms/step\n",
            "R^2 Score: 0.5663668609874887\n"
          ]
        }
      ]
    }
  ]
}