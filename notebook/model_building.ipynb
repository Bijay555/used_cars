{
 "cells": [
  {
   "cell_type": "code",
   "execution_count": 1,
   "id": "EMgs8Jvq7KVG",
   "metadata": {
    "colab": {
     "base_uri": "https://localhost:8080/"
    },
    "id": "EMgs8Jvq7KVG",
    "outputId": "7e1b0c3f-908d-4992-95e4-d43b24ec0024"
   },
   "outputs": [
    {
     "name": "stdout",
     "output_type": "stream",
     "text": [
      "Mounted at /content/drive\n"
     ]
    }
   ],
   "source": [
    "import pandas as pd\n",
    "import matplotlib.pyplot as plt\n",
    "from sklearn.metrics import mean_squared_error, r2_score\n",
    "from sklearn.preprocessing import StandardScaler\n",
    "import numpy as np\n",
    "\n",
    "from google.colab import drive\n",
    "drive.mount('/content/drive')\n",
    "\n",
    "# train_data_path = '/content/drive/My Drive/train_data.csv'\n",
    "# test_data_path='/content/drive/My Drive/test_data.csv'\n",
    "\n",
    "# X_train = pd.read_csv('/content/drive/My Drive/Bhavik/X_train.csv')\n",
    "# y_train = pd.read_csv('/content/drive/My Drive/Bhavik/y_train.csv')\n",
    "# X_test = pd.read_csv('/content/drive/My Drive/Bhavik/X_test.csv')\n",
    "# y_test = pd.read_csv('/content/drive/My Drive/Bhavik/y_test.csv')\n",
    "\n",
    "df = pd.read_csv('/content/drive/My Drive/Bhavik/final.csv')\n",
    "X = df.drop('price', axis=1)\n",
    "y = df['price']\n"
   ]
  },
  {
   "cell_type": "code",
   "execution_count": 2,
   "id": "jgPBgJL1PhoX",
   "metadata": {
    "id": "jgPBgJL1PhoX"
   },
   "outputs": [],
   "source": [
    "def metrices(model,X_train,X_test,num_iteration=0):\n",
    "    # Calculation of accuracy of boosting model by different metrics\n",
    "\n",
    "    if num_iteration > 0:\n",
    "        predictions_train = model.predict(X_train, num_iteration = num_iteration)\n",
    "        predictions_test = model.predict(X_test, num_iteration = num_iteration)\n",
    "    else:\n",
    "        predictions_train = model.predict(X_train)\n",
    "        predictions_test = model.predict(X_test)\n",
    "\n",
    "    acc_train_r2_num = round(r2_score(y_train.values.ravel(), predictions_train) * 100, 2)\n",
    "    print('acc(r2_score) for train =', acc_train_r2_num)\n",
    "\n",
    "\n",
    "\n",
    "    acc_train_rmse_num = round(mean_squared_error(y_train.values.ravel(), predictions_train) ** 2 * 100, 2)\n",
    "    print('acc(rmse) for train =', acc_train_rmse_num)\n",
    "\n",
    "\n",
    "\n",
    "    acc_test_r2_num = round(r2_score(y_test.values.ravel(), predictions_test) * 100, 2)\n",
    "    print('acc(r2_score) for test =', acc_test_r2_num)\n",
    "\n",
    "\n",
    "    acc_test_rmse_num = round(mean_squared_error(y_test.values.ravel(), predictions_test)**2 * 100, 2)\n",
    "    print('acc(rmse) for test =', acc_test_rmse_num)\n"
   ]
  },
  {
   "cell_type": "code",
   "execution_count": 3,
   "id": "KOIcHQxu7QX_",
   "metadata": {
    "id": "KOIcHQxu7QX_"
   },
   "outputs": [],
   "source": [
    "# prompt: standardize X\n",
    "\n",
    "scaler = StandardScaler()\n",
    "X_scaled = scaler.fit_transform(X)\n"
   ]
  },
  {
   "cell_type": "code",
   "execution_count": 4,
   "id": "vbCVjdpLRoV4",
   "metadata": {
    "id": "vbCVjdpLRoV4"
   },
   "outputs": [],
   "source": [
    "\n",
    "from sklearn.model_selection import train_test_split\n",
    "\n",
    "X_train, X_test, y_train, y_test = train_test_split(X_scaled, y, test_size=0.3, random_state=101)\n"
   ]
  },
  {
   "cell_type": "code",
   "execution_count": 5,
   "id": "JyvRx_ThQW6l",
   "metadata": {
    "colab": {
     "base_uri": "https://localhost:8080/",
     "height": 74
    },
    "id": "JyvRx_ThQW6l",
    "outputId": "646e59d2-00ea-4446-97cc-cddaf42fb674"
   },
   "outputs": [
    {
     "data": {
      "text/html": [
       "<style>#sk-container-id-1 {color: black;background-color: white;}#sk-container-id-1 pre{padding: 0;}#sk-container-id-1 div.sk-toggleable {background-color: white;}#sk-container-id-1 label.sk-toggleable__label {cursor: pointer;display: block;width: 100%;margin-bottom: 0;padding: 0.3em;box-sizing: border-box;text-align: center;}#sk-container-id-1 label.sk-toggleable__label-arrow:before {content: \"▸\";float: left;margin-right: 0.25em;color: #696969;}#sk-container-id-1 label.sk-toggleable__label-arrow:hover:before {color: black;}#sk-container-id-1 div.sk-estimator:hover label.sk-toggleable__label-arrow:before {color: black;}#sk-container-id-1 div.sk-toggleable__content {max-height: 0;max-width: 0;overflow: hidden;text-align: left;background-color: #f0f8ff;}#sk-container-id-1 div.sk-toggleable__content pre {margin: 0.2em;color: black;border-radius: 0.25em;background-color: #f0f8ff;}#sk-container-id-1 input.sk-toggleable__control:checked~div.sk-toggleable__content {max-height: 200px;max-width: 100%;overflow: auto;}#sk-container-id-1 input.sk-toggleable__control:checked~label.sk-toggleable__label-arrow:before {content: \"▾\";}#sk-container-id-1 div.sk-estimator input.sk-toggleable__control:checked~label.sk-toggleable__label {background-color: #d4ebff;}#sk-container-id-1 div.sk-label input.sk-toggleable__control:checked~label.sk-toggleable__label {background-color: #d4ebff;}#sk-container-id-1 input.sk-hidden--visually {border: 0;clip: rect(1px 1px 1px 1px);clip: rect(1px, 1px, 1px, 1px);height: 1px;margin: -1px;overflow: hidden;padding: 0;position: absolute;width: 1px;}#sk-container-id-1 div.sk-estimator {font-family: monospace;background-color: #f0f8ff;border: 1px dotted black;border-radius: 0.25em;box-sizing: border-box;margin-bottom: 0.5em;}#sk-container-id-1 div.sk-estimator:hover {background-color: #d4ebff;}#sk-container-id-1 div.sk-parallel-item::after {content: \"\";width: 100%;border-bottom: 1px solid gray;flex-grow: 1;}#sk-container-id-1 div.sk-label:hover label.sk-toggleable__label {background-color: #d4ebff;}#sk-container-id-1 div.sk-serial::before {content: \"\";position: absolute;border-left: 1px solid gray;box-sizing: border-box;top: 0;bottom: 0;left: 50%;z-index: 0;}#sk-container-id-1 div.sk-serial {display: flex;flex-direction: column;align-items: center;background-color: white;padding-right: 0.2em;padding-left: 0.2em;position: relative;}#sk-container-id-1 div.sk-item {position: relative;z-index: 1;}#sk-container-id-1 div.sk-parallel {display: flex;align-items: stretch;justify-content: center;background-color: white;position: relative;}#sk-container-id-1 div.sk-item::before, #sk-container-id-1 div.sk-parallel-item::before {content: \"\";position: absolute;border-left: 1px solid gray;box-sizing: border-box;top: 0;bottom: 0;left: 50%;z-index: -1;}#sk-container-id-1 div.sk-parallel-item {display: flex;flex-direction: column;z-index: 1;position: relative;background-color: white;}#sk-container-id-1 div.sk-parallel-item:first-child::after {align-self: flex-end;width: 50%;}#sk-container-id-1 div.sk-parallel-item:last-child::after {align-self: flex-start;width: 50%;}#sk-container-id-1 div.sk-parallel-item:only-child::after {width: 0;}#sk-container-id-1 div.sk-dashed-wrapped {border: 1px dashed gray;margin: 0 0.4em 0.5em 0.4em;box-sizing: border-box;padding-bottom: 0.4em;background-color: white;}#sk-container-id-1 div.sk-label label {font-family: monospace;font-weight: bold;display: inline-block;line-height: 1.2em;}#sk-container-id-1 div.sk-label-container {text-align: center;}#sk-container-id-1 div.sk-container {/* jupyter's `normalize.less` sets `[hidden] { display: none; }` but bootstrap.min.css set `[hidden] { display: none !important; }` so we also need the `!important` here to be able to override the default hidden behavior on the sphinx rendered scikit-learn.org. See: https://github.com/scikit-learn/scikit-learn/issues/21755 */display: inline-block !important;position: relative;}#sk-container-id-1 div.sk-text-repr-fallback {display: none;}</style><div id=\"sk-container-id-1\" class=\"sk-top-container\"><div class=\"sk-text-repr-fallback\"><pre>RandomForestRegressor(max_depth=20, min_samples_split=10, random_state=0)</pre><b>In a Jupyter environment, please rerun this cell to show the HTML representation or trust the notebook. <br />On GitHub, the HTML representation is unable to render, please try loading this page with nbviewer.org.</b></div><div class=\"sk-container\" hidden><div class=\"sk-item\"><div class=\"sk-estimator sk-toggleable\"><input class=\"sk-toggleable__control sk-hidden--visually\" id=\"sk-estimator-id-1\" type=\"checkbox\" checked><label for=\"sk-estimator-id-1\" class=\"sk-toggleable__label sk-toggleable__label-arrow\">RandomForestRegressor</label><div class=\"sk-toggleable__content\"><pre>RandomForestRegressor(max_depth=20, min_samples_split=10, random_state=0)</pre></div></div></div></div></div>"
      ],
      "text/plain": [
       "RandomForestRegressor(max_depth=20, min_samples_split=10, random_state=0)"
      ]
     },
     "execution_count": 5,
     "metadata": {},
     "output_type": "execute_result"
    }
   ],
   "source": [
    "from sklearn.ensemble import RandomForestRegressor\n",
    "from sklearn.metrics import mean_squared_error, r2_score\n",
    "from sklearn.datasets import make_regression\n",
    "import tensorflow as tf\n",
    "from tensorflow import keras\n",
    "import numpy as np\n",
    "from sklearn.preprocessing import StandardScaler\n",
    "\n",
    "Rfr = RandomForestRegressor(criterion=\"squared_error\",random_state=0, max_depth=20, min_samples_split= 10, n_estimators=100, bootstrap=True)\n",
    "Rfr.fit(X_train,y_train.values.ravel())\n"
   ]
  },
  {
   "cell_type": "code",
   "execution_count": 6,
   "id": "Zmqz0UPWU3-M",
   "metadata": {
    "colab": {
     "base_uri": "https://localhost:8080/"
    },
    "id": "Zmqz0UPWU3-M",
    "outputId": "c36286e8-f06e-4662-ea22-57a30e45f90b"
   },
   "outputs": [
    {
     "name": "stdout",
     "output_type": "stream",
     "text": [
      "acc(r2_score) for train = 93.04\n",
      "acc(rmse) for train = 1.259969798002148e+16\n",
      "acc(r2_score) for test = 86.75\n",
      "acc(rmse) for test = 4.4632562690135e+16\n"
     ]
    }
   ],
   "source": [
    "metrices(Rfr,X_train,X_test)"
   ]
  },
  {
   "cell_type": "code",
   "execution_count": 7,
   "id": "gQNuAEZtKAMp",
   "metadata": {
    "id": "gQNuAEZtKAMp"
   },
   "outputs": [],
   "source": [
    "\n",
    "import lightgbm as lgb\n",
    "\n",
    "train_set = lgb.Dataset(X_train, y_train.values.ravel())\n",
    "valid_set = lgb.Dataset(X_test, y_test)"
   ]
  },
  {
   "cell_type": "code",
   "execution_count": 8,
   "id": "3UoMCPz46yIK",
   "metadata": {
    "colab": {
     "base_uri": "https://localhost:8080/"
    },
    "id": "3UoMCPz46yIK",
    "outputId": "4dcd5b8b-8123-4883-ae27-2adbbce691e6"
   },
   "outputs": [
    {
     "name": "stdout",
     "output_type": "stream",
     "text": [
      "[LightGBM] [Warning] bagging_fraction is set=1, subsample=0.8 will be ignored. Current value: bagging_fraction=1\n",
      "[LightGBM] [Warning] bagging_fraction is set=1, subsample=0.8 will be ignored. Current value: bagging_fraction=1\n",
      "[LightGBM] [Info] Auto-choosing col-wise multi-threading, the overhead of testing was 0.045356 seconds.\n",
      "You can set `force_col_wise=true` to remove the overhead.\n",
      "[LightGBM] [Info] Total Bins 5185\n",
      "[LightGBM] [Info] Number of data points in the train set: 241783, number of used features: 13\n",
      "[LightGBM] [Warning] bagging_fraction is set=1, subsample=0.8 will be ignored. Current value: bagging_fraction=1\n",
      "[LightGBM] [Info] Start training from score 18191.590335\n"
     ]
    }
   ],
   "source": [
    "params = {\n",
    "        'boosting_type':'gbdt',\n",
    "        'objective': 'regression',\n",
    "        'num_leaves': 31,\n",
    "        'learning_rate': 0.01,\n",
    "        'max_depth': -1,\n",
    "        'subsample': 0.8,\n",
    "        'bagging_fraction' : 1,\n",
    "        'max_bin' : 5000 ,\n",
    "        'bagging_freq': 20,\n",
    "        'colsample_bytree': 0.6,\n",
    "        'metric': 'rmse',\n",
    "        'min_split_gain': 0.5,\n",
    "        'min_child_weight': 1,\n",
    "        'min_child_samples': 10,\n",
    "        'scale_pos_weight':1,\n",
    "        'zero_as_missing': False,\n",
    "        'seed':0,\n",
    "    }\n",
    "modelLgb = lgb.train(params, train_set = train_set, num_boost_round=10000, valid_sets=valid_set)"
   ]
  },
  {
   "cell_type": "code",
   "execution_count": 9,
   "id": "q4BXYs8uGUF4",
   "metadata": {
    "id": "q4BXYs8uGUF4"
   },
   "outputs": [],
   "source": [
    "import pickle\n",
    "filename = '/content/drive/My Drive/Bhavik/modelLgb.sav'\n",
    "pickle.dump(modelLgb, open(filename, 'wb'))\n"
   ]
  },
  {
   "cell_type": "code",
   "execution_count": 10,
   "id": "yXfrtIy17GLJ",
   "metadata": {
    "id": "yXfrtIy17GLJ"
   },
   "outputs": [],
   "source": [
    "\n",
    "# predictions_train = modelLgb.predict(X_train)\n",
    "# predictions_test = modelLgb.predict(X_test)\n",
    "# predictions_test\n",
    "# r2_train = r2_score(y_train.values.ravel(), predictions_train)\n",
    "# r2_test = r2_score(y_test.values.ravel(), predictions_test)\n",
    "\n",
    "# mse_train = mean_squared_error(y_train.values.ravel(), predictions_train)\n",
    "# mse_test = mean_squared_error(y_test.values.ravel(), predictions_test)\n",
    "\n",
    "# print(\"Mean Squared Error for train data:\", mse_train)\n",
    "# print(\"Mean Squared Error for train data:\", mse_test)\n",
    "# print(f'R-squared of Random forest regressor for train data: {r2_train}')\n",
    "# print(f'R-squared of Random forest regressor for test data: {r2_test}')\n"
   ]
  },
  {
   "cell_type": "code",
   "execution_count": 11,
   "id": "7VhSjJza7dSz",
   "metadata": {
    "colab": {
     "base_uri": "https://localhost:8080/",
     "height": 487
    },
    "id": "7VhSjJza7dSz",
    "outputId": "ad29b16a-8949-4cd4-e455-2571eee46aed"
   },
   "outputs": [
    {
     "data": {
      "image/png": "[encoded data removed]",
      "text/plain": [
       "<Figure size 500x500 with 1 Axes>"
      ]
     },
     "metadata": {},
     "output_type": "display_data"
    }
   ],
   "source": [
    "\n",
    "fig =  plt.figure(figsize = (5,5))\n",
    "axes = fig.add_subplot(111)\n",
    "lgb.plot_importance(modelLgb,ax = axes,height = 0.5)\n",
    "plt.show();\n",
    "plt.close()"
   ]
  },
  {
   "cell_type": "code",
   "execution_count": 12,
   "id": "o__EdLEQLFxR",
   "metadata": {
    "colab": {
     "base_uri": "https://localhost:8080/"
    },
    "id": "o__EdLEQLFxR",
    "outputId": "453a54ff-ebe0-4153-ba12-4250dd4807db"
   },
   "outputs": [
    {
     "name": "stdout",
     "output_type": "stream",
     "text": [
      "acc(r2_score) for train = 87.31\n",
      "acc(rmse) for train = 4.192786513092764e+16\n",
      "acc(r2_score) for test = 85.31\n",
      "acc(rmse) for test = 5.485405288351695e+16\n"
     ]
    }
   ],
   "source": [
    "metrices(modelLgb,X_train,X_test)"
   ]
  },
  {
   "cell_type": "code",
   "execution_count": null,
   "id": "jZkyFbToT3OS",
   "metadata": {
    "id": "jZkyFbToT3OS"
   },
   "outputs": [],
   "source": []
  }
 ],
 "metadata": {
  "colab": {
   "gpuType": "T4",
   "provenance": []
  },
  "kernelspec": {
   "display_name": "Python 3 (ipykernel)",
   "language": "python",
   "name": "python3"
  },
  "language_info": {
   "codemirror_mode": {
    "name": "ipython",
    "version": 3
   },
   "file_extension": ".py",
   "mimetype": "text/x-python",
   "name": "python",
   "nbconvert_exporter": "python",
   "pygments_lexer": "ipython3",
   "version": "3.10.12"
  }
 },
 "nbformat": 4,
 "nbformat_minor": 5
}
