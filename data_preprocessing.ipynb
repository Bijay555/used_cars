{
 "cells": [
  {
   "cell_type": "code",
   "execution_count": 5,
   "metadata": {
    "id": "ZShySRIMOSgb"
   },
   "outputs": [],
   "source": [
    "import numpy as np\n",
    "import pandas as pd\n",
    "\n",
    "import matplotlib.pyplot as plt\n",
    "%matplotlib inline\n",
    "import seaborn as sns\n",
    "\n",
    "# from scipy.stats import mstats\n",
    "from sklearn.impute import KNNImputer, SimpleImputer\n",
    "from sklearn.preprocessing import LabelEncoder, OrdinalEncoder\n",
    "from fancyimpute import KNN\n",
    "\n",
    "\n",
    "\n",
    "import warnings\n",
    "warnings.filterwarnings(\"ignore\")   # Ignore all warnings"
   ]
  },
  {
   "cell_type": "code",
   "execution_count": 6,
   "metadata": {
    "colab": {
     "base_uri": "https://localhost:8080/",
     "height": 290
    },
    "id": "FhgfHHik4iKN",
    "outputId": "a6c5366b-10b4-4590-e874-9be09ff3041b"
   },
   "outputs": [
    {
     "data": {
      "text/html": [
       "<div>\n",
       "<style scoped>\n",
       "    .dataframe tbody tr th:only-of-type {\n",
       "        vertical-align: middle;\n",
       "    }\n",
       "\n",
       "    .dataframe tbody tr th {\n",
       "        vertical-align: top;\n",
       "    }\n",
       "\n",
       "    .dataframe thead th {\n",
       "        text-align: right;\n",
       "    }\n",
       "</style>\n",
       "<table border=\"1\" class=\"dataframe\">\n",
       "  <thead>\n",
       "    <tr style=\"text-align: right;\">\n",
       "      <th></th>\n",
       "      <th>id</th>\n",
       "      <th>url</th>\n",
       "      <th>region</th>\n",
       "      <th>region_url</th>\n",
       "      <th>price</th>\n",
       "      <th>year</th>\n",
       "      <th>manufacturer</th>\n",
       "      <th>model</th>\n",
       "      <th>condition</th>\n",
       "      <th>cylinders</th>\n",
       "      <th>...</th>\n",
       "      <th>size</th>\n",
       "      <th>type</th>\n",
       "      <th>paint_color</th>\n",
       "      <th>image_url</th>\n",
       "      <th>description</th>\n",
       "      <th>county</th>\n",
       "      <th>state</th>\n",
       "      <th>lat</th>\n",
       "      <th>long</th>\n",
       "      <th>posting_date</th>\n",
       "    </tr>\n",
       "  </thead>\n",
       "  <tbody>\n",
       "    <tr>\n",
       "      <th>0</th>\n",
       "      <td>7222695916</td>\n",
       "      <td>https://prescott.craigslist.org/cto/d/prescott...</td>\n",
       "      <td>prescott</td>\n",
       "      <td>https://prescott.craigslist.org</td>\n",
       "      <td>6000</td>\n",
       "      <td>NaN</td>\n",
       "      <td>NaN</td>\n",
       "      <td>NaN</td>\n",
       "      <td>NaN</td>\n",
       "      <td>NaN</td>\n",
       "      <td>...</td>\n",
       "      <td>NaN</td>\n",
       "      <td>NaN</td>\n",
       "      <td>NaN</td>\n",
       "      <td>NaN</td>\n",
       "      <td>NaN</td>\n",
       "      <td>NaN</td>\n",
       "      <td>az</td>\n",
       "      <td>NaN</td>\n",
       "      <td>NaN</td>\n",
       "      <td>NaN</td>\n",
       "    </tr>\n",
       "    <tr>\n",
       "      <th>1</th>\n",
       "      <td>7218891961</td>\n",
       "      <td>https://fayar.craigslist.org/ctd/d/bentonville...</td>\n",
       "      <td>fayetteville</td>\n",
       "      <td>https://fayar.craigslist.org</td>\n",
       "      <td>11900</td>\n",
       "      <td>NaN</td>\n",
       "      <td>NaN</td>\n",
       "      <td>NaN</td>\n",
       "      <td>NaN</td>\n",
       "      <td>NaN</td>\n",
       "      <td>...</td>\n",
       "      <td>NaN</td>\n",
       "      <td>NaN</td>\n",
       "      <td>NaN</td>\n",
       "      <td>NaN</td>\n",
       "      <td>NaN</td>\n",
       "      <td>NaN</td>\n",
       "      <td>ar</td>\n",
       "      <td>NaN</td>\n",
       "      <td>NaN</td>\n",
       "      <td>NaN</td>\n",
       "    </tr>\n",
       "    <tr>\n",
       "      <th>2</th>\n",
       "      <td>7221797935</td>\n",
       "      <td>https://keys.craigslist.org/cto/d/summerland-k...</td>\n",
       "      <td>florida keys</td>\n",
       "      <td>https://keys.craigslist.org</td>\n",
       "      <td>21000</td>\n",
       "      <td>NaN</td>\n",
       "      <td>NaN</td>\n",
       "      <td>NaN</td>\n",
       "      <td>NaN</td>\n",
       "      <td>NaN</td>\n",
       "      <td>...</td>\n",
       "      <td>NaN</td>\n",
       "      <td>NaN</td>\n",
       "      <td>NaN</td>\n",
       "      <td>NaN</td>\n",
       "      <td>NaN</td>\n",
       "      <td>NaN</td>\n",
       "      <td>fl</td>\n",
       "      <td>NaN</td>\n",
       "      <td>NaN</td>\n",
       "      <td>NaN</td>\n",
       "    </tr>\n",
       "    <tr>\n",
       "      <th>3</th>\n",
       "      <td>7222270760</td>\n",
       "      <td>https://worcester.craigslist.org/cto/d/west-br...</td>\n",
       "      <td>worcester / central MA</td>\n",
       "      <td>https://worcester.craigslist.org</td>\n",
       "      <td>1500</td>\n",
       "      <td>NaN</td>\n",
       "      <td>NaN</td>\n",
       "      <td>NaN</td>\n",
       "      <td>NaN</td>\n",
       "      <td>NaN</td>\n",
       "      <td>...</td>\n",
       "      <td>NaN</td>\n",
       "      <td>NaN</td>\n",
       "      <td>NaN</td>\n",
       "      <td>NaN</td>\n",
       "      <td>NaN</td>\n",
       "      <td>NaN</td>\n",
       "      <td>ma</td>\n",
       "      <td>NaN</td>\n",
       "      <td>NaN</td>\n",
       "      <td>NaN</td>\n",
       "    </tr>\n",
       "    <tr>\n",
       "      <th>4</th>\n",
       "      <td>7210384030</td>\n",
       "      <td>https://greensboro.craigslist.org/cto/d/trinit...</td>\n",
       "      <td>greensboro</td>\n",
       "      <td>https://greensboro.craigslist.org</td>\n",
       "      <td>4900</td>\n",
       "      <td>NaN</td>\n",
       "      <td>NaN</td>\n",
       "      <td>NaN</td>\n",
       "      <td>NaN</td>\n",
       "      <td>NaN</td>\n",
       "      <td>...</td>\n",
       "      <td>NaN</td>\n",
       "      <td>NaN</td>\n",
       "      <td>NaN</td>\n",
       "      <td>NaN</td>\n",
       "      <td>NaN</td>\n",
       "      <td>NaN</td>\n",
       "      <td>nc</td>\n",
       "      <td>NaN</td>\n",
       "      <td>NaN</td>\n",
       "      <td>NaN</td>\n",
       "    </tr>\n",
       "  </tbody>\n",
       "</table>\n",
       "<p>5 rows × 26 columns</p>\n",
       "</div>"
      ],
      "text/plain": [
       "           id                                                url  \\\n",
       "0  7222695916  https://prescott.craigslist.org/cto/d/prescott...   \n",
       "1  7218891961  https://fayar.craigslist.org/ctd/d/bentonville...   \n",
       "2  7221797935  https://keys.craigslist.org/cto/d/summerland-k...   \n",
       "3  7222270760  https://worcester.craigslist.org/cto/d/west-br...   \n",
       "4  7210384030  https://greensboro.craigslist.org/cto/d/trinit...   \n",
       "\n",
       "                   region                         region_url  price  year  \\\n",
       "0                prescott    https://prescott.craigslist.org   6000   NaN   \n",
       "1            fayetteville       https://fayar.craigslist.org  11900   NaN   \n",
       "2            florida keys        https://keys.craigslist.org  21000   NaN   \n",
       "3  worcester / central MA   https://worcester.craigslist.org   1500   NaN   \n",
       "4              greensboro  https://greensboro.craigslist.org   4900   NaN   \n",
       "\n",
       "  manufacturer model condition cylinders  ... size  type paint_color  \\\n",
       "0          NaN   NaN       NaN       NaN  ...  NaN   NaN         NaN   \n",
       "1          NaN   NaN       NaN       NaN  ...  NaN   NaN         NaN   \n",
       "2          NaN   NaN       NaN       NaN  ...  NaN   NaN         NaN   \n",
       "3          NaN   NaN       NaN       NaN  ...  NaN   NaN         NaN   \n",
       "4          NaN   NaN       NaN       NaN  ...  NaN   NaN         NaN   \n",
       "\n",
       "  image_url description county state lat long posting_date  \n",
       "0       NaN         NaN    NaN    az NaN  NaN          NaN  \n",
       "1       NaN         NaN    NaN    ar NaN  NaN          NaN  \n",
       "2       NaN         NaN    NaN    fl NaN  NaN          NaN  \n",
       "3       NaN         NaN    NaN    ma NaN  NaN          NaN  \n",
       "4       NaN         NaN    NaN    nc NaN  NaN          NaN  \n",
       "\n",
       "[5 rows x 26 columns]"
      ]
     },
     "execution_count": 6,
     "metadata": {},
     "output_type": "execute_result"
    }
   ],
   "source": [
    "df = pd.read_csv('dataset/vehicles.csv')\n",
    "df.head()"
   ]
  },
  {
   "cell_type": "code",
   "execution_count": 7,
   "metadata": {
    "colab": {
     "base_uri": "https://localhost:8080/"
    },
    "id": "lOIrY20mz9jc",
    "outputId": "608a28fb-9a92-4544-b059-3f84ef979171"
   },
   "outputs": [
    {
     "data": {
      "text/plain": [
       "(426880, 26)"
      ]
     },
     "execution_count": 7,
     "metadata": {},
     "output_type": "execute_result"
    }
   ],
   "source": [
    "df.shape"
   ]
  },
  {
   "cell_type": "code",
   "execution_count": 8,
   "metadata": {
    "colab": {
     "base_uri": "https://localhost:8080/"
    },
    "id": "kLdwk10vz_QA",
    "outputId": "19d6aa84-bdf5-4498-ae93-d9e607c49a5f"
   },
   "outputs": [
    {
     "name": "stdout",
     "output_type": "stream",
     "text": [
      "<class 'pandas.core.frame.DataFrame'>\n",
      "RangeIndex: 426880 entries, 0 to 426879\n",
      "Data columns (total 26 columns):\n",
      " #   Column        Non-Null Count   Dtype  \n",
      "---  ------        --------------   -----  \n",
      " 0   id            426880 non-null  int64  \n",
      " 1   url           426880 non-null  object \n",
      " 2   region        426880 non-null  object \n",
      " 3   region_url    426880 non-null  object \n",
      " 4   price         426880 non-null  int64  \n",
      " 5   year          425675 non-null  float64\n",
      " 6   manufacturer  409234 non-null  object \n",
      " 7   model         421603 non-null  object \n",
      " 8   condition     252776 non-null  object \n",
      " 9   cylinders     249202 non-null  object \n",
      " 10  fuel          423867 non-null  object \n",
      " 11  odometer      422480 non-null  float64\n",
      " 12  title_status  418638 non-null  object \n",
      " 13  transmission  424324 non-null  object \n",
      " 14  VIN           265838 non-null  object \n",
      " 15  drive         296313 non-null  object \n",
      " 16  size          120519 non-null  object \n",
      " 17  type          334022 non-null  object \n",
      " 18  paint_color   296677 non-null  object \n",
      " 19  image_url     426812 non-null  object \n",
      " 20  description   426810 non-null  object \n",
      " 21  county        0 non-null       float64\n",
      " 22  state         426880 non-null  object \n",
      " 23  lat           420331 non-null  float64\n",
      " 24  long          420331 non-null  float64\n",
      " 25  posting_date  426812 non-null  object \n",
      "dtypes: float64(5), int64(2), object(19)\n",
      "memory usage: 84.7+ MB\n"
     ]
    }
   ],
   "source": [
    "df.info()"
   ]
  },
  {
   "cell_type": "code",
   "execution_count": 9,
   "metadata": {
    "colab": {
     "base_uri": "https://localhost:8080/",
     "height": 300
    },
    "id": "UaTkvox30HJk",
    "outputId": "cdecf98f-0354-4643-edf2-310c1ccf29f6"
   },
   "outputs": [
    {
     "data": {
      "text/html": [
       "<div>\n",
       "<style scoped>\n",
       "    .dataframe tbody tr th:only-of-type {\n",
       "        vertical-align: middle;\n",
       "    }\n",
       "\n",
       "    .dataframe tbody tr th {\n",
       "        vertical-align: top;\n",
       "    }\n",
       "\n",
       "    .dataframe thead th {\n",
       "        text-align: right;\n",
       "    }\n",
       "</style>\n",
       "<table border=\"1\" class=\"dataframe\">\n",
       "  <thead>\n",
       "    <tr style=\"text-align: right;\">\n",
       "      <th></th>\n",
       "      <th>id</th>\n",
       "      <th>price</th>\n",
       "      <th>year</th>\n",
       "      <th>odometer</th>\n",
       "      <th>county</th>\n",
       "      <th>lat</th>\n",
       "      <th>long</th>\n",
       "    </tr>\n",
       "  </thead>\n",
       "  <tbody>\n",
       "    <tr>\n",
       "      <th>count</th>\n",
       "      <td>4.268800e+05</td>\n",
       "      <td>4.268800e+05</td>\n",
       "      <td>425675.000000</td>\n",
       "      <td>4.224800e+05</td>\n",
       "      <td>0.0</td>\n",
       "      <td>420331.000000</td>\n",
       "      <td>420331.000000</td>\n",
       "    </tr>\n",
       "    <tr>\n",
       "      <th>mean</th>\n",
       "      <td>7.311487e+09</td>\n",
       "      <td>7.519903e+04</td>\n",
       "      <td>2011.235191</td>\n",
       "      <td>9.804333e+04</td>\n",
       "      <td>NaN</td>\n",
       "      <td>38.493940</td>\n",
       "      <td>-94.748599</td>\n",
       "    </tr>\n",
       "    <tr>\n",
       "      <th>std</th>\n",
       "      <td>4.473170e+06</td>\n",
       "      <td>1.218228e+07</td>\n",
       "      <td>9.452120</td>\n",
       "      <td>2.138815e+05</td>\n",
       "      <td>NaN</td>\n",
       "      <td>5.841533</td>\n",
       "      <td>18.365462</td>\n",
       "    </tr>\n",
       "    <tr>\n",
       "      <th>min</th>\n",
       "      <td>7.207408e+09</td>\n",
       "      <td>0.000000e+00</td>\n",
       "      <td>1900.000000</td>\n",
       "      <td>0.000000e+00</td>\n",
       "      <td>NaN</td>\n",
       "      <td>-84.122245</td>\n",
       "      <td>-159.827728</td>\n",
       "    </tr>\n",
       "    <tr>\n",
       "      <th>25%</th>\n",
       "      <td>7.308143e+09</td>\n",
       "      <td>5.900000e+03</td>\n",
       "      <td>2008.000000</td>\n",
       "      <td>3.770400e+04</td>\n",
       "      <td>NaN</td>\n",
       "      <td>34.601900</td>\n",
       "      <td>-111.939847</td>\n",
       "    </tr>\n",
       "    <tr>\n",
       "      <th>50%</th>\n",
       "      <td>7.312621e+09</td>\n",
       "      <td>1.395000e+04</td>\n",
       "      <td>2013.000000</td>\n",
       "      <td>8.554800e+04</td>\n",
       "      <td>NaN</td>\n",
       "      <td>39.150100</td>\n",
       "      <td>-88.432600</td>\n",
       "    </tr>\n",
       "    <tr>\n",
       "      <th>75%</th>\n",
       "      <td>7.315254e+09</td>\n",
       "      <td>2.648575e+04</td>\n",
       "      <td>2017.000000</td>\n",
       "      <td>1.335425e+05</td>\n",
       "      <td>NaN</td>\n",
       "      <td>42.398900</td>\n",
       "      <td>-80.832039</td>\n",
       "    </tr>\n",
       "    <tr>\n",
       "      <th>max</th>\n",
       "      <td>7.317101e+09</td>\n",
       "      <td>3.736929e+09</td>\n",
       "      <td>2022.000000</td>\n",
       "      <td>1.000000e+07</td>\n",
       "      <td>NaN</td>\n",
       "      <td>82.390818</td>\n",
       "      <td>173.885502</td>\n",
       "    </tr>\n",
       "  </tbody>\n",
       "</table>\n",
       "</div>"
      ],
      "text/plain": [
       "                 id         price           year      odometer  county  \\\n",
       "count  4.268800e+05  4.268800e+05  425675.000000  4.224800e+05     0.0   \n",
       "mean   7.311487e+09  7.519903e+04    2011.235191  9.804333e+04     NaN   \n",
       "std    4.473170e+06  1.218228e+07       9.452120  2.138815e+05     NaN   \n",
       "min    7.207408e+09  0.000000e+00    1900.000000  0.000000e+00     NaN   \n",
       "25%    7.308143e+09  5.900000e+03    2008.000000  3.770400e+04     NaN   \n",
       "50%    7.312621e+09  1.395000e+04    2013.000000  8.554800e+04     NaN   \n",
       "75%    7.315254e+09  2.648575e+04    2017.000000  1.335425e+05     NaN   \n",
       "max    7.317101e+09  3.736929e+09    2022.000000  1.000000e+07     NaN   \n",
       "\n",
       "                 lat           long  \n",
       "count  420331.000000  420331.000000  \n",
       "mean       38.493940     -94.748599  \n",
       "std         5.841533      18.365462  \n",
       "min       -84.122245    -159.827728  \n",
       "25%        34.601900    -111.939847  \n",
       "50%        39.150100     -88.432600  \n",
       "75%        42.398900     -80.832039  \n",
       "max        82.390818     173.885502  "
      ]
     },
     "execution_count": 9,
     "metadata": {},
     "output_type": "execute_result"
    }
   ],
   "source": [
    "df.describe()"
   ]
  },
  {
   "cell_type": "code",
   "execution_count": 10,
   "metadata": {
    "id": "CkAKElUx0Tv6"
   },
   "outputs": [],
   "source": [
    "remove_features = ['id','url','region','region_url','model','image_url','description','posting_date','county','VIN','lat','long']\n",
    "df = df.drop(remove_features, axis=1)"
   ]
  },
  {
   "cell_type": "code",
   "execution_count": 11,
   "metadata": {
    "colab": {
     "base_uri": "https://localhost:8080/"
    },
    "id": "IYbGwb200pKS",
    "outputId": "2c851919-b620-44d0-fb0a-ed5c2acda0e9"
   },
   "outputs": [
    {
     "name": "stdout",
     "output_type": "stream",
     "text": [
      "<class 'pandas.core.frame.DataFrame'>\n",
      "RangeIndex: 426880 entries, 0 to 426879\n",
      "Data columns (total 14 columns):\n",
      " #   Column        Non-Null Count   Dtype  \n",
      "---  ------        --------------   -----  \n",
      " 0   price         426880 non-null  int64  \n",
      " 1   year          425675 non-null  float64\n",
      " 2   manufacturer  409234 non-null  object \n",
      " 3   condition     252776 non-null  object \n",
      " 4   cylinders     249202 non-null  object \n",
      " 5   fuel          423867 non-null  object \n",
      " 6   odometer      422480 non-null  float64\n",
      " 7   title_status  418638 non-null  object \n",
      " 8   transmission  424324 non-null  object \n",
      " 9   drive         296313 non-null  object \n",
      " 10  size          120519 non-null  object \n",
      " 11  type          334022 non-null  object \n",
      " 12  paint_color   296677 non-null  object \n",
      " 13  state         426880 non-null  object \n",
      "dtypes: float64(2), int64(1), object(11)\n",
      "memory usage: 45.6+ MB\n"
     ]
    }
   ],
   "source": [
    "df.info()"
   ]
  },
  {
   "cell_type": "code",
   "execution_count": 12,
   "metadata": {
    "colab": {
     "base_uri": "https://localhost:8080/"
    },
    "id": "yeGLkFSn7gMQ",
    "outputId": "acaeb1b9-2cd4-403b-acbf-d34fcf48da1d"
   },
   "outputs": [
    {
     "data": {
      "text/plain": [
       "price                0\n",
       "year              1205\n",
       "manufacturer     17646\n",
       "condition       174104\n",
       "cylinders       177678\n",
       "fuel              3013\n",
       "odometer          4400\n",
       "title_status      8242\n",
       "transmission      2556\n",
       "drive           130567\n",
       "size            306361\n",
       "type             92858\n",
       "paint_color     130203\n",
       "state                0\n",
       "dtype: int64"
      ]
     },
     "execution_count": 12,
     "metadata": {},
     "output_type": "execute_result"
    }
   ],
   "source": [
    "# dealing with missing values\n",
    "\n",
    "df.isnull().sum()"
   ]
  },
  {
   "cell_type": "code",
   "execution_count": 13,
   "metadata": {
    "colab": {
     "base_uri": "https://localhost:8080/",
     "height": 1000
    },
    "id": "tqRGgxlR7vKn",
    "outputId": "c3b8fb27-3a31-46b2-ccda-278c4119282f"
   },
   "outputs": [
    {
     "data": {
      "text/html": [
       "<div>\n",
       "<style scoped>\n",
       "    .dataframe tbody tr th:only-of-type {\n",
       "        vertical-align: middle;\n",
       "    }\n",
       "\n",
       "    .dataframe tbody tr th {\n",
       "        vertical-align: top;\n",
       "    }\n",
       "\n",
       "    .dataframe thead th {\n",
       "        text-align: right;\n",
       "    }\n",
       "</style>\n",
       "<table border=\"1\" class=\"dataframe\">\n",
       "  <thead>\n",
       "    <tr style=\"text-align: right;\">\n",
       "      <th></th>\n",
       "      <th>price</th>\n",
       "      <th>year</th>\n",
       "      <th>manufacturer</th>\n",
       "      <th>condition</th>\n",
       "      <th>cylinders</th>\n",
       "      <th>fuel</th>\n",
       "      <th>odometer</th>\n",
       "      <th>title_status</th>\n",
       "      <th>transmission</th>\n",
       "      <th>drive</th>\n",
       "      <th>size</th>\n",
       "      <th>type</th>\n",
       "      <th>paint_color</th>\n",
       "      <th>state</th>\n",
       "    </tr>\n",
       "  </thead>\n",
       "  <tbody>\n",
       "    <tr>\n",
       "      <th>0</th>\n",
       "      <td>6000</td>\n",
       "      <td>NaN</td>\n",
       "      <td>NaN</td>\n",
       "      <td>NaN</td>\n",
       "      <td>NaN</td>\n",
       "      <td>NaN</td>\n",
       "      <td>NaN</td>\n",
       "      <td>NaN</td>\n",
       "      <td>NaN</td>\n",
       "      <td>NaN</td>\n",
       "      <td>NaN</td>\n",
       "      <td>NaN</td>\n",
       "      <td>NaN</td>\n",
       "      <td>az</td>\n",
       "    </tr>\n",
       "    <tr>\n",
       "      <th>1</th>\n",
       "      <td>11900</td>\n",
       "      <td>NaN</td>\n",
       "      <td>NaN</td>\n",
       "      <td>NaN</td>\n",
       "      <td>NaN</td>\n",
       "      <td>NaN</td>\n",
       "      <td>NaN</td>\n",
       "      <td>NaN</td>\n",
       "      <td>NaN</td>\n",
       "      <td>NaN</td>\n",
       "      <td>NaN</td>\n",
       "      <td>NaN</td>\n",
       "      <td>NaN</td>\n",
       "      <td>ar</td>\n",
       "    </tr>\n",
       "    <tr>\n",
       "      <th>2</th>\n",
       "      <td>21000</td>\n",
       "      <td>NaN</td>\n",
       "      <td>NaN</td>\n",
       "      <td>NaN</td>\n",
       "      <td>NaN</td>\n",
       "      <td>NaN</td>\n",
       "      <td>NaN</td>\n",
       "      <td>NaN</td>\n",
       "      <td>NaN</td>\n",
       "      <td>NaN</td>\n",
       "      <td>NaN</td>\n",
       "      <td>NaN</td>\n",
       "      <td>NaN</td>\n",
       "      <td>fl</td>\n",
       "    </tr>\n",
       "    <tr>\n",
       "      <th>3</th>\n",
       "      <td>1500</td>\n",
       "      <td>NaN</td>\n",
       "      <td>NaN</td>\n",
       "      <td>NaN</td>\n",
       "      <td>NaN</td>\n",
       "      <td>NaN</td>\n",
       "      <td>NaN</td>\n",
       "      <td>NaN</td>\n",
       "      <td>NaN</td>\n",
       "      <td>NaN</td>\n",
       "      <td>NaN</td>\n",
       "      <td>NaN</td>\n",
       "      <td>NaN</td>\n",
       "      <td>ma</td>\n",
       "    </tr>\n",
       "    <tr>\n",
       "      <th>4</th>\n",
       "      <td>4900</td>\n",
       "      <td>NaN</td>\n",
       "      <td>NaN</td>\n",
       "      <td>NaN</td>\n",
       "      <td>NaN</td>\n",
       "      <td>NaN</td>\n",
       "      <td>NaN</td>\n",
       "      <td>NaN</td>\n",
       "      <td>NaN</td>\n",
       "      <td>NaN</td>\n",
       "      <td>NaN</td>\n",
       "      <td>NaN</td>\n",
       "      <td>NaN</td>\n",
       "      <td>nc</td>\n",
       "    </tr>\n",
       "    <tr>\n",
       "      <th>5</th>\n",
       "      <td>1600</td>\n",
       "      <td>NaN</td>\n",
       "      <td>NaN</td>\n",
       "      <td>NaN</td>\n",
       "      <td>NaN</td>\n",
       "      <td>NaN</td>\n",
       "      <td>NaN</td>\n",
       "      <td>NaN</td>\n",
       "      <td>NaN</td>\n",
       "      <td>NaN</td>\n",
       "      <td>NaN</td>\n",
       "      <td>NaN</td>\n",
       "      <td>NaN</td>\n",
       "      <td>ny</td>\n",
       "    </tr>\n",
       "    <tr>\n",
       "      <th>6</th>\n",
       "      <td>1000</td>\n",
       "      <td>NaN</td>\n",
       "      <td>NaN</td>\n",
       "      <td>NaN</td>\n",
       "      <td>NaN</td>\n",
       "      <td>NaN</td>\n",
       "      <td>NaN</td>\n",
       "      <td>NaN</td>\n",
       "      <td>NaN</td>\n",
       "      <td>NaN</td>\n",
       "      <td>NaN</td>\n",
       "      <td>NaN</td>\n",
       "      <td>NaN</td>\n",
       "      <td>ny</td>\n",
       "    </tr>\n",
       "    <tr>\n",
       "      <th>7</th>\n",
       "      <td>15995</td>\n",
       "      <td>NaN</td>\n",
       "      <td>NaN</td>\n",
       "      <td>NaN</td>\n",
       "      <td>NaN</td>\n",
       "      <td>NaN</td>\n",
       "      <td>NaN</td>\n",
       "      <td>NaN</td>\n",
       "      <td>NaN</td>\n",
       "      <td>NaN</td>\n",
       "      <td>NaN</td>\n",
       "      <td>NaN</td>\n",
       "      <td>NaN</td>\n",
       "      <td>ny</td>\n",
       "    </tr>\n",
       "    <tr>\n",
       "      <th>8</th>\n",
       "      <td>5000</td>\n",
       "      <td>NaN</td>\n",
       "      <td>NaN</td>\n",
       "      <td>NaN</td>\n",
       "      <td>NaN</td>\n",
       "      <td>NaN</td>\n",
       "      <td>NaN</td>\n",
       "      <td>NaN</td>\n",
       "      <td>NaN</td>\n",
       "      <td>NaN</td>\n",
       "      <td>NaN</td>\n",
       "      <td>NaN</td>\n",
       "      <td>NaN</td>\n",
       "      <td>or</td>\n",
       "    </tr>\n",
       "    <tr>\n",
       "      <th>9</th>\n",
       "      <td>3000</td>\n",
       "      <td>NaN</td>\n",
       "      <td>NaN</td>\n",
       "      <td>NaN</td>\n",
       "      <td>NaN</td>\n",
       "      <td>NaN</td>\n",
       "      <td>NaN</td>\n",
       "      <td>NaN</td>\n",
       "      <td>NaN</td>\n",
       "      <td>NaN</td>\n",
       "      <td>NaN</td>\n",
       "      <td>NaN</td>\n",
       "      <td>NaN</td>\n",
       "      <td>pa</td>\n",
       "    </tr>\n",
       "    <tr>\n",
       "      <th>10</th>\n",
       "      <td>0</td>\n",
       "      <td>NaN</td>\n",
       "      <td>NaN</td>\n",
       "      <td>NaN</td>\n",
       "      <td>NaN</td>\n",
       "      <td>NaN</td>\n",
       "      <td>NaN</td>\n",
       "      <td>NaN</td>\n",
       "      <td>NaN</td>\n",
       "      <td>NaN</td>\n",
       "      <td>NaN</td>\n",
       "      <td>NaN</td>\n",
       "      <td>NaN</td>\n",
       "      <td>tx</td>\n",
       "    </tr>\n",
       "    <tr>\n",
       "      <th>11</th>\n",
       "      <td>0</td>\n",
       "      <td>NaN</td>\n",
       "      <td>NaN</td>\n",
       "      <td>NaN</td>\n",
       "      <td>NaN</td>\n",
       "      <td>NaN</td>\n",
       "      <td>NaN</td>\n",
       "      <td>NaN</td>\n",
       "      <td>NaN</td>\n",
       "      <td>NaN</td>\n",
       "      <td>NaN</td>\n",
       "      <td>NaN</td>\n",
       "      <td>NaN</td>\n",
       "      <td>tx</td>\n",
       "    </tr>\n",
       "    <tr>\n",
       "      <th>12</th>\n",
       "      <td>0</td>\n",
       "      <td>NaN</td>\n",
       "      <td>NaN</td>\n",
       "      <td>NaN</td>\n",
       "      <td>NaN</td>\n",
       "      <td>NaN</td>\n",
       "      <td>NaN</td>\n",
       "      <td>NaN</td>\n",
       "      <td>NaN</td>\n",
       "      <td>NaN</td>\n",
       "      <td>NaN</td>\n",
       "      <td>NaN</td>\n",
       "      <td>NaN</td>\n",
       "      <td>tx</td>\n",
       "    </tr>\n",
       "    <tr>\n",
       "      <th>13</th>\n",
       "      <td>0</td>\n",
       "      <td>NaN</td>\n",
       "      <td>NaN</td>\n",
       "      <td>NaN</td>\n",
       "      <td>NaN</td>\n",
       "      <td>NaN</td>\n",
       "      <td>NaN</td>\n",
       "      <td>NaN</td>\n",
       "      <td>NaN</td>\n",
       "      <td>NaN</td>\n",
       "      <td>NaN</td>\n",
       "      <td>NaN</td>\n",
       "      <td>NaN</td>\n",
       "      <td>tx</td>\n",
       "    </tr>\n",
       "    <tr>\n",
       "      <th>14</th>\n",
       "      <td>0</td>\n",
       "      <td>NaN</td>\n",
       "      <td>NaN</td>\n",
       "      <td>NaN</td>\n",
       "      <td>NaN</td>\n",
       "      <td>NaN</td>\n",
       "      <td>NaN</td>\n",
       "      <td>NaN</td>\n",
       "      <td>NaN</td>\n",
       "      <td>NaN</td>\n",
       "      <td>NaN</td>\n",
       "      <td>NaN</td>\n",
       "      <td>NaN</td>\n",
       "      <td>tx</td>\n",
       "    </tr>\n",
       "    <tr>\n",
       "      <th>15</th>\n",
       "      <td>13995</td>\n",
       "      <td>NaN</td>\n",
       "      <td>NaN</td>\n",
       "      <td>NaN</td>\n",
       "      <td>NaN</td>\n",
       "      <td>NaN</td>\n",
       "      <td>NaN</td>\n",
       "      <td>NaN</td>\n",
       "      <td>NaN</td>\n",
       "      <td>NaN</td>\n",
       "      <td>NaN</td>\n",
       "      <td>NaN</td>\n",
       "      <td>NaN</td>\n",
       "      <td>wa</td>\n",
       "    </tr>\n",
       "    <tr>\n",
       "      <th>16</th>\n",
       "      <td>24999</td>\n",
       "      <td>NaN</td>\n",
       "      <td>NaN</td>\n",
       "      <td>NaN</td>\n",
       "      <td>NaN</td>\n",
       "      <td>NaN</td>\n",
       "      <td>NaN</td>\n",
       "      <td>NaN</td>\n",
       "      <td>NaN</td>\n",
       "      <td>NaN</td>\n",
       "      <td>NaN</td>\n",
       "      <td>NaN</td>\n",
       "      <td>NaN</td>\n",
       "      <td>wa</td>\n",
       "    </tr>\n",
       "    <tr>\n",
       "      <th>17</th>\n",
       "      <td>21850</td>\n",
       "      <td>NaN</td>\n",
       "      <td>NaN</td>\n",
       "      <td>NaN</td>\n",
       "      <td>NaN</td>\n",
       "      <td>NaN</td>\n",
       "      <td>NaN</td>\n",
       "      <td>NaN</td>\n",
       "      <td>NaN</td>\n",
       "      <td>NaN</td>\n",
       "      <td>NaN</td>\n",
       "      <td>NaN</td>\n",
       "      <td>NaN</td>\n",
       "      <td>wa</td>\n",
       "    </tr>\n",
       "    <tr>\n",
       "      <th>18</th>\n",
       "      <td>26850</td>\n",
       "      <td>NaN</td>\n",
       "      <td>NaN</td>\n",
       "      <td>NaN</td>\n",
       "      <td>NaN</td>\n",
       "      <td>NaN</td>\n",
       "      <td>NaN</td>\n",
       "      <td>NaN</td>\n",
       "      <td>NaN</td>\n",
       "      <td>NaN</td>\n",
       "      <td>NaN</td>\n",
       "      <td>NaN</td>\n",
       "      <td>NaN</td>\n",
       "      <td>wa</td>\n",
       "    </tr>\n",
       "    <tr>\n",
       "      <th>19</th>\n",
       "      <td>11999</td>\n",
       "      <td>NaN</td>\n",
       "      <td>NaN</td>\n",
       "      <td>NaN</td>\n",
       "      <td>NaN</td>\n",
       "      <td>NaN</td>\n",
       "      <td>NaN</td>\n",
       "      <td>NaN</td>\n",
       "      <td>NaN</td>\n",
       "      <td>NaN</td>\n",
       "      <td>NaN</td>\n",
       "      <td>NaN</td>\n",
       "      <td>NaN</td>\n",
       "      <td>wa</td>\n",
       "    </tr>\n",
       "    <tr>\n",
       "      <th>20</th>\n",
       "      <td>24999</td>\n",
       "      <td>NaN</td>\n",
       "      <td>NaN</td>\n",
       "      <td>NaN</td>\n",
       "      <td>NaN</td>\n",
       "      <td>NaN</td>\n",
       "      <td>NaN</td>\n",
       "      <td>NaN</td>\n",
       "      <td>NaN</td>\n",
       "      <td>NaN</td>\n",
       "      <td>NaN</td>\n",
       "      <td>NaN</td>\n",
       "      <td>NaN</td>\n",
       "      <td>wa</td>\n",
       "    </tr>\n",
       "    <tr>\n",
       "      <th>21</th>\n",
       "      <td>21850</td>\n",
       "      <td>NaN</td>\n",
       "      <td>NaN</td>\n",
       "      <td>NaN</td>\n",
       "      <td>NaN</td>\n",
       "      <td>NaN</td>\n",
       "      <td>NaN</td>\n",
       "      <td>NaN</td>\n",
       "      <td>NaN</td>\n",
       "      <td>NaN</td>\n",
       "      <td>NaN</td>\n",
       "      <td>NaN</td>\n",
       "      <td>NaN</td>\n",
       "      <td>wa</td>\n",
       "    </tr>\n",
       "    <tr>\n",
       "      <th>22</th>\n",
       "      <td>26850</td>\n",
       "      <td>NaN</td>\n",
       "      <td>NaN</td>\n",
       "      <td>NaN</td>\n",
       "      <td>NaN</td>\n",
       "      <td>NaN</td>\n",
       "      <td>NaN</td>\n",
       "      <td>NaN</td>\n",
       "      <td>NaN</td>\n",
       "      <td>NaN</td>\n",
       "      <td>NaN</td>\n",
       "      <td>NaN</td>\n",
       "      <td>NaN</td>\n",
       "      <td>wa</td>\n",
       "    </tr>\n",
       "    <tr>\n",
       "      <th>23</th>\n",
       "      <td>11999</td>\n",
       "      <td>NaN</td>\n",
       "      <td>NaN</td>\n",
       "      <td>NaN</td>\n",
       "      <td>NaN</td>\n",
       "      <td>NaN</td>\n",
       "      <td>NaN</td>\n",
       "      <td>NaN</td>\n",
       "      <td>NaN</td>\n",
       "      <td>NaN</td>\n",
       "      <td>NaN</td>\n",
       "      <td>NaN</td>\n",
       "      <td>NaN</td>\n",
       "      <td>wa</td>\n",
       "    </tr>\n",
       "    <tr>\n",
       "      <th>24</th>\n",
       "      <td>24999</td>\n",
       "      <td>NaN</td>\n",
       "      <td>NaN</td>\n",
       "      <td>NaN</td>\n",
       "      <td>NaN</td>\n",
       "      <td>NaN</td>\n",
       "      <td>NaN</td>\n",
       "      <td>NaN</td>\n",
       "      <td>NaN</td>\n",
       "      <td>NaN</td>\n",
       "      <td>NaN</td>\n",
       "      <td>NaN</td>\n",
       "      <td>NaN</td>\n",
       "      <td>wa</td>\n",
       "    </tr>\n",
       "    <tr>\n",
       "      <th>25</th>\n",
       "      <td>21850</td>\n",
       "      <td>NaN</td>\n",
       "      <td>NaN</td>\n",
       "      <td>NaN</td>\n",
       "      <td>NaN</td>\n",
       "      <td>NaN</td>\n",
       "      <td>NaN</td>\n",
       "      <td>NaN</td>\n",
       "      <td>NaN</td>\n",
       "      <td>NaN</td>\n",
       "      <td>NaN</td>\n",
       "      <td>NaN</td>\n",
       "      <td>NaN</td>\n",
       "      <td>wa</td>\n",
       "    </tr>\n",
       "    <tr>\n",
       "      <th>26</th>\n",
       "      <td>500</td>\n",
       "      <td>NaN</td>\n",
       "      <td>NaN</td>\n",
       "      <td>NaN</td>\n",
       "      <td>NaN</td>\n",
       "      <td>NaN</td>\n",
       "      <td>NaN</td>\n",
       "      <td>NaN</td>\n",
       "      <td>NaN</td>\n",
       "      <td>NaN</td>\n",
       "      <td>NaN</td>\n",
       "      <td>NaN</td>\n",
       "      <td>NaN</td>\n",
       "      <td>wi</td>\n",
       "    </tr>\n",
       "    <tr>\n",
       "      <th>27</th>\n",
       "      <td>33590</td>\n",
       "      <td>2014.0</td>\n",
       "      <td>gmc</td>\n",
       "      <td>good</td>\n",
       "      <td>8 cylinders</td>\n",
       "      <td>gas</td>\n",
       "      <td>57923.0</td>\n",
       "      <td>clean</td>\n",
       "      <td>other</td>\n",
       "      <td>NaN</td>\n",
       "      <td>NaN</td>\n",
       "      <td>pickup</td>\n",
       "      <td>white</td>\n",
       "      <td>al</td>\n",
       "    </tr>\n",
       "    <tr>\n",
       "      <th>28</th>\n",
       "      <td>22590</td>\n",
       "      <td>2010.0</td>\n",
       "      <td>chevrolet</td>\n",
       "      <td>good</td>\n",
       "      <td>8 cylinders</td>\n",
       "      <td>gas</td>\n",
       "      <td>71229.0</td>\n",
       "      <td>clean</td>\n",
       "      <td>other</td>\n",
       "      <td>NaN</td>\n",
       "      <td>NaN</td>\n",
       "      <td>pickup</td>\n",
       "      <td>blue</td>\n",
       "      <td>al</td>\n",
       "    </tr>\n",
       "    <tr>\n",
       "      <th>29</th>\n",
       "      <td>39590</td>\n",
       "      <td>2020.0</td>\n",
       "      <td>chevrolet</td>\n",
       "      <td>good</td>\n",
       "      <td>8 cylinders</td>\n",
       "      <td>gas</td>\n",
       "      <td>19160.0</td>\n",
       "      <td>clean</td>\n",
       "      <td>other</td>\n",
       "      <td>NaN</td>\n",
       "      <td>NaN</td>\n",
       "      <td>pickup</td>\n",
       "      <td>red</td>\n",
       "      <td>al</td>\n",
       "    </tr>\n",
       "  </tbody>\n",
       "</table>\n",
       "</div>"
      ],
      "text/plain": [
       "    price    year manufacturer condition    cylinders fuel  odometer  \\\n",
       "0    6000     NaN          NaN       NaN          NaN  NaN       NaN   \n",
       "1   11900     NaN          NaN       NaN          NaN  NaN       NaN   \n",
       "2   21000     NaN          NaN       NaN          NaN  NaN       NaN   \n",
       "3    1500     NaN          NaN       NaN          NaN  NaN       NaN   \n",
       "4    4900     NaN          NaN       NaN          NaN  NaN       NaN   \n",
       "5    1600     NaN          NaN       NaN          NaN  NaN       NaN   \n",
       "6    1000     NaN          NaN       NaN          NaN  NaN       NaN   \n",
       "7   15995     NaN          NaN       NaN          NaN  NaN       NaN   \n",
       "8    5000     NaN          NaN       NaN          NaN  NaN       NaN   \n",
       "9    3000     NaN          NaN       NaN          NaN  NaN       NaN   \n",
       "10      0     NaN          NaN       NaN          NaN  NaN       NaN   \n",
       "11      0     NaN          NaN       NaN          NaN  NaN       NaN   \n",
       "12      0     NaN          NaN       NaN          NaN  NaN       NaN   \n",
       "13      0     NaN          NaN       NaN          NaN  NaN       NaN   \n",
       "14      0     NaN          NaN       NaN          NaN  NaN       NaN   \n",
       "15  13995     NaN          NaN       NaN          NaN  NaN       NaN   \n",
       "16  24999     NaN          NaN       NaN          NaN  NaN       NaN   \n",
       "17  21850     NaN          NaN       NaN          NaN  NaN       NaN   \n",
       "18  26850     NaN          NaN       NaN          NaN  NaN       NaN   \n",
       "19  11999     NaN          NaN       NaN          NaN  NaN       NaN   \n",
       "20  24999     NaN          NaN       NaN          NaN  NaN       NaN   \n",
       "21  21850     NaN          NaN       NaN          NaN  NaN       NaN   \n",
       "22  26850     NaN          NaN       NaN          NaN  NaN       NaN   \n",
       "23  11999     NaN          NaN       NaN          NaN  NaN       NaN   \n",
       "24  24999     NaN          NaN       NaN          NaN  NaN       NaN   \n",
       "25  21850     NaN          NaN       NaN          NaN  NaN       NaN   \n",
       "26    500     NaN          NaN       NaN          NaN  NaN       NaN   \n",
       "27  33590  2014.0          gmc      good  8 cylinders  gas   57923.0   \n",
       "28  22590  2010.0    chevrolet      good  8 cylinders  gas   71229.0   \n",
       "29  39590  2020.0    chevrolet      good  8 cylinders  gas   19160.0   \n",
       "\n",
       "   title_status transmission drive size    type paint_color state  \n",
       "0           NaN          NaN   NaN  NaN     NaN         NaN    az  \n",
       "1           NaN          NaN   NaN  NaN     NaN         NaN    ar  \n",
       "2           NaN          NaN   NaN  NaN     NaN         NaN    fl  \n",
       "3           NaN          NaN   NaN  NaN     NaN         NaN    ma  \n",
       "4           NaN          NaN   NaN  NaN     NaN         NaN    nc  \n",
       "5           NaN          NaN   NaN  NaN     NaN         NaN    ny  \n",
       "6           NaN          NaN   NaN  NaN     NaN         NaN    ny  \n",
       "7           NaN          NaN   NaN  NaN     NaN         NaN    ny  \n",
       "8           NaN          NaN   NaN  NaN     NaN         NaN    or  \n",
       "9           NaN          NaN   NaN  NaN     NaN         NaN    pa  \n",
       "10          NaN          NaN   NaN  NaN     NaN         NaN    tx  \n",
       "11          NaN          NaN   NaN  NaN     NaN         NaN    tx  \n",
       "12          NaN          NaN   NaN  NaN     NaN         NaN    tx  \n",
       "13          NaN          NaN   NaN  NaN     NaN         NaN    tx  \n",
       "14          NaN          NaN   NaN  NaN     NaN         NaN    tx  \n",
       "15          NaN          NaN   NaN  NaN     NaN         NaN    wa  \n",
       "16          NaN          NaN   NaN  NaN     NaN         NaN    wa  \n",
       "17          NaN          NaN   NaN  NaN     NaN         NaN    wa  \n",
       "18          NaN          NaN   NaN  NaN     NaN         NaN    wa  \n",
       "19          NaN          NaN   NaN  NaN     NaN         NaN    wa  \n",
       "20          NaN          NaN   NaN  NaN     NaN         NaN    wa  \n",
       "21          NaN          NaN   NaN  NaN     NaN         NaN    wa  \n",
       "22          NaN          NaN   NaN  NaN     NaN         NaN    wa  \n",
       "23          NaN          NaN   NaN  NaN     NaN         NaN    wa  \n",
       "24          NaN          NaN   NaN  NaN     NaN         NaN    wa  \n",
       "25          NaN          NaN   NaN  NaN     NaN         NaN    wa  \n",
       "26          NaN          NaN   NaN  NaN     NaN         NaN    wi  \n",
       "27        clean        other   NaN  NaN  pickup       white    al  \n",
       "28        clean        other   NaN  NaN  pickup        blue    al  \n",
       "29        clean        other   NaN  NaN  pickup         red    al  "
      ]
     },
     "execution_count": 13,
     "metadata": {},
     "output_type": "execute_result"
    }
   ],
   "source": [
    "df.head(30)"
   ]
  },
  {
   "cell_type": "markdown",
   "metadata": {
    "id": "aKrqab967zJS"
   },
   "source": [
    "The first 28 rows have  price but no imformation on most of the independent features so we are removing it from dataset"
   ]
  },
  {
   "cell_type": "code",
   "execution_count": 14,
   "metadata": {
    "id": "W8rudqWE7gJf"
   },
   "outputs": [],
   "source": [
    "# code to remove first 28 rows\n",
    "\n",
    "df = df.iloc[27:]"
   ]
  },
  {
   "cell_type": "code",
   "execution_count": 15,
   "metadata": {
    "colab": {
     "base_uri": "https://localhost:8080/",
     "height": 244
    },
    "id": "Eu8lG4Gl7gGm",
    "outputId": "dc0674c4-5992-478f-fbd4-e86e40dc365b"
   },
   "outputs": [
    {
     "data": {
      "text/html": [
       "<div>\n",
       "<style scoped>\n",
       "    .dataframe tbody tr th:only-of-type {\n",
       "        vertical-align: middle;\n",
       "    }\n",
       "\n",
       "    .dataframe tbody tr th {\n",
       "        vertical-align: top;\n",
       "    }\n",
       "\n",
       "    .dataframe thead th {\n",
       "        text-align: right;\n",
       "    }\n",
       "</style>\n",
       "<table border=\"1\" class=\"dataframe\">\n",
       "  <thead>\n",
       "    <tr style=\"text-align: right;\">\n",
       "      <th></th>\n",
       "      <th>price</th>\n",
       "      <th>year</th>\n",
       "      <th>manufacturer</th>\n",
       "      <th>condition</th>\n",
       "      <th>cylinders</th>\n",
       "      <th>fuel</th>\n",
       "      <th>odometer</th>\n",
       "      <th>title_status</th>\n",
       "      <th>transmission</th>\n",
       "      <th>drive</th>\n",
       "      <th>size</th>\n",
       "      <th>type</th>\n",
       "      <th>paint_color</th>\n",
       "      <th>state</th>\n",
       "    </tr>\n",
       "  </thead>\n",
       "  <tbody>\n",
       "    <tr>\n",
       "      <th>27</th>\n",
       "      <td>33590</td>\n",
       "      <td>2014.0</td>\n",
       "      <td>gmc</td>\n",
       "      <td>good</td>\n",
       "      <td>8 cylinders</td>\n",
       "      <td>gas</td>\n",
       "      <td>57923.0</td>\n",
       "      <td>clean</td>\n",
       "      <td>other</td>\n",
       "      <td>NaN</td>\n",
       "      <td>NaN</td>\n",
       "      <td>pickup</td>\n",
       "      <td>white</td>\n",
       "      <td>al</td>\n",
       "    </tr>\n",
       "    <tr>\n",
       "      <th>28</th>\n",
       "      <td>22590</td>\n",
       "      <td>2010.0</td>\n",
       "      <td>chevrolet</td>\n",
       "      <td>good</td>\n",
       "      <td>8 cylinders</td>\n",
       "      <td>gas</td>\n",
       "      <td>71229.0</td>\n",
       "      <td>clean</td>\n",
       "      <td>other</td>\n",
       "      <td>NaN</td>\n",
       "      <td>NaN</td>\n",
       "      <td>pickup</td>\n",
       "      <td>blue</td>\n",
       "      <td>al</td>\n",
       "    </tr>\n",
       "    <tr>\n",
       "      <th>29</th>\n",
       "      <td>39590</td>\n",
       "      <td>2020.0</td>\n",
       "      <td>chevrolet</td>\n",
       "      <td>good</td>\n",
       "      <td>8 cylinders</td>\n",
       "      <td>gas</td>\n",
       "      <td>19160.0</td>\n",
       "      <td>clean</td>\n",
       "      <td>other</td>\n",
       "      <td>NaN</td>\n",
       "      <td>NaN</td>\n",
       "      <td>pickup</td>\n",
       "      <td>red</td>\n",
       "      <td>al</td>\n",
       "    </tr>\n",
       "    <tr>\n",
       "      <th>30</th>\n",
       "      <td>30990</td>\n",
       "      <td>2017.0</td>\n",
       "      <td>toyota</td>\n",
       "      <td>good</td>\n",
       "      <td>8 cylinders</td>\n",
       "      <td>gas</td>\n",
       "      <td>41124.0</td>\n",
       "      <td>clean</td>\n",
       "      <td>other</td>\n",
       "      <td>NaN</td>\n",
       "      <td>NaN</td>\n",
       "      <td>pickup</td>\n",
       "      <td>red</td>\n",
       "      <td>al</td>\n",
       "    </tr>\n",
       "    <tr>\n",
       "      <th>31</th>\n",
       "      <td>15000</td>\n",
       "      <td>2013.0</td>\n",
       "      <td>ford</td>\n",
       "      <td>excellent</td>\n",
       "      <td>6 cylinders</td>\n",
       "      <td>gas</td>\n",
       "      <td>128000.0</td>\n",
       "      <td>clean</td>\n",
       "      <td>automatic</td>\n",
       "      <td>rwd</td>\n",
       "      <td>full-size</td>\n",
       "      <td>truck</td>\n",
       "      <td>black</td>\n",
       "      <td>al</td>\n",
       "    </tr>\n",
       "  </tbody>\n",
       "</table>\n",
       "</div>"
      ],
      "text/plain": [
       "    price    year manufacturer  condition    cylinders fuel  odometer  \\\n",
       "27  33590  2014.0          gmc       good  8 cylinders  gas   57923.0   \n",
       "28  22590  2010.0    chevrolet       good  8 cylinders  gas   71229.0   \n",
       "29  39590  2020.0    chevrolet       good  8 cylinders  gas   19160.0   \n",
       "30  30990  2017.0       toyota       good  8 cylinders  gas   41124.0   \n",
       "31  15000  2013.0         ford  excellent  6 cylinders  gas  128000.0   \n",
       "\n",
       "   title_status transmission drive       size    type paint_color state  \n",
       "27        clean        other   NaN        NaN  pickup       white    al  \n",
       "28        clean        other   NaN        NaN  pickup        blue    al  \n",
       "29        clean        other   NaN        NaN  pickup         red    al  \n",
       "30        clean        other   NaN        NaN  pickup         red    al  \n",
       "31        clean    automatic   rwd  full-size   truck       black    al  "
      ]
     },
     "execution_count": 15,
     "metadata": {},
     "output_type": "execute_result"
    }
   ],
   "source": [
    "df.head()"
   ]
  },
  {
   "cell_type": "markdown",
   "metadata": {
    "id": "eAVVLtKJepI-"
   },
   "source": [
    "### Working on Price (target) columns"
   ]
  },
  {
   "cell_type": "code",
   "execution_count": 16,
   "metadata": {
    "colab": {
     "base_uri": "https://localhost:8080/"
    },
    "id": "KpzjLKCObEcY",
    "outputId": "fd4c70d7-eb2e-448f-b93c-d7b5c2e398c7"
   },
   "outputs": [
    {
     "name": "stdout",
     "output_type": "stream",
     "text": [
      "There are no negative values in the price column.\n"
     ]
    }
   ],
   "source": [
    "# prompt: check if there is negative values in price column\n",
    "\n",
    "negative_price_count = df[df['price'] < 0].shape[0]\n",
    "if negative_price_count > 0:\n",
    "  print(f\"There are {negative_price_count} negative values in the price column.\")\n",
    "else:\n",
    "  print(\"There are no negative values in the price column.\")\n"
   ]
  },
  {
   "cell_type": "code",
   "execution_count": 17,
   "metadata": {
    "id": "AaGmBLo2gp81"
   },
   "outputs": [],
   "source": [
    "# removing the records where price is zero\n",
    "\n",
    "df = df[df['price'] >= 100]\n"
   ]
  },
  {
   "cell_type": "code",
   "execution_count": 18,
   "metadata": {
    "colab": {
     "base_uri": "https://localhost:8080/",
     "height": 466
    },
    "id": "hPuhxfirevHn",
    "outputId": "610ad704-2187-4c0b-e93e-08e8d38c2bc4"
   },
   "outputs": [
    {
     "data": {
      "text/plain": [
       "<Axes: xlabel='price'>"
      ]
     },
     "execution_count": 18,
     "metadata": {},
     "output_type": "execute_result"
    },
    {
     "data": {
      "image/png": "[encoded data removed]",
      "text/plain": [
       "<Figure size 640x480 with 1 Axes>"
      ]
     },
     "metadata": {},
     "output_type": "display_data"
    }
   ],
   "source": [
    "# finding the outlier in price column\n",
    "\n",
    "sns.boxplot(x=df['price'])\n"
   ]
  },
  {
   "cell_type": "markdown",
   "metadata": {
    "id": "tXFDrDhOgMyM"
   },
   "source": [
    "+ There are outlier in extreme highs that can affect the evaluation metrics of predictive model."
   ]
  },
  {
   "cell_type": "code",
   "execution_count": 19,
   "metadata": {
    "id": "TAeev8EfDgDr"
   },
   "outputs": [],
   "source": [
    "# calculate the outlier using interquartiile range for columns'\n",
    "\n",
    "def find_outliers(df, column_name):\n",
    "    \"\"\"\n",
    "    Find outliers in a DataFrame column using the interquartile range (IQR) method.\n",
    "\n",
    "    Args:\n",
    "        df (DataFrame): The DataFrame containing the column.\n",
    "        column_name (str): The name of the column to find outliers in.\n",
    "\n",
    "    Returns:\n",
    "        outliers (DataFrame): DataFrame containing the outliers.\n",
    "    \"\"\"\n",
    "    # Calculate the interquartile range (IQR)\n",
    "    Q1 = df[column_name].quantile(0.25)\n",
    "    Q3 = df[column_name].quantile(0.75)\n",
    "    IQR = Q3 - Q1\n",
    "\n",
    "    # Calculate the lower and upper bounds\n",
    "    lower_bound = Q1 - 1.5 * IQR\n",
    "    upper_bound = Q3 + 1.5 * IQR\n",
    "\n",
    "    # Find the outliers\n",
    "    outliers = df[(df[column_name] < lower_bound) | (df[column_name] > upper_bound)]\n",
    "\n",
    "    # Print the number of outliers\n",
    "    print(f\"Number of outliers in {column_name}: {len(outliers)}\")\n",
    "    print(f\"The lower bound in {column_name}: {lower_bound}\")\n",
    "    print(f\"The upper bound in {column_name}: {upper_bound}\")\n",
    "\n",
    "    return outliers\n"
   ]
  },
  {
   "cell_type": "code",
   "execution_count": 20,
   "metadata": {
    "colab": {
     "base_uri": "https://localhost:8080/"
    },
    "id": "qllZ2i7RrtpJ",
    "outputId": "f7c128bd-3605-4533-8450-d91d9da7f66a"
   },
   "outputs": [
    {
     "name": "stdout",
     "output_type": "stream",
     "text": [
      "Number of outliers in price: 7741\n",
      "The lower bound in price: -23112.5\n",
      "The upper bound in price: 58507.5\n",
      "            price    year manufacturer condition    cylinders    fuel  \\\n",
      "204         58977  2019.0          gmc       NaN          NaN     gas   \n",
      "280     987654321  1960.0    chevrolet       NaN          NaN     gas   \n",
      "346         98900  2001.0      ferrari      good  8 cylinders     gas   \n",
      "365         72900  2021.0    chevrolet      good  8 cylinders     gas   \n",
      "461         99950  2021.0    chevrolet       NaN          NaN     gas   \n",
      "...           ...     ...          ...       ...          ...     ...   \n",
      "426694      59900  2014.0         ford       NaN          NaN  diesel   \n",
      "426716      65950  2020.0         ford  like new  8 cylinders  diesel   \n",
      "426778      65995  2020.0          gmc      good  8 cylinders     gas   \n",
      "426810      58995  2017.0          gmc       NaN  8 cylinders  diesel   \n",
      "426840      65999  2017.0          NaN       NaN          NaN  diesel   \n",
      "\n",
      "        odometer title_status transmission drive       size         type  \\\n",
      "204      66368.0        clean    automatic   4wd        NaN          NaN   \n",
      "280     999999.0        clean       manual   NaN        NaN          NaN   \n",
      "346      20187.0        clean    automatic   rwd   mid-size  convertible   \n",
      "365      19129.0        clean    automatic   4wd  full-size          SUV   \n",
      "461        510.0        clean    automatic   rwd        NaN        coupe   \n",
      "...          ...          ...          ...   ...        ...          ...   \n",
      "426694  156000.0        clean    automatic   NaN        NaN          NaN   \n",
      "426716   21300.0        clean    automatic   4wd  full-size        truck   \n",
      "426778   11349.0        clean    automatic   4wd  full-size        truck   \n",
      "426810   99470.0        clean    automatic   4wd        NaN          NaN   \n",
      "426840   73000.0        clean    automatic   NaN        NaN          NaN   \n",
      "\n",
      "       paint_color state  \n",
      "204          white    al  \n",
      "280            NaN    al  \n",
      "346            red    al  \n",
      "365           grey    al  \n",
      "461         orange    al  \n",
      "...            ...   ...  \n",
      "426694         NaN    wy  \n",
      "426716        blue    wy  \n",
      "426778       white    wy  \n",
      "426810       black    wy  \n",
      "426840         NaN    wy  \n",
      "\n",
      "[7741 rows x 14 columns]\n"
     ]
    }
   ],
   "source": [
    "outliers_df = find_outliers(df, 'price')\n",
    "print(outliers_df)"
   ]
  },
  {
   "cell_type": "code",
   "execution_count": 21,
   "metadata": {
    "colab": {
     "base_uri": "https://localhost:8080/"
    },
    "id": "cU9HvPsHsYv0",
    "outputId": "cc88230e-a02d-4b3e-d02f-e310be238379"
   },
   "outputs": [
    {
     "name": "stdout",
     "output_type": "stream",
     "text": [
      "The 5th percentile :  2300.0\n",
      "The 95th percentile :  45000.0\n"
     ]
    }
   ],
   "source": [
    "# checking for values in 5th percentile and 95th percentile\n",
    "percentile_5 = df['price'].quantile(0.05)\n",
    "percentile_95 = df['price'].quantile(0.95)\n",
    "\n",
    "print(\"The 5th percentile : \", percentile_5)\n",
    "print(\"The 95th percentile : \", percentile_95)"
   ]
  },
  {
   "cell_type": "markdown",
   "metadata": {
    "id": "X8TNTMaGtShi"
   },
   "source": [
    "The 95th percentile value is too low. That means majority of data lies from USD 1000 to  USD 50,000. But we have some of the car values in millions."
   ]
  },
  {
   "cell_type": "code",
   "execution_count": 22,
   "metadata": {
    "colab": {
     "base_uri": "https://localhost:8080/"
    },
    "id": "WWJTEXTdtQ37",
    "outputId": "9c339a42-0e62-4350-863a-3a4fcbb0d32f"
   },
   "outputs": [
    {
     "name": "stdout",
     "output_type": "stream",
     "text": [
      "            price    year manufacturer condition    cylinders    fuel  \\\n",
      "204         58977  2019.0          gmc       NaN          NaN     gas   \n",
      "280     987654321  1960.0    chevrolet       NaN          NaN     gas   \n",
      "346         98900  2001.0      ferrari      good  8 cylinders     gas   \n",
      "365         72900  2021.0    chevrolet      good  8 cylinders     gas   \n",
      "461         99950  2021.0    chevrolet       NaN          NaN     gas   \n",
      "...           ...     ...          ...       ...          ...     ...   \n",
      "426694      59900  2014.0         ford       NaN          NaN  diesel   \n",
      "426716      65950  2020.0         ford  like new  8 cylinders  diesel   \n",
      "426778      65995  2020.0          gmc      good  8 cylinders     gas   \n",
      "426810      58995  2017.0          gmc       NaN  8 cylinders  diesel   \n",
      "426840      65999  2017.0          NaN       NaN          NaN  diesel   \n",
      "\n",
      "        odometer title_status transmission drive       size         type  \\\n",
      "204      66368.0        clean    automatic   4wd        NaN          NaN   \n",
      "280     999999.0        clean       manual   NaN        NaN          NaN   \n",
      "346      20187.0        clean    automatic   rwd   mid-size  convertible   \n",
      "365      19129.0        clean    automatic   4wd  full-size          SUV   \n",
      "461        510.0        clean    automatic   rwd        NaN        coupe   \n",
      "...          ...          ...          ...   ...        ...          ...   \n",
      "426694  156000.0        clean    automatic   NaN        NaN          NaN   \n",
      "426716   21300.0        clean    automatic   4wd  full-size        truck   \n",
      "426778   11349.0        clean    automatic   4wd  full-size        truck   \n",
      "426810   99470.0        clean    automatic   4wd        NaN          NaN   \n",
      "426840   73000.0        clean    automatic   NaN        NaN          NaN   \n",
      "\n",
      "       paint_color state  \n",
      "204          white    al  \n",
      "280            NaN    al  \n",
      "346            red    al  \n",
      "365           grey    al  \n",
      "461         orange    al  \n",
      "...            ...   ...  \n",
      "426694         NaN    wy  \n",
      "426716        blue    wy  \n",
      "426778       white    wy  \n",
      "426810       black    wy  \n",
      "426840         NaN    wy  \n",
      "\n",
      "[7741 rows x 14 columns]\n"
     ]
    }
   ],
   "source": [
    "# prompt: find the records pwhere price > 58,508\n",
    "\n",
    "outliers_price = df[df['price'] > 58508]\n",
    "print(outliers_price)\n"
   ]
  },
  {
   "cell_type": "markdown",
   "metadata": {
    "id": "dS_3SNbGt58b"
   },
   "source": [
    "from the data itself we can see this is false information poised on Craigslist website from where the data was scraped."
   ]
  },
  {
   "cell_type": "code",
   "execution_count": 23,
   "metadata": {
    "id": "weIkTC2quMP_"
   },
   "outputs": [],
   "source": [
    "# prompt: remove the record where  the price > 58508\n",
    "\n",
    "df = df[df['price'] < 58508]\n"
   ]
  },
  {
   "cell_type": "code",
   "execution_count": 24,
   "metadata": {
    "colab": {
     "base_uri": "https://localhost:8080/"
    },
    "id": "QiEnth3qgp2z",
    "outputId": "90979cbe-4981-4fff-9273-8a804c639485"
   },
   "outputs": [
    {
     "data": {
      "text/plain": [
       "(382895, 14)"
      ]
     },
     "execution_count": 24,
     "metadata": {},
     "output_type": "execute_result"
    }
   ],
   "source": [
    "df.shape"
   ]
  },
  {
   "cell_type": "code",
   "execution_count": 25,
   "metadata": {
    "colab": {
     "base_uri": "https://localhost:8080/",
     "height": 466
    },
    "id": "c9knE5s_vWSc",
    "outputId": "abeb85c4-a15f-4680-9d4e-4ed6fad706d6"
   },
   "outputs": [
    {
     "data": {
      "text/plain": [
       "<Axes: xlabel='price'>"
      ]
     },
     "execution_count": 25,
     "metadata": {},
     "output_type": "execute_result"
    },
    {
     "data": {
      "image/png": "[encoded data removed]",
      "text/plain": [
       "<Figure size 640x480 with 1 Axes>"
      ]
     },
     "metadata": {},
     "output_type": "display_data"
    }
   ],
   "source": [
    "sns.boxplot(x=df['price'])"
   ]
  },
  {
   "cell_type": "code",
   "execution_count": 26,
   "metadata": {
    "id": "GIhPnui_keWB"
   },
   "outputs": [],
   "source": [
    "# applying log transformation on price\n",
    "\n",
    "# import numpy as np\n",
    "# # Apply log transformation on price\n",
    "# df['price'] = np.log(df['price'])\n",
    "\n",
    "# # # Inverse transformation\n",
    "# # def inverse_log_transform(log_price):\n",
    "# #   return np.exp(log_price)\n"
   ]
  },
  {
   "cell_type": "code",
   "execution_count": 27,
   "metadata": {
    "colab": {
     "base_uri": "https://localhost:8080/",
     "height": 466
    },
    "id": "bLdgHxTViLHg",
    "outputId": "505f5ccb-7597-417a-a929-755c2cadf78d"
   },
   "outputs": [],
   "source": [
    "# sns.boxplot(x=df['price'])"
   ]
  },
  {
   "cell_type": "code",
   "execution_count": 28,
   "metadata": {
    "colab": {
     "base_uri": "https://localhost:8080/",
     "height": 449
    },
    "id": "Ty6eUOs6c_ed",
    "outputId": "07bc2480-95d8-477e-e7de-726aa867e7e2"
   },
   "outputs": [
    {
     "data": {
      "image/png": "[encoded data removed]",
      "text/plain": [
       "<Figure size 640x480 with 1 Axes>"
      ]
     },
     "metadata": {},
     "output_type": "display_data"
    }
   ],
   "source": [
    "# histogram of price column\n",
    "\n",
    "import matplotlib.pyplot as plt\n",
    "sns.histplot(df['price'], bins=10)\n",
    "plt.show()\n"
   ]
  },
  {
   "cell_type": "code",
   "execution_count": 29,
   "metadata": {
    "id": "VDi2EXI5dkPV"
   },
   "outputs": [],
   "source": [
    "# prompt: make the price  gaussian distribution\n",
    "\n",
    "# import matplotlib.pyplot as plt\n",
    "# # Import necessary libraries\n",
    "# import numpy as np\n",
    "\n",
    "# # Apply Box-Cox transformation to normalize the price data\n",
    "# df['price'], lambda_value = stats.boxcox(df['price'])\n",
    "\n",
    "# # Check the distribution of the transformed price data\n",
    "# sns.histplot(df['price'], bins=10)\n",
    "# plt.show()\n"
   ]
  },
  {
   "cell_type": "markdown",
   "metadata": {
    "id": "lbH5oi3UzMmf"
   },
   "source": [
    "### Analysis on numerical columns"
   ]
  },
  {
   "cell_type": "code",
   "execution_count": 30,
   "metadata": {
    "colab": {
     "base_uri": "https://localhost:8080/"
    },
    "id": "YDH5r67qGmwn",
    "outputId": "db2c2595-b430-4ce7-d58f-46af9fcdeac4"
   },
   "outputs": [
    {
     "name": "stdout",
     "output_type": "stream",
     "text": [
      "Index(['price', 'year', 'odometer'], dtype='object')\n"
     ]
    }
   ],
   "source": [
    "# prompt: find all the columns  that is not object type\n",
    "\n",
    "numerical_cols = df.select_dtypes(exclude='object').columns\n",
    "print(numerical_cols)\n"
   ]
  },
  {
   "cell_type": "markdown",
   "metadata": {
    "id": "-bs_wRR2fgPY"
   },
   "source": [
    "#### Analysis on year"
   ]
  },
  {
   "cell_type": "code",
   "execution_count": 31,
   "metadata": {
    "colab": {
     "base_uri": "https://localhost:8080/",
     "height": 244
    },
    "id": "H6TDHBKU-YBD",
    "outputId": "60bf8488-a768-4410-dd39-175553a3b1f7"
   },
   "outputs": [
    {
     "data": {
      "text/html": [
       "<div>\n",
       "<style scoped>\n",
       "    .dataframe tbody tr th:only-of-type {\n",
       "        vertical-align: middle;\n",
       "    }\n",
       "\n",
       "    .dataframe tbody tr th {\n",
       "        vertical-align: top;\n",
       "    }\n",
       "\n",
       "    .dataframe thead th {\n",
       "        text-align: right;\n",
       "    }\n",
       "</style>\n",
       "<table border=\"1\" class=\"dataframe\">\n",
       "  <thead>\n",
       "    <tr style=\"text-align: right;\">\n",
       "      <th></th>\n",
       "      <th>price</th>\n",
       "      <th>year</th>\n",
       "      <th>manufacturer</th>\n",
       "      <th>condition</th>\n",
       "      <th>cylinders</th>\n",
       "      <th>fuel</th>\n",
       "      <th>odometer</th>\n",
       "      <th>title_status</th>\n",
       "      <th>transmission</th>\n",
       "      <th>drive</th>\n",
       "      <th>size</th>\n",
       "      <th>type</th>\n",
       "      <th>paint_color</th>\n",
       "      <th>state</th>\n",
       "    </tr>\n",
       "  </thead>\n",
       "  <tbody>\n",
       "    <tr>\n",
       "      <th>27</th>\n",
       "      <td>33590</td>\n",
       "      <td>9.0</td>\n",
       "      <td>gmc</td>\n",
       "      <td>good</td>\n",
       "      <td>8 cylinders</td>\n",
       "      <td>gas</td>\n",
       "      <td>57923.0</td>\n",
       "      <td>clean</td>\n",
       "      <td>other</td>\n",
       "      <td>NaN</td>\n",
       "      <td>NaN</td>\n",
       "      <td>pickup</td>\n",
       "      <td>white</td>\n",
       "      <td>al</td>\n",
       "    </tr>\n",
       "    <tr>\n",
       "      <th>28</th>\n",
       "      <td>22590</td>\n",
       "      <td>13.0</td>\n",
       "      <td>chevrolet</td>\n",
       "      <td>good</td>\n",
       "      <td>8 cylinders</td>\n",
       "      <td>gas</td>\n",
       "      <td>71229.0</td>\n",
       "      <td>clean</td>\n",
       "      <td>other</td>\n",
       "      <td>NaN</td>\n",
       "      <td>NaN</td>\n",
       "      <td>pickup</td>\n",
       "      <td>blue</td>\n",
       "      <td>al</td>\n",
       "    </tr>\n",
       "    <tr>\n",
       "      <th>29</th>\n",
       "      <td>39590</td>\n",
       "      <td>3.0</td>\n",
       "      <td>chevrolet</td>\n",
       "      <td>good</td>\n",
       "      <td>8 cylinders</td>\n",
       "      <td>gas</td>\n",
       "      <td>19160.0</td>\n",
       "      <td>clean</td>\n",
       "      <td>other</td>\n",
       "      <td>NaN</td>\n",
       "      <td>NaN</td>\n",
       "      <td>pickup</td>\n",
       "      <td>red</td>\n",
       "      <td>al</td>\n",
       "    </tr>\n",
       "    <tr>\n",
       "      <th>30</th>\n",
       "      <td>30990</td>\n",
       "      <td>6.0</td>\n",
       "      <td>toyota</td>\n",
       "      <td>good</td>\n",
       "      <td>8 cylinders</td>\n",
       "      <td>gas</td>\n",
       "      <td>41124.0</td>\n",
       "      <td>clean</td>\n",
       "      <td>other</td>\n",
       "      <td>NaN</td>\n",
       "      <td>NaN</td>\n",
       "      <td>pickup</td>\n",
       "      <td>red</td>\n",
       "      <td>al</td>\n",
       "    </tr>\n",
       "    <tr>\n",
       "      <th>31</th>\n",
       "      <td>15000</td>\n",
       "      <td>10.0</td>\n",
       "      <td>ford</td>\n",
       "      <td>excellent</td>\n",
       "      <td>6 cylinders</td>\n",
       "      <td>gas</td>\n",
       "      <td>128000.0</td>\n",
       "      <td>clean</td>\n",
       "      <td>automatic</td>\n",
       "      <td>rwd</td>\n",
       "      <td>full-size</td>\n",
       "      <td>truck</td>\n",
       "      <td>black</td>\n",
       "      <td>al</td>\n",
       "    </tr>\n",
       "  </tbody>\n",
       "</table>\n",
       "</div>"
      ],
      "text/plain": [
       "    price  year manufacturer  condition    cylinders fuel  odometer  \\\n",
       "27  33590   9.0          gmc       good  8 cylinders  gas   57923.0   \n",
       "28  22590  13.0    chevrolet       good  8 cylinders  gas   71229.0   \n",
       "29  39590   3.0    chevrolet       good  8 cylinders  gas   19160.0   \n",
       "30  30990   6.0       toyota       good  8 cylinders  gas   41124.0   \n",
       "31  15000  10.0         ford  excellent  6 cylinders  gas  128000.0   \n",
       "\n",
       "   title_status transmission drive       size    type paint_color state  \n",
       "27        clean        other   NaN        NaN  pickup       white    al  \n",
       "28        clean        other   NaN        NaN  pickup        blue    al  \n",
       "29        clean        other   NaN        NaN  pickup         red    al  \n",
       "30        clean        other   NaN        NaN  pickup         red    al  \n",
       "31        clean    automatic   rwd  full-size   truck       black    al  "
      ]
     },
     "execution_count": 31,
     "metadata": {},
     "output_type": "execute_result"
    }
   ],
   "source": [
    "# substract the year column by year 2023 and rewrite the year column in df\n",
    "\n",
    "df['year'] = 2023 - df['year']\n",
    "df.head()"
   ]
  },
  {
   "cell_type": "code",
   "execution_count": 32,
   "metadata": {
    "colab": {
     "base_uri": "https://localhost:8080/"
    },
    "id": "D6lV5N50cFhg",
    "outputId": "37822102-2252-4e42-faf3-07f783ed12ed"
   },
   "outputs": [
    {
     "name": "stdout",
     "output_type": "stream",
     "text": [
      "Number of outliers in year: 14915\n",
      "The lower bound in year: -7.5\n",
      "The upper bound in year: 28.5\n",
      "        price   year   manufacturer  condition    cylinders fuel  odometer  \\\n",
      "37       4500   31.0           jeep  excellent  6 cylinders  gas  192000.0   \n",
      "101     12990   55.0          volvo        NaN          NaN  gas   99999.0   \n",
      "137      2500   57.0            NaN       good  6 cylinders  gas   47000.0   \n",
      "208      2500   47.0      chevrolet        NaN          NaN  gas     100.0   \n",
      "210      1300   54.0  mercedes-benz        NaN          NaN  gas   12774.0   \n",
      "...       ...    ...            ...        ...          ...  ...       ...   \n",
      "426729  20000   72.0           jeep   like new  4 cylinders  gas   14409.0   \n",
      "426762   7000   41.0          mazda  excellent        other  gas   80000.0   \n",
      "426809  18000   33.0           jeep       good  8 cylinders  gas  114400.0   \n",
      "426831   9800   38.0         nissan   like new  6 cylinders  gas  115000.0   \n",
      "426838  21900  103.0            NaN       good  6 cylinders  gas   11065.0   \n",
      "\n",
      "       title_status transmission drive         size       type paint_color  \\\n",
      "37            clean    automatic   4wd          NaN        NaN         NaN   \n",
      "101           clean       manual   NaN          NaN        NaN         NaN   \n",
      "137           clean       manual   rwd    full-size     pickup       brown   \n",
      "208           clean    automatic   NaN          NaN        NaN         NaN   \n",
      "210           clean    automatic   NaN          NaN        NaN         NaN   \n",
      "...             ...          ...   ...          ...        ...         ...   \n",
      "426729        clean       manual   4wd     mid-size      other         red   \n",
      "426762        clean    automatic   rwd  sub-compact      coupe       brown   \n",
      "426809        clean    automatic   4wd    full-size        SUV       black   \n",
      "426831        clean    automatic   rwd  sub-compact  hatchback         red   \n",
      "426838        clean       manual   rwd    full-size      other       black   \n",
      "\n",
      "       state  \n",
      "37        al  \n",
      "101       al  \n",
      "137       al  \n",
      "208       al  \n",
      "210       al  \n",
      "...      ...  \n",
      "426729    wy  \n",
      "426762    wy  \n",
      "426809    wy  \n",
      "426831    wy  \n",
      "426838    wy  \n",
      "\n",
      "[14915 rows x 14 columns]\n"
     ]
    }
   ],
   "source": [
    "outliers_df = find_outliers(df, 'year')\n",
    "print(outliers_df)"
   ]
  },
  {
   "cell_type": "code",
   "execution_count": 33,
   "metadata": {
    "colab": {
     "base_uri": "https://localhost:8080/",
     "height": 466
    },
    "id": "J9_13XKYchIt",
    "outputId": "fa98d2f3-7149-4a15-b2d0-14dfd3abd57d"
   },
   "outputs": [
    {
     "data": {
      "text/plain": [
       "<Axes: xlabel='year'>"
      ]
     },
     "execution_count": 33,
     "metadata": {},
     "output_type": "execute_result"
    },
    {
     "data": {
      "image/png": "[encoded data removed]",
      "text/plain": [
       "<Figure size 640x480 with 1 Axes>"
      ]
     },
     "metadata": {},
     "output_type": "display_data"
    }
   ],
   "source": [
    "sns.boxplot(x=df['year'])"
   ]
  },
  {
   "cell_type": "code",
   "execution_count": 34,
   "metadata": {
    "colab": {
     "base_uri": "https://localhost:8080/"
    },
    "id": "dlyXroQdc5h6",
    "outputId": "3d964524-790f-4709-9145-d34d976a061f"
   },
   "outputs": [
    {
     "name": "stdout",
     "output_type": "stream",
     "text": [
      "The 5th percentile :  4.0\n",
      "The 95th percentile :  25.0\n"
     ]
    }
   ],
   "source": [
    "# checking for values in 5th percentile and 95th percentile\n",
    "percentile_5 = df['year'].quantile(0.05)\n",
    "percentile_95 = df['year'].quantile(0.95)\n",
    "\n",
    "print(\"The 5th percentile : \", percentile_5)\n",
    "print(\"The 95th percentile : \", percentile_95)"
   ]
  },
  {
   "cell_type": "markdown",
   "metadata": {
    "id": "GEn0_90IeFnm"
   },
   "source": [
    "+ the 95th percentile starts from 24 years and IQR outlier range starts from 30 years. So we need to find the closed percentile so we can use Winsorization to replace the extreme highs."
   ]
  },
  {
   "cell_type": "code",
   "execution_count": 35,
   "metadata": {
    "id": "052HWhgtc5fJ"
   },
   "outputs": [],
   "source": [
    "# remove the record where  the year > 30 years\n",
    "\n",
    "df = df[df['year'] <= 30]"
   ]
  },
  {
   "cell_type": "markdown",
   "metadata": {
    "id": "aPnSFBDLfb56"
   },
   "source": [
    "#### Analysis on odometer"
   ]
  },
  {
   "cell_type": "code",
   "execution_count": 36,
   "metadata": {
    "id": "88QOJHa_fRwV"
   },
   "outputs": [],
   "source": [
    "# remove records for odometer less than 100 from df\n",
    "\n",
    "df = df[df['odometer'] > 100]\n"
   ]
  },
  {
   "cell_type": "code",
   "execution_count": 37,
   "metadata": {
    "colab": {
     "base_uri": "https://localhost:8080/",
     "height": 574
    },
    "id": "7ErYao0wzFns",
    "outputId": "d6a7ef36-58b5-4681-bfe4-45e55e248eb3"
   },
   "outputs": [
    {
     "data": {
      "image/png": "[encoded data removed]",
      "text/plain": [
       "<Figure size 2500x1500 with 1 Axes>"
      ]
     },
     "metadata": {},
     "output_type": "display_data"
    }
   ],
   "source": [
    "df=df.sort_values(by=['odometer'],ascending=False)\n",
    "plt.figure(figsize=(25,15))\n",
    "sns.barplot(x=df.manufacturer, y=df.odometer)\n",
    "plt.xticks(rotation= 90)\n",
    "plt.xlabel('Manufacturer')\n",
    "plt.ylabel('Odometer')\n",
    "plt.show()"
   ]
  },
  {
   "cell_type": "code",
   "execution_count": 38,
   "metadata": {
    "colab": {
     "base_uri": "https://localhost:8080/",
     "height": 466
    },
    "id": "oAfKbnYczdkg",
    "outputId": "48b31a64-15ed-461c-fba3-588e5679304e"
   },
   "outputs": [
    {
     "data": {
      "text/plain": [
       "<Axes: xlabel='odometer'>"
      ]
     },
     "execution_count": 38,
     "metadata": {},
     "output_type": "execute_result"
    },
    {
     "data": {
      "image/png": "[encoded data removed]",
      "text/plain": [
       "<Figure size 640x480 with 1 Axes>"
      ]
     },
     "metadata": {},
     "output_type": "display_data"
    }
   ],
   "source": [
    "# find presence of outlier in odometer column in df\n",
    "\n",
    "sns.boxplot(x=df['odometer'])\n"
   ]
  },
  {
   "cell_type": "code",
   "execution_count": 39,
   "metadata": {
    "colab": {
     "base_uri": "https://localhost:8080/"
    },
    "id": "dZICqDUKp4KD",
    "outputId": "0a94d8e0-bd71-4b03-d042-3885515e227d"
   },
   "outputs": [
    {
     "name": "stdout",
     "output_type": "stream",
     "text": [
      "Number of outliers in odometer: 3139\n",
      "The lower bound in odometer: -104132.5\n",
      "The upper bound in odometer: 283279.5\n",
      "        price  year manufacturer  condition    cylinders    fuel    odometer  \\\n",
      "109793    450  23.0         ford        NaN          NaN     gas  10000000.0   \n",
      "106192    500  13.0    chevrolet        NaN          NaN     gas  10000000.0   \n",
      "109840    450  23.0         ford        NaN          NaN     gas  10000000.0   \n",
      "108102    450  23.0         ford        NaN          NaN     gas  10000000.0   \n",
      "144436   4500  13.0         ford       good  4 cylinders     gas  10000000.0   \n",
      "...       ...   ...          ...        ...          ...     ...         ...   \n",
      "125825   7500  21.0        lexus       good  8 cylinders     gas    283400.0   \n",
      "59268    8000  30.0        lexus  excellent  6 cylinders     gas    283400.0   \n",
      "484     11500  15.0         ford       good  8 cylinders  diesel    283356.0   \n",
      "211743  11500  20.0          ram       good  6 cylinders  diesel    283324.0   \n",
      "372942  12995  15.0    chevrolet  excellent  8 cylinders     gas    283295.0   \n",
      "\n",
      "       title_status transmission drive       size         type paint_color  \\\n",
      "109793        clean    automatic   NaN        NaN          NaN         NaN   \n",
      "106192        clean    automatic   NaN        NaN          NaN         NaN   \n",
      "109840        clean    automatic   NaN        NaN          NaN         NaN   \n",
      "108102        clean    automatic   NaN        NaN          NaN         NaN   \n",
      "144436        clean    automatic   NaN        NaN        sedan         red   \n",
      "...             ...          ...   ...        ...          ...         ...   \n",
      "125825        clean    automatic   rwd    compact  convertible      silver   \n",
      "59268         clean       manual   rwd        NaN          NaN       black   \n",
      "484           clean    automatic   rwd  full-size       pickup       white   \n",
      "211743        clean    automatic   4wd  full-size        truck        blue   \n",
      "372942        clean    automatic   rwd  full-size          NaN       white   \n",
      "\n",
      "       state  \n",
      "109793    fl  \n",
      "106192    fl  \n",
      "109840    fl  \n",
      "108102    fl  \n",
      "144436    il  \n",
      "...      ...  \n",
      "125825    ga  \n",
      "59268     ca  \n",
      "484       al  \n",
      "211743    mn  \n",
      "372942    tx  \n",
      "\n",
      "[3139 rows x 14 columns]\n"
     ]
    }
   ],
   "source": [
    "outliers_df = find_outliers(df, 'odometer')\n",
    "print(outliers_df)"
   ]
  },
  {
   "cell_type": "code",
   "execution_count": 40,
   "metadata": {
    "colab": {
     "base_uri": "https://localhost:8080/"
    },
    "id": "Pgr9PbyNAI-8",
    "outputId": "fe26559a-f6ae-4e36-bcd4-4a3f20a4eb0e"
   },
   "outputs": [
    {
     "name": "stdout",
     "output_type": "stream",
     "text": [
      "The 5th percentile :  10157.0\n",
      "The 95th percentile :  206111.0\n"
     ]
    }
   ],
   "source": [
    "# checking for values in 5th percentile and 95th percentile\n",
    "percentile_5 = df['odometer'].quantile(0.05)\n",
    "percentile_95 = df['odometer'].quantile(0.95)\n",
    "\n",
    "print(\"The 5th percentile : \", percentile_5)\n",
    "print(\"The 95th percentile : \", percentile_95)"
   ]
  },
  {
   "cell_type": "markdown",
   "metadata": {
    "id": "Vfl0uhDAD2Iw"
   },
   "source": [
    "Findings:\n",
    "\n",
    "+ There is no outliers on extreme low.\n",
    "+ The 95th percentile starts from 206000 km but outlier through IQR starts from aprrox. 284000 km. So we will match the percentile and outlier and then apply Winsorization only to the upper extreme values.  Winsorization is a method that replaces extreme values with less extreme values."
   ]
  },
  {
   "cell_type": "code",
   "execution_count": 41,
   "metadata": {
    "id": "-uz4dd-4Eko6"
   },
   "outputs": [],
   "source": [
    "# remove the record where  the odometer > 284000 years\n",
    "\n",
    "df = df[df['odometer'] <= 284000]\n"
   ]
  },
  {
   "cell_type": "code",
   "execution_count": 42,
   "metadata": {
    "colab": {
     "base_uri": "https://localhost:8080/",
     "height": 300
    },
    "id": "Qfd3d54jFmHY",
    "outputId": "109800c3-31c1-408d-e65d-fab85d25fbc1"
   },
   "outputs": [
    {
     "data": {
      "text/html": [
       "<div>\n",
       "<style scoped>\n",
       "    .dataframe tbody tr th:only-of-type {\n",
       "        vertical-align: middle;\n",
       "    }\n",
       "\n",
       "    .dataframe tbody tr th {\n",
       "        vertical-align: top;\n",
       "    }\n",
       "\n",
       "    .dataframe thead th {\n",
       "        text-align: right;\n",
       "    }\n",
       "</style>\n",
       "<table border=\"1\" class=\"dataframe\">\n",
       "  <thead>\n",
       "    <tr style=\"text-align: right;\">\n",
       "      <th></th>\n",
       "      <th>price</th>\n",
       "      <th>year</th>\n",
       "      <th>odometer</th>\n",
       "    </tr>\n",
       "  </thead>\n",
       "  <tbody>\n",
       "    <tr>\n",
       "      <th>count</th>\n",
       "      <td>359441.000000</td>\n",
       "      <td>359441.000000</td>\n",
       "      <td>359441.000000</td>\n",
       "    </tr>\n",
       "    <tr>\n",
       "      <th>mean</th>\n",
       "      <td>18146.540256</td>\n",
       "      <td>10.659953</td>\n",
       "      <td>93881.098959</td>\n",
       "    </tr>\n",
       "    <tr>\n",
       "      <th>std</th>\n",
       "      <td>12729.266441</td>\n",
       "      <td>5.585235</td>\n",
       "      <td>60540.167466</td>\n",
       "    </tr>\n",
       "    <tr>\n",
       "      <th>min</th>\n",
       "      <td>100.000000</td>\n",
       "      <td>1.000000</td>\n",
       "      <td>101.000000</td>\n",
       "    </tr>\n",
       "    <tr>\n",
       "      <th>25%</th>\n",
       "      <td>7500.000000</td>\n",
       "      <td>6.000000</td>\n",
       "      <td>40903.000000</td>\n",
       "    </tr>\n",
       "    <tr>\n",
       "      <th>50%</th>\n",
       "      <td>15499.000000</td>\n",
       "      <td>10.000000</td>\n",
       "      <td>90000.000000</td>\n",
       "    </tr>\n",
       "    <tr>\n",
       "      <th>75%</th>\n",
       "      <td>26995.000000</td>\n",
       "      <td>14.000000</td>\n",
       "      <td>136664.000000</td>\n",
       "    </tr>\n",
       "    <tr>\n",
       "      <th>max</th>\n",
       "      <td>58500.000000</td>\n",
       "      <td>30.000000</td>\n",
       "      <td>284000.000000</td>\n",
       "    </tr>\n",
       "  </tbody>\n",
       "</table>\n",
       "</div>"
      ],
      "text/plain": [
       "               price           year       odometer\n",
       "count  359441.000000  359441.000000  359441.000000\n",
       "mean    18146.540256      10.659953   93881.098959\n",
       "std     12729.266441       5.585235   60540.167466\n",
       "min       100.000000       1.000000     101.000000\n",
       "25%      7500.000000       6.000000   40903.000000\n",
       "50%     15499.000000      10.000000   90000.000000\n",
       "75%     26995.000000      14.000000  136664.000000\n",
       "max     58500.000000      30.000000  284000.000000"
      ]
     },
     "execution_count": 42,
     "metadata": {},
     "output_type": "execute_result"
    }
   ],
   "source": [
    "df.describe()"
   ]
  },
  {
   "cell_type": "code",
   "execution_count": 43,
   "metadata": {
    "colab": {
     "base_uri": "https://localhost:8080/",
     "height": 466
    },
    "id": "x6X6_TO5F-qb",
    "outputId": "4f928fea-df61-4be7-b7e1-d407c711c3fb"
   },
   "outputs": [
    {
     "data": {
      "text/plain": [
       "<Axes: xlabel='odometer'>"
      ]
     },
     "execution_count": 43,
     "metadata": {},
     "output_type": "execute_result"
    },
    {
     "data": {
      "image/png": "[encoded data removed]",
      "text/plain": [
       "<Figure size 640x480 with 1 Axes>"
      ]
     },
     "metadata": {},
     "output_type": "display_data"
    }
   ],
   "source": [
    "\n",
    "sns.boxplot(x=df['odometer'])"
   ]
  },
  {
   "cell_type": "code",
   "execution_count": 44,
   "metadata": {
    "colab": {
     "base_uri": "https://localhost:8080/"
    },
    "id": "Doy1aEwd_pdo",
    "outputId": "de8d7bdb-61e5-4cc9-f6f7-50ee78a52316"
   },
   "outputs": [
    {
     "name": "stdout",
     "output_type": "stream",
     "text": [
      "Number of missing values in odometer: 0\n"
     ]
    }
   ],
   "source": [
    "# find missing values in odometer\n",
    "\n",
    "missing_odometer = df['odometer'].isnull().sum()\n",
    "print(f\"Number of missing values in odometer: {missing_odometer}\")\n"
   ]
  },
  {
   "cell_type": "markdown",
   "metadata": {
    "id": "MGo3z2dpGOG8"
   },
   "source": [
    "### Analysis on Categorical Columns"
   ]
  },
  {
   "cell_type": "markdown",
   "metadata": {
    "id": "y4LXMXgiFDVd"
   },
   "source": [
    "#### Analysis on cylinders column"
   ]
  },
  {
   "cell_type": "code",
   "execution_count": 45,
   "metadata": {
    "id": "qwyLyKs__ya_"
   },
   "outputs": [],
   "source": [
    "# Replace 'cylinders ' from string values in the 'cylinders' column\n",
    "df['cylinders'] = df['cylinders'].apply(lambda x: x.replace(' cylinders', '') if isinstance(x, str) else x)"
   ]
  },
  {
   "cell_type": "code",
   "execution_count": 46,
   "metadata": {
    "colab": {
     "base_uri": "https://localhost:8080/"
    },
    "id": "G3aN5YXxEcO9",
    "outputId": "25c82a5d-0521-45d4-f9f2-1478ff4fce4d"
   },
   "outputs": [
    {
     "data": {
      "text/plain": [
       "array(['4', '6', nan, '8', '10', '5', 'other', '3', '12'], dtype=object)"
      ]
     },
     "execution_count": 46,
     "metadata": {},
     "output_type": "execute_result"
    }
   ],
   "source": [
    "# find unique values of cylinders column\n",
    "\n",
    "df['cylinders'].unique()\n"
   ]
  },
  {
   "cell_type": "code",
   "execution_count": 47,
   "metadata": {
    "id": "8s892eTJErCQ"
   },
   "outputs": [],
   "source": [
    "# change 'others' in cylinders column to nan\n",
    "\n",
    "df['cylinders'] = df['cylinders'].replace('other', np.nan)\n"
   ]
  },
  {
   "cell_type": "code",
   "execution_count": 48,
   "metadata": {
    "colab": {
     "base_uri": "https://localhost:8080/"
    },
    "id": "R2hi0TM_E2M6",
    "outputId": "ca73fa65-1af9-413a-a213-4c266744263b"
   },
   "outputs": [
    {
     "data": {
      "text/plain": [
       "array(['4', '6', nan, '8', '10', '5', '3', '12'], dtype=object)"
      ]
     },
     "execution_count": 48,
     "metadata": {},
     "output_type": "execute_result"
    }
   ],
   "source": [
    "df['cylinders'].unique()"
   ]
  },
  {
   "cell_type": "code",
   "execution_count": 49,
   "metadata": {
    "id": "CvINfACWCmwh"
   },
   "outputs": [],
   "source": [
    "# code to replace object type into int type in cylinders column without touching missing values\n",
    "\n",
    "df['cylinders'] = df['cylinders'].apply(pd.to_numeric, errors='ignore')\n"
   ]
  },
  {
   "cell_type": "code",
   "execution_count": 50,
   "metadata": {
    "colab": {
     "base_uri": "https://localhost:8080/"
    },
    "id": "2MFZeIyFuiGb",
    "outputId": "4a63c7c5-a965-47ca-80cd-ed2f9bea8e6b"
   },
   "outputs": [
    {
     "data": {
      "text/plain": [
       "array([ 4.,  6., nan,  8., 10.,  5.,  3., 12.])"
      ]
     },
     "execution_count": 50,
     "metadata": {},
     "output_type": "execute_result"
    }
   ],
   "source": [
    "df['cylinders'].unique()"
   ]
  },
  {
   "cell_type": "markdown",
   "metadata": {
    "id": "rYJ5qNCDOSIk"
   },
   "source": [
    "#### Analysis on manufacturer"
   ]
  },
  {
   "cell_type": "code",
   "execution_count": 51,
   "metadata": {
    "colab": {
     "base_uri": "https://localhost:8080/"
    },
    "id": "6-OgfBXBORnv",
    "outputId": "d839e142-6d9b-4305-ce1a-f16251a72cf1"
   },
   "outputs": [
    {
     "name": "stdout",
     "output_type": "stream",
     "text": [
      "manufacturer\n",
      "ford               58254\n",
      "chevrolet          44232\n",
      "toyota             30054\n",
      "honda              19215\n",
      "nissan             16836\n",
      "jeep               16205\n",
      "ram                15010\n",
      "gmc                13816\n",
      "bmw                13267\n",
      "dodge              11302\n",
      "mercedes-benz       9297\n",
      "hyundai             9138\n",
      "subaru              8772\n",
      "volkswagen          8088\n",
      "lexus               7537\n",
      "kia                 7333\n",
      "audi                6824\n",
      "cadillac            5976\n",
      "acura               5580\n",
      "chrysler            5376\n",
      "mazda               4835\n",
      "buick               4794\n",
      "infiniti            4398\n",
      "lincoln             3779\n",
      "volvo               2972\n",
      "mitsubishi          2899\n",
      "mini                2214\n",
      "rover               1786\n",
      "pontiac             1781\n",
      "jaguar              1723\n",
      "porsche             1058\n",
      "saturn              1054\n",
      "mercury              955\n",
      "alfa-romeo           802\n",
      "tesla                754\n",
      "fiat                 729\n",
      "harley-davidson      130\n",
      "aston-martin          11\n",
      "land rover            10\n",
      "ferrari                4\n",
      "morgan                 2\n",
      "Name: count, dtype: int64\n"
     ]
    }
   ],
   "source": [
    "# prompt: find the unique values in manufacturer column and its frequency\n",
    "\n",
    "manufacturer_counts = df['manufacturer'].value_counts()\n",
    "print(manufacturer_counts)\n"
   ]
  },
  {
   "cell_type": "code",
   "execution_count": 52,
   "metadata": {
    "id": "sIUAEqWlOpbe"
   },
   "outputs": [],
   "source": [
    "# removing the record if manufacturer_counts <1000 from df\n",
    "\n",
    "df = df[df['manufacturer'].isin(manufacturer_counts[manufacturer_counts > 1000].index)]\n"
   ]
  },
  {
   "cell_type": "code",
   "execution_count": 53,
   "metadata": {
    "colab": {
     "base_uri": "https://localhost:8080/"
    },
    "id": "sg0mOH5j7gEO",
    "outputId": "650b7b7b-8452-4f02-9469-79c52a490e07"
   },
   "outputs": [
    {
     "name": "stdout",
     "output_type": "stream",
     "text": [
      "['manufacturer', 'condition', 'fuel', 'title_status', 'transmission', 'drive', 'size', 'type', 'paint_color', 'state']\n"
     ]
    }
   ],
   "source": [
    "# categorical columns\n",
    "\n",
    "categorical_cols = [col for col in df.columns if df[col].dtype == 'object']\n",
    "print(categorical_cols)\n"
   ]
  },
  {
   "cell_type": "code",
   "execution_count": 54,
   "metadata": {
    "colab": {
     "base_uri": "https://localhost:8080/"
    },
    "id": "Y5WpXIimGrBe",
    "outputId": "a3aa045b-5441-4845-8776-42123a0a865b"
   },
   "outputs": [
    {
     "name": "stdout",
     "output_type": "stream",
     "text": [
      "Unique values for column 'manufacturer': ['toyota' 'chrysler' 'ford' 'chevrolet' 'volkswagen' 'ram' 'gmc'\n",
      " 'cadillac' 'lexus' 'honda' 'bmw' 'pontiac' 'buick' 'dodge' 'nissan'\n",
      " 'subaru' 'jeep' 'hyundai' 'acura' 'mitsubishi' 'mazda' 'volvo' 'saturn'\n",
      " 'mercedes-benz' 'mini' 'rover' 'lincoln' 'audi' 'infiniti' 'jaguar'\n",
      " 'porsche' 'kia']\n",
      "Unique values for column 'condition': ['excellent' 'good' nan 'fair' 'like new' 'salvage' 'new']\n",
      "Unique values for column 'fuel': ['gas' 'diesel' 'hybrid' 'other' nan 'electric']\n",
      "Unique values for column 'title_status': ['clean' 'salvage' 'rebuilt' 'missing' nan 'parts only' 'lien']\n",
      "Unique values for column 'transmission': ['automatic' 'manual' 'other' nan]\n",
      "Unique values for column 'drive': ['rwd' 'fwd' nan '4wd']\n",
      "Unique values for column 'size': ['mid-size' nan 'full-size' 'compact' 'sub-compact']\n",
      "Unique values for column 'type': ['SUV' 'mini-van' nan 'truck' 'pickup' 'sedan' 'other' 'van' 'coupe'\n",
      " 'convertible' 'hatchback' 'wagon' 'offroad' 'bus']\n",
      "Unique values for column 'paint_color': ['silver' 'blue' 'white' nan 'brown' 'black' 'grey' 'red' 'green' 'custom'\n",
      " 'yellow' 'purple' 'orange']\n",
      "Unique values for column 'state': ['ca' 'sc' 'pa' 'il' 'wi' 'az' 'or' 'mt' 'id' 'va' 'al' 'tx' 'ky' 'nc'\n",
      " 'co' 'wy' 'fl' 'oh' 'la' 'ga' 'mn' 'de' 'in' 'mi' 'wa' 'nm' 'nv' 'tn'\n",
      " 'nd' 'nj' 'ok' 'dc' 'ny' 'md' 'ms' 'mo' 'ia' 'ar' 'ks' 'me' 'ak' 'ri'\n",
      " 'ne' 'ct' 'vt' 'nh' 'sd' 'ma' 'wv' 'ut' 'hi']\n"
     ]
    }
   ],
   "source": [
    "# prompt: find the unique values of all the columns in list categorical_cols\n",
    "\n",
    "for col in categorical_cols:\n",
    "  unique_values = df[col].unique()\n",
    "  print(f\"Unique values for column '{col}': {unique_values}\")\n"
   ]
  },
  {
   "cell_type": "markdown",
   "metadata": {
    "id": "5or-9TH8NvaK"
   },
   "source": [
    "converting others into nan and later on imputting those values"
   ]
  },
  {
   "cell_type": "code",
   "execution_count": 55,
   "metadata": {
    "id": "ro1KEgZCN5y-"
   },
   "outputs": [],
   "source": [
    "# change 'other' in fuel column to nan\n",
    "\n",
    "df['fuel'] = df['fuel'].replace('other', np.nan)"
   ]
  },
  {
   "cell_type": "code",
   "execution_count": 56,
   "metadata": {
    "id": "F82AzNqPOGhP"
   },
   "outputs": [],
   "source": [
    "# change 'missing' in title_staus column to nan\n",
    "\n",
    "df['title_status'] = df['title_status'].replace('missing', np.nan)"
   ]
  },
  {
   "cell_type": "code",
   "execution_count": 57,
   "metadata": {
    "id": "j4s7E-ntUGlH"
   },
   "outputs": [],
   "source": [
    "# change 'other' in transmission column to nan\n",
    "\n",
    "df['transmission'] = df['transmission'].replace('other', np.nan)"
   ]
  },
  {
   "cell_type": "code",
   "execution_count": 58,
   "metadata": {
    "id": "h1rE3lmbORwc"
   },
   "outputs": [],
   "source": [
    "# change 'other' in type column to nan\n",
    "\n",
    "df['type'] = df['type'].replace('other', np.nan)"
   ]
  },
  {
   "cell_type": "code",
   "execution_count": 59,
   "metadata": {
    "colab": {
     "base_uri": "https://localhost:8080/"
    },
    "id": "NKGZo8YwOmnd",
    "outputId": "57ca83d4-88c1-48a8-ef7a-25081481dcbd"
   },
   "outputs": [
    {
     "name": "stdout",
     "output_type": "stream",
     "text": [
      "Unique values for column 'manufacturer': ['toyota' 'chrysler' 'ford' 'chevrolet' 'volkswagen' 'ram' 'gmc'\n",
      " 'cadillac' 'lexus' 'honda' 'bmw' 'pontiac' 'buick' 'dodge' 'nissan'\n",
      " 'subaru' 'jeep' 'hyundai' 'acura' 'mitsubishi' 'mazda' 'volvo' 'saturn'\n",
      " 'mercedes-benz' 'mini' 'rover' 'lincoln' 'audi' 'infiniti' 'jaguar'\n",
      " 'porsche' 'kia']\n",
      "Unique values for column 'condition': ['excellent' 'good' nan 'fair' 'like new' 'salvage' 'new']\n",
      "Unique values for column 'fuel': ['gas' 'diesel' 'hybrid' nan 'electric']\n",
      "Unique values for column 'title_status': ['clean' 'salvage' 'rebuilt' nan 'parts only' 'lien']\n",
      "Unique values for column 'transmission': ['automatic' 'manual' nan]\n",
      "Unique values for column 'drive': ['rwd' 'fwd' nan '4wd']\n",
      "Unique values for column 'size': ['mid-size' nan 'full-size' 'compact' 'sub-compact']\n",
      "Unique values for column 'type': ['SUV' 'mini-van' nan 'truck' 'pickup' 'sedan' 'van' 'coupe' 'convertible'\n",
      " 'hatchback' 'wagon' 'offroad' 'bus']\n",
      "Unique values for column 'paint_color': ['silver' 'blue' 'white' nan 'brown' 'black' 'grey' 'red' 'green' 'custom'\n",
      " 'yellow' 'purple' 'orange']\n",
      "Unique values for column 'state': ['ca' 'sc' 'pa' 'il' 'wi' 'az' 'or' 'mt' 'id' 'va' 'al' 'tx' 'ky' 'nc'\n",
      " 'co' 'wy' 'fl' 'oh' 'la' 'ga' 'mn' 'de' 'in' 'mi' 'wa' 'nm' 'nv' 'tn'\n",
      " 'nd' 'nj' 'ok' 'dc' 'ny' 'md' 'ms' 'mo' 'ia' 'ar' 'ks' 'me' 'ak' 'ri'\n",
      " 'ne' 'ct' 'vt' 'nh' 'sd' 'ma' 'wv' 'ut' 'hi']\n"
     ]
    }
   ],
   "source": [
    "for col in categorical_cols:\n",
    "  unique_values = df[col].unique()\n",
    "  print(f\"Unique values for column '{col}': {unique_values}\")"
   ]
  },
  {
   "cell_type": "markdown",
   "metadata": {
    "id": "vnidZK0CWj2_"
   },
   "source": [
    "### handling the missing values using KNNimputer and SimpleImputer techniques"
   ]
  },
  {
   "cell_type": "code",
   "execution_count": 60,
   "metadata": {
    "id": "KXjZAFQFZ0Vk"
   },
   "outputs": [],
   "source": [
    "# Separate features and target variable\n",
    "X = df.drop(columns=['price'])\n",
    "y = df['price']"
   ]
  },
  {
   "cell_type": "code",
   "execution_count": 61,
   "metadata": {
    "colab": {
     "base_uri": "https://localhost:8080/"
    },
    "id": "asgw4_ONyrCm",
    "outputId": "a8cf188f-e1c8-4275-d2f7-a544122caa54"
   },
   "outputs": [
    {
     "data": {
      "text/plain": [
       "(345405, 13)"
      ]
     },
     "execution_count": 61,
     "metadata": {},
     "output_type": "execute_result"
    }
   ],
   "source": [
    "X.shape"
   ]
  },
  {
   "cell_type": "code",
   "execution_count": 62,
   "metadata": {
    "colab": {
     "base_uri": "https://localhost:8080/"
    },
    "id": "QzKoksSK-opx",
    "outputId": "a7949bfa-6160-4dc1-d48f-7a3abe791845"
   },
   "outputs": [
    {
     "data": {
      "text/plain": [
       "year                 0\n",
       "manufacturer         0\n",
       "condition       132100\n",
       "cylinders       139731\n",
       "fuel             27151\n",
       "odometer             0\n",
       "title_status      6612\n",
       "transmission     57921\n",
       "drive           103488\n",
       "size            249868\n",
       "type             87856\n",
       "paint_color      99905\n",
       "state                0\n",
       "dtype: int64"
      ]
     },
     "execution_count": 62,
     "metadata": {},
     "output_type": "execute_result"
    }
   ],
   "source": [
    "X.isnull().sum()"
   ]
  },
  {
   "cell_type": "code",
   "execution_count": 63,
   "metadata": {
    "colab": {
     "base_uri": "https://localhost:8080/"
    },
    "id": "aN1VdGeHo5UI",
    "outputId": "c26d4ad8-2a5f-474a-c753-b4a2869e7dec"
   },
   "outputs": [
    {
     "name": "stdout",
     "output_type": "stream",
     "text": [
      "<class 'pandas.core.frame.DataFrame'>\n",
      "Index: 345405 entries, 28757 to 94438\n",
      "Data columns (total 13 columns):\n",
      " #   Column        Non-Null Count   Dtype  \n",
      "---  ------        --------------   -----  \n",
      " 0   year          345405 non-null  float64\n",
      " 1   manufacturer  345405 non-null  object \n",
      " 2   condition     213305 non-null  object \n",
      " 3   cylinders     205674 non-null  float64\n",
      " 4   fuel          318254 non-null  object \n",
      " 5   odometer      345405 non-null  float64\n",
      " 6   title_status  338793 non-null  object \n",
      " 7   transmission  287484 non-null  object \n",
      " 8   drive         241917 non-null  object \n",
      " 9   size          95537 non-null   object \n",
      " 10  type          257549 non-null  object \n",
      " 11  paint_color   245500 non-null  object \n",
      " 12  state         345405 non-null  object \n",
      "dtypes: float64(3), object(10)\n",
      "memory usage: 36.9+ MB\n"
     ]
    }
   ],
   "source": [
    "X.info()"
   ]
  },
  {
   "cell_type": "code",
   "execution_count": 64,
   "metadata": {
    "colab": {
     "base_uri": "https://localhost:8080/"
    },
    "id": "O_wwg2Zkov4Z",
    "outputId": "86c56d3a-192e-4ba6-e731-445225c3ed0b"
   },
   "outputs": [
    {
     "data": {
      "text/plain": [
       "(345405,)"
      ]
     },
     "execution_count": 64,
     "metadata": {},
     "output_type": "execute_result"
    }
   ],
   "source": [
    "y.shape"
   ]
  },
  {
   "cell_type": "code",
   "execution_count": 65,
   "metadata": {
    "id": "OcBd7Z7FxkjS"
   },
   "outputs": [],
   "source": [
    "#instantiate both packages to use\n",
    "encoder = OrdinalEncoder()\n",
    "imputer = KNN()\n",
    "\n",
    "def encode(data):\n",
    "    '''function to encode non-null data and replace it in the original data'''\n",
    "    #retains only non-null values\n",
    "    nonulls = np.array(data.dropna())\n",
    "    #reshapes the data for encoding\n",
    "    impute_reshape = nonulls.reshape(-1,1)\n",
    "    #encode date\n",
    "    impute_ordinal = encoder.fit_transform(impute_reshape)\n",
    "    #Assign back encoded values to non-null values\n",
    "    data.loc[data.notnull()] = np.squeeze(impute_ordinal)\n",
    "    return data\n",
    "\n",
    "#create a for loop to iterate through each column in the data\n",
    "for columns in categorical_cols:\n",
    "    encode(X[columns])"
   ]
  },
  {
   "cell_type": "code",
   "execution_count": 66,
   "metadata": {},
   "outputs": [
    {
     "data": {
      "text/html": [
       "<div>\n",
       "<style scoped>\n",
       "    .dataframe tbody tr th:only-of-type {\n",
       "        vertical-align: middle;\n",
       "    }\n",
       "\n",
       "    .dataframe tbody tr th {\n",
       "        vertical-align: top;\n",
       "    }\n",
       "\n",
       "    .dataframe thead th {\n",
       "        text-align: right;\n",
       "    }\n",
       "</style>\n",
       "<table border=\"1\" class=\"dataframe\">\n",
       "  <thead>\n",
       "    <tr style=\"text-align: right;\">\n",
       "      <th></th>\n",
       "      <th>year</th>\n",
       "      <th>manufacturer</th>\n",
       "      <th>condition</th>\n",
       "      <th>cylinders</th>\n",
       "      <th>fuel</th>\n",
       "      <th>odometer</th>\n",
       "      <th>title_status</th>\n",
       "      <th>transmission</th>\n",
       "      <th>drive</th>\n",
       "      <th>size</th>\n",
       "      <th>type</th>\n",
       "      <th>paint_color</th>\n",
       "      <th>state</th>\n",
       "    </tr>\n",
       "  </thead>\n",
       "  <tbody>\n",
       "    <tr>\n",
       "      <th>28757</th>\n",
       "      <td>24.0</td>\n",
       "      <td>29.0</td>\n",
       "      <td>0.0</td>\n",
       "      <td>4.0</td>\n",
       "      <td>2.0</td>\n",
       "      <td>284000.0</td>\n",
       "      <td>0.0</td>\n",
       "      <td>0.0</td>\n",
       "      <td>2.0</td>\n",
       "      <td>2.0</td>\n",
       "      <td>0.0</td>\n",
       "      <td>9.0</td>\n",
       "      <td>4.0</td>\n",
       "    </tr>\n",
       "    <tr>\n",
       "      <th>345069</th>\n",
       "      <td>21.0</td>\n",
       "      <td>6.0</td>\n",
       "      <td>2.0</td>\n",
       "      <td>6.0</td>\n",
       "      <td>2.0</td>\n",
       "      <td>284000.0</td>\n",
       "      <td>0.0</td>\n",
       "      <td>0.0</td>\n",
       "      <td>1.0</td>\n",
       "      <td>NaN</td>\n",
       "      <td>5.0</td>\n",
       "      <td>1.0</td>\n",
       "      <td>40.0</td>\n",
       "    </tr>\n",
       "    <tr>\n",
       "      <th>333970</th>\n",
       "      <td>21.0</td>\n",
       "      <td>8.0</td>\n",
       "      <td>NaN</td>\n",
       "      <td>NaN</td>\n",
       "      <td>0.0</td>\n",
       "      <td>284000.0</td>\n",
       "      <td>0.0</td>\n",
       "      <td>0.0</td>\n",
       "      <td>NaN</td>\n",
       "      <td>1.0</td>\n",
       "      <td>0.0</td>\n",
       "      <td>10.0</td>\n",
       "      <td>38.0</td>\n",
       "    </tr>\n",
       "    <tr>\n",
       "      <th>140650</th>\n",
       "      <td>10.0</td>\n",
       "      <td>8.0</td>\n",
       "      <td>2.0</td>\n",
       "      <td>NaN</td>\n",
       "      <td>2.0</td>\n",
       "      <td>284000.0</td>\n",
       "      <td>0.0</td>\n",
       "      <td>0.0</td>\n",
       "      <td>NaN</td>\n",
       "      <td>NaN</td>\n",
       "      <td>NaN</td>\n",
       "      <td>NaN</td>\n",
       "      <td>14.0</td>\n",
       "    </tr>\n",
       "    <tr>\n",
       "      <th>419821</th>\n",
       "      <td>10.0</td>\n",
       "      <td>8.0</td>\n",
       "      <td>NaN</td>\n",
       "      <td>NaN</td>\n",
       "      <td>2.0</td>\n",
       "      <td>284000.0</td>\n",
       "      <td>0.0</td>\n",
       "      <td>0.0</td>\n",
       "      <td>NaN</td>\n",
       "      <td>NaN</td>\n",
       "      <td>NaN</td>\n",
       "      <td>NaN</td>\n",
       "      <td>48.0</td>\n",
       "    </tr>\n",
       "  </tbody>\n",
       "</table>\n",
       "</div>"
      ],
      "text/plain": [
       "        year manufacturer condition  cylinders fuel  odometer title_status  \\\n",
       "28757   24.0         29.0       0.0        4.0  2.0  284000.0          0.0   \n",
       "345069  21.0          6.0       2.0        6.0  2.0  284000.0          0.0   \n",
       "333970  21.0          8.0       NaN        NaN  0.0  284000.0          0.0   \n",
       "140650  10.0          8.0       2.0        NaN  2.0  284000.0          0.0   \n",
       "419821  10.0          8.0       NaN        NaN  2.0  284000.0          0.0   \n",
       "\n",
       "       transmission drive size type paint_color state  \n",
       "28757           0.0   2.0  2.0  0.0         9.0   4.0  \n",
       "345069          0.0   1.0  NaN  5.0         1.0  40.0  \n",
       "333970          0.0   NaN  1.0  0.0        10.0  38.0  \n",
       "140650          0.0   NaN  NaN  NaN         NaN  14.0  \n",
       "419821          0.0   NaN  NaN  NaN         NaN  48.0  "
      ]
     },
     "execution_count": 66,
     "metadata": {},
     "output_type": "execute_result"
    }
   ],
   "source": [
    "X.head()"
   ]
  },
  {
   "cell_type": "code",
   "execution_count": 67,
   "metadata": {},
   "outputs": [
    {
     "name": "stdout",
     "output_type": "stream",
     "text": [
      "<class 'pandas.core.frame.DataFrame'>\n",
      "Index: 345405 entries, 28757 to 94438\n",
      "Data columns (total 13 columns):\n",
      " #   Column        Non-Null Count   Dtype  \n",
      "---  ------        --------------   -----  \n",
      " 0   year          345405 non-null  float64\n",
      " 1   manufacturer  345405 non-null  object \n",
      " 2   condition     213305 non-null  object \n",
      " 3   cylinders     205674 non-null  float64\n",
      " 4   fuel          318254 non-null  object \n",
      " 5   odometer      345405 non-null  float64\n",
      " 6   title_status  338793 non-null  object \n",
      " 7   transmission  287484 non-null  object \n",
      " 8   drive         241917 non-null  object \n",
      " 9   size          95537 non-null   object \n",
      " 10  type          257549 non-null  object \n",
      " 11  paint_color   245500 non-null  object \n",
      " 12  state         345405 non-null  object \n",
      "dtypes: float64(3), object(10)\n",
      "memory usage: 36.9+ MB\n"
     ]
    }
   ],
   "source": [
    "X.info()"
   ]
  },
  {
   "cell_type": "code",
   "execution_count": 69,
   "metadata": {},
   "outputs": [],
   "source": [
    "impute_cols = ['condition','cylinders', 'fuel', 'title_status', 'transmission', 'drive', 'size', 'type', 'paint_color']"
   ]
  },
  {
   "cell_type": "code",
   "execution_count": null,
   "metadata": {},
   "outputs": [],
   "source": [
    "def knn_imputation(data, features, k):\n",
    "  \"\"\"\n",
    "  Imputes missing values in features using KNN imputation.\n",
    "\n",
    "  Args:\n",
    "    data: Pandas DataFrame containing the data.\n",
    "    features: List of features to impute.\n",
    "    k: Number of neighbors to use for imputation.\n",
    "\n",
    "  Returns:\n",
    "    Pandas DataFrame with imputed features.\n",
    "  \"\"\"\n",
    "\n",
    "  imputed_data = data.copy()\n",
    "  for feature in features:\n",
    "    # Create KNN imputer\n",
    "    imputer = KNNImputer(n_neighbors=k)\n",
    "\n",
    "    # Impute missing values\n",
    "    imputed_data[feature] = imputer.fit_transform(data[[feature]])[:, 0]\n",
    "\n",
    "  return imputed_data\n",
    "\n",
    "# Impute missing values in categorical features using KNN with k=5\n",
    "imputed_data = knn_imputation(X.copy(), impute_cols, k=3)\n",
    "\n",
    "# Print the imputed data\n",
    "print(imputed_data.head())\n"
   ]
  },
  {
   "cell_type": "code",
   "execution_count": null,
   "metadata": {},
   "outputs": [],
   "source": []
  },
  {
   "cell_type": "code",
   "execution_count": null,
   "metadata": {},
   "outputs": [],
   "source": []
  },
  {
   "cell_type": "code",
   "execution_count": null,
   "metadata": {},
   "outputs": [],
   "source": []
  },
  {
   "cell_type": "code",
   "execution_count": null,
   "metadata": {},
   "outputs": [],
   "source": []
  },
  {
   "cell_type": "code",
   "execution_count": null,
   "metadata": {
    "id": "ZHdnBHBDm_MO"
   },
   "outputs": [],
   "source": [
    "# prompt: function that does knn imputation on X dataframe\n",
    "\n",
    "import pandas as pd\n",
    "from sklearn.impute import KNNImputer\n",
    "\n",
    "# Define the KNN imputer\n",
    "knn_imputer = KNNImputer(n_neighbors=5)\n",
    "\n",
    "# Fit the imputer on the data\n",
    "knn_imputed_data = knn_imputer.fit_transform(X)\n",
    "\n",
    "# Create a DataFrame from the imputed data\n",
    "knn_imputed_df = pd.DataFrame(knn_imputed_data, columns=X.columns)\n",
    "\n",
    "# Print the imputed data\n",
    "print(knn_imputed_df.head())\n"
   ]
  },
  {
   "cell_type": "code",
   "execution_count": null,
   "metadata": {
    "id": "jfau_gYiotsc"
   },
   "outputs": [],
   "source": [
    "from sklearn.impute import KNNImputer\n",
    "\n",
    "\n",
    "# Load your dataset\n",
    "data = pd.read_csv(\"your_dataset.csv\")\n",
    "\n",
    "# Separate numerical and categorical features\n",
    "numerical_features = ['years', 'odometer']\n",
    "categorical_features = [col for col in data.columns if col not in numerical_features]\n",
    "\n",
    "# Initialize KNN imputer with different distance metrics\n",
    "knn_imputer_numerical = KNNImputer(n_neighbors=5, metric='euclidean')\n",
    "knn_imputer_categorical = KNNImputer(n_neighbors=5, metric='hamming')\n",
    "\n",
    "# Impute numerical features\n",
    "imputed_numerical = knn_imputer_numerical.fit_transform(data[numerical_features])\n",
    "\n",
    "# Impute categorical features\n",
    "imputed_categorical = knn_imputer_categorical.fit_transform(data[categorical_features])\n",
    "\n",
    "# Convert arrays back to DataFrame\n",
    "imputed_numerical_df = pd.DataFrame(imputed_numerical, columns=numerical_features)\n",
    "imputed_categorical_df = pd.DataFrame(imputed_categorical, columns=categorical_features)\n",
    "\n",
    "# Concatenate numerical and categorical dataframes\n",
    "imputed_data = pd.concat([imputed_numerical_df, imputed_categorical_df], axis=1)\n",
    "\n",
    "# Now imputed_data contains the imputed dataset with both numerical and categorical features\n"
   ]
  },
  {
   "cell_type": "code",
   "execution_count": 63,
   "metadata": {
    "id": "GBP8oloxbuQq"
   },
   "outputs": [],
   "source": [
    "def impute_missing_values(df):\n",
    "    \"\"\"\n",
    "    Impute missing values in a dataframe using KNNImputer for numeric columns and SimpleImputer for categorical columns.\n",
    "\n",
    "    Args:\n",
    "        df: The dataframe to impute missing values in.\n",
    "\n",
    "    Returns:\n",
    "        A new dataframe with imputed missing values.\n",
    "    \"\"\"\n",
    "\n",
    "    numerical_features = ['odometer', 'year','cylinders']\n",
    "    categorical_features = ['manufacturer','condition', 'fuel', 'title_status', 'transmission', 'drive', 'size', 'type', 'paint_color', 'state']\n",
    "\n",
    "    # Impute numerical features using 'nan_euclidean' metric\n",
    "    knn_imputer_numerical = KNNImputer(n_neighbors=5)\n",
    "    imputed_numerical = knn_imputer_numerical.fit_transform(df[numerical_features])\n",
    "\n",
    "    # Convert categorical features into numerical representations\n",
    "    categorical_data = pd.get_dummies(df[categorical_features])\n",
    "\n",
    "    # Impute categorical features using default metric ('nan_euclidean')\n",
    "    knn_imputer_categorical = KNNImputer(n_neighbors=5)\n",
    "    imputed_categorical = knn_imputer_categorical.fit_transform(categorical_data)\n",
    "\n",
    "    # Convert arrays back to DataFrame\n",
    "    imputed_numerical_df = pd.DataFrame(imputed_numerical, columns=numerical_features)\n",
    "    imputed_categorical_df = pd.DataFrame(imputed_categorical, columns=categorical_features)\n",
    "\n",
    "    # Concatenate numerical and categorical dataframes\n",
    "    imputed_data = pd.concat([imputed_numerical_df, imputed_categorical_df], axis=1)\n",
    "\n",
    "    return imputed_data\n"
   ]
  },
  {
   "cell_type": "code",
   "execution_count": 64,
   "metadata": {
    "colab": {
     "base_uri": "https://localhost:8080/",
     "height": 287
    },
    "id": "S_yoX_zpW6Sl",
    "outputId": "2b89054b-6c19-460c-f17a-0fdf0780c6d0"
   },
   "outputs": [
    {
     "ename": "KeyboardInterrupt",
     "evalue": "",
     "output_type": "error",
     "traceback": [
      "\u001b[0;31m---------------------------------------------------------------------------\u001b[0m",
      "\u001b[0;31mKeyboardInterrupt\u001b[0m                         Traceback (most recent call last)",
      "\u001b[0;32m<ipython-input-64-601b15e6f501>\u001b[0m in \u001b[0;36m<cell line: 1>\u001b[0;34m()\u001b[0m\n\u001b[0;32m----> 1\u001b[0;31m \u001b[0mimputed_df\u001b[0m \u001b[0;34m=\u001b[0m \u001b[0mimpute_missing_values\u001b[0m\u001b[0;34m(\u001b[0m\u001b[0mX\u001b[0m\u001b[0;34m)\u001b[0m\u001b[0;34m\u001b[0m\u001b[0;34m\u001b[0m\u001b[0m\n\u001b[0m",
      "\u001b[0;32m<ipython-input-63-2c3ff6cb3b7b>\u001b[0m in \u001b[0;36mimpute_missing_values\u001b[0;34m(df)\u001b[0m\n\u001b[1;32m     15\u001b[0m     \u001b[0;31m# Impute numerical features using 'nan_euclidean' metric\u001b[0m\u001b[0;34m\u001b[0m\u001b[0;34m\u001b[0m\u001b[0m\n\u001b[1;32m     16\u001b[0m     \u001b[0mknn_imputer_numerical\u001b[0m \u001b[0;34m=\u001b[0m \u001b[0mKNNImputer\u001b[0m\u001b[0;34m(\u001b[0m\u001b[0mn_neighbors\u001b[0m\u001b[0;34m=\u001b[0m\u001b[0;36m5\u001b[0m\u001b[0;34m)\u001b[0m\u001b[0;34m\u001b[0m\u001b[0;34m\u001b[0m\u001b[0m\n\u001b[0;32m---> 17\u001b[0;31m     \u001b[0mimputed_numerical\u001b[0m \u001b[0;34m=\u001b[0m \u001b[0mknn_imputer_numerical\u001b[0m\u001b[0;34m.\u001b[0m\u001b[0mfit_transform\u001b[0m\u001b[0;34m(\u001b[0m\u001b[0mdf\u001b[0m\u001b[0;34m[\u001b[0m\u001b[0mnumerical_features\u001b[0m\u001b[0;34m]\u001b[0m\u001b[0;34m)\u001b[0m\u001b[0;34m\u001b[0m\u001b[0;34m\u001b[0m\u001b[0m\n\u001b[0m\u001b[1;32m     18\u001b[0m \u001b[0;34m\u001b[0m\u001b[0m\n\u001b[1;32m     19\u001b[0m     \u001b[0;31m# Convert categorical features into numerical representations\u001b[0m\u001b[0;34m\u001b[0m\u001b[0;34m\u001b[0m\u001b[0m\n",
      "\u001b[0;32m/usr/local/lib/python3.10/dist-packages/sklearn/utils/_set_output.py\u001b[0m in \u001b[0;36mwrapped\u001b[0;34m(self, X, *args, **kwargs)\u001b[0m\n\u001b[1;32m    138\u001b[0m     \u001b[0;34m@\u001b[0m\u001b[0mwraps\u001b[0m\u001b[0;34m(\u001b[0m\u001b[0mf\u001b[0m\u001b[0;34m)\u001b[0m\u001b[0;34m\u001b[0m\u001b[0;34m\u001b[0m\u001b[0m\n\u001b[1;32m    139\u001b[0m     \u001b[0;32mdef\u001b[0m \u001b[0mwrapped\u001b[0m\u001b[0;34m(\u001b[0m\u001b[0mself\u001b[0m\u001b[0;34m,\u001b[0m \u001b[0mX\u001b[0m\u001b[0;34m,\u001b[0m \u001b[0;34m*\u001b[0m\u001b[0margs\u001b[0m\u001b[0;34m,\u001b[0m \u001b[0;34m**\u001b[0m\u001b[0mkwargs\u001b[0m\u001b[0;34m)\u001b[0m\u001b[0;34m:\u001b[0m\u001b[0;34m\u001b[0m\u001b[0;34m\u001b[0m\u001b[0m\n\u001b[0;32m--> 140\u001b[0;31m         \u001b[0mdata_to_wrap\u001b[0m \u001b[0;34m=\u001b[0m \u001b[0mf\u001b[0m\u001b[0;34m(\u001b[0m\u001b[0mself\u001b[0m\u001b[0;34m,\u001b[0m \u001b[0mX\u001b[0m\u001b[0;34m,\u001b[0m \u001b[0;34m*\u001b[0m\u001b[0margs\u001b[0m\u001b[0;34m,\u001b[0m \u001b[0;34m**\u001b[0m\u001b[0mkwargs\u001b[0m\u001b[0;34m)\u001b[0m\u001b[0;34m\u001b[0m\u001b[0;34m\u001b[0m\u001b[0m\n\u001b[0m\u001b[1;32m    141\u001b[0m         \u001b[0;32mif\u001b[0m \u001b[0misinstance\u001b[0m\u001b[0;34m(\u001b[0m\u001b[0mdata_to_wrap\u001b[0m\u001b[0;34m,\u001b[0m \u001b[0mtuple\u001b[0m\u001b[0;34m)\u001b[0m\u001b[0;34m:\u001b[0m\u001b[0;34m\u001b[0m\u001b[0;34m\u001b[0m\u001b[0m\n\u001b[1;32m    142\u001b[0m             \u001b[0;31m# only wrap the first output for cross decomposition\u001b[0m\u001b[0;34m\u001b[0m\u001b[0;34m\u001b[0m\u001b[0m\n",
      "\u001b[0;32m/usr/local/lib/python3.10/dist-packages/sklearn/base.py\u001b[0m in \u001b[0;36mfit_transform\u001b[0;34m(self, X, y, **fit_params)\u001b[0m\n\u001b[1;32m    876\u001b[0m         \u001b[0;32mif\u001b[0m \u001b[0my\u001b[0m \u001b[0;32mis\u001b[0m \u001b[0;32mNone\u001b[0m\u001b[0;34m:\u001b[0m\u001b[0;34m\u001b[0m\u001b[0;34m\u001b[0m\u001b[0m\n\u001b[1;32m    877\u001b[0m             \u001b[0;31m# fit method of arity 1 (unsupervised transformation)\u001b[0m\u001b[0;34m\u001b[0m\u001b[0;34m\u001b[0m\u001b[0m\n\u001b[0;32m--> 878\u001b[0;31m             \u001b[0;32mreturn\u001b[0m \u001b[0mself\u001b[0m\u001b[0;34m.\u001b[0m\u001b[0mfit\u001b[0m\u001b[0;34m(\u001b[0m\u001b[0mX\u001b[0m\u001b[0;34m,\u001b[0m \u001b[0;34m**\u001b[0m\u001b[0mfit_params\u001b[0m\u001b[0;34m)\u001b[0m\u001b[0;34m.\u001b[0m\u001b[0mtransform\u001b[0m\u001b[0;34m(\u001b[0m\u001b[0mX\u001b[0m\u001b[0;34m)\u001b[0m\u001b[0;34m\u001b[0m\u001b[0;34m\u001b[0m\u001b[0m\n\u001b[0m\u001b[1;32m    879\u001b[0m         \u001b[0;32melse\u001b[0m\u001b[0;34m:\u001b[0m\u001b[0;34m\u001b[0m\u001b[0;34m\u001b[0m\u001b[0m\n\u001b[1;32m    880\u001b[0m             \u001b[0;31m# fit method of arity 2 (supervised transformation)\u001b[0m\u001b[0;34m\u001b[0m\u001b[0;34m\u001b[0m\u001b[0m\n",
      "\u001b[0;32m/usr/local/lib/python3.10/dist-packages/sklearn/utils/_set_output.py\u001b[0m in \u001b[0;36mwrapped\u001b[0;34m(self, X, *args, **kwargs)\u001b[0m\n\u001b[1;32m    138\u001b[0m     \u001b[0;34m@\u001b[0m\u001b[0mwraps\u001b[0m\u001b[0;34m(\u001b[0m\u001b[0mf\u001b[0m\u001b[0;34m)\u001b[0m\u001b[0;34m\u001b[0m\u001b[0;34m\u001b[0m\u001b[0m\n\u001b[1;32m    139\u001b[0m     \u001b[0;32mdef\u001b[0m \u001b[0mwrapped\u001b[0m\u001b[0;34m(\u001b[0m\u001b[0mself\u001b[0m\u001b[0;34m,\u001b[0m \u001b[0mX\u001b[0m\u001b[0;34m,\u001b[0m \u001b[0;34m*\u001b[0m\u001b[0margs\u001b[0m\u001b[0;34m,\u001b[0m \u001b[0;34m**\u001b[0m\u001b[0mkwargs\u001b[0m\u001b[0;34m)\u001b[0m\u001b[0;34m:\u001b[0m\u001b[0;34m\u001b[0m\u001b[0;34m\u001b[0m\u001b[0m\n\u001b[0;32m--> 140\u001b[0;31m         \u001b[0mdata_to_wrap\u001b[0m \u001b[0;34m=\u001b[0m \u001b[0mf\u001b[0m\u001b[0;34m(\u001b[0m\u001b[0mself\u001b[0m\u001b[0;34m,\u001b[0m \u001b[0mX\u001b[0m\u001b[0;34m,\u001b[0m \u001b[0;34m*\u001b[0m\u001b[0margs\u001b[0m\u001b[0;34m,\u001b[0m \u001b[0;34m**\u001b[0m\u001b[0mkwargs\u001b[0m\u001b[0;34m)\u001b[0m\u001b[0;34m\u001b[0m\u001b[0;34m\u001b[0m\u001b[0m\n\u001b[0m\u001b[1;32m    141\u001b[0m         \u001b[0;32mif\u001b[0m \u001b[0misinstance\u001b[0m\u001b[0;34m(\u001b[0m\u001b[0mdata_to_wrap\u001b[0m\u001b[0;34m,\u001b[0m \u001b[0mtuple\u001b[0m\u001b[0;34m)\u001b[0m\u001b[0;34m:\u001b[0m\u001b[0;34m\u001b[0m\u001b[0;34m\u001b[0m\u001b[0m\n\u001b[1;32m    142\u001b[0m             \u001b[0;31m# only wrap the first output for cross decomposition\u001b[0m\u001b[0;34m\u001b[0m\u001b[0;34m\u001b[0m\u001b[0m\n",
      "\u001b[0;32m/usr/local/lib/python3.10/dist-packages/sklearn/impute/_knn.py\u001b[0m in \u001b[0;36mtransform\u001b[0;34m(self, X)\u001b[0m\n\u001b[1;32m    355\u001b[0m             \u001b[0mreduce_func\u001b[0m\u001b[0;34m=\u001b[0m\u001b[0mprocess_chunk\u001b[0m\u001b[0;34m,\u001b[0m\u001b[0;34m\u001b[0m\u001b[0;34m\u001b[0m\u001b[0m\n\u001b[1;32m    356\u001b[0m         )\n\u001b[0;32m--> 357\u001b[0;31m         \u001b[0;32mfor\u001b[0m \u001b[0mchunk\u001b[0m \u001b[0;32min\u001b[0m \u001b[0mgen\u001b[0m\u001b[0;34m:\u001b[0m\u001b[0;34m\u001b[0m\u001b[0;34m\u001b[0m\u001b[0m\n\u001b[0m\u001b[1;32m    358\u001b[0m             \u001b[0;31m# process_chunk modifies X in place. No return value.\u001b[0m\u001b[0;34m\u001b[0m\u001b[0;34m\u001b[0m\u001b[0m\n\u001b[1;32m    359\u001b[0m             \u001b[0;32mpass\u001b[0m\u001b[0;34m\u001b[0m\u001b[0;34m\u001b[0m\u001b[0m\n",
      "\u001b[0;32m/usr/local/lib/python3.10/dist-packages/sklearn/metrics/pairwise.py\u001b[0m in \u001b[0;36mpairwise_distances_chunked\u001b[0;34m(X, Y, reduce_func, metric, n_jobs, working_memory, **kwds)\u001b[0m\n\u001b[1;32m   1874\u001b[0m         \u001b[0;32mif\u001b[0m \u001b[0mreduce_func\u001b[0m \u001b[0;32mis\u001b[0m \u001b[0;32mnot\u001b[0m \u001b[0;32mNone\u001b[0m\u001b[0;34m:\u001b[0m\u001b[0;34m\u001b[0m\u001b[0;34m\u001b[0m\u001b[0m\n\u001b[1;32m   1875\u001b[0m             \u001b[0mchunk_size\u001b[0m \u001b[0;34m=\u001b[0m \u001b[0mD_chunk\u001b[0m\u001b[0;34m.\u001b[0m\u001b[0mshape\u001b[0m\u001b[0;34m[\u001b[0m\u001b[0;36m0\u001b[0m\u001b[0;34m]\u001b[0m\u001b[0;34m\u001b[0m\u001b[0;34m\u001b[0m\u001b[0m\n\u001b[0;32m-> 1876\u001b[0;31m             \u001b[0mD_chunk\u001b[0m \u001b[0;34m=\u001b[0m \u001b[0mreduce_func\u001b[0m\u001b[0;34m(\u001b[0m\u001b[0mD_chunk\u001b[0m\u001b[0;34m,\u001b[0m \u001b[0msl\u001b[0m\u001b[0;34m.\u001b[0m\u001b[0mstart\u001b[0m\u001b[0;34m)\u001b[0m\u001b[0;34m\u001b[0m\u001b[0;34m\u001b[0m\u001b[0m\n\u001b[0m\u001b[1;32m   1877\u001b[0m             \u001b[0m_check_chunk_size\u001b[0m\u001b[0;34m(\u001b[0m\u001b[0mD_chunk\u001b[0m\u001b[0;34m,\u001b[0m \u001b[0mchunk_size\u001b[0m\u001b[0;34m)\u001b[0m\u001b[0;34m\u001b[0m\u001b[0;34m\u001b[0m\u001b[0m\n\u001b[1;32m   1878\u001b[0m         \u001b[0;32myield\u001b[0m \u001b[0mD_chunk\u001b[0m\u001b[0;34m\u001b[0m\u001b[0;34m\u001b[0m\u001b[0m\n",
      "\u001b[0;32m/usr/local/lib/python3.10/dist-packages/sklearn/impute/_knn.py\u001b[0m in \u001b[0;36mprocess_chunk\u001b[0;34m(dist_chunk, start)\u001b[0m\n\u001b[1;32m    318\u001b[0m \u001b[0;34m\u001b[0m\u001b[0m\n\u001b[1;32m    319\u001b[0m                 \u001b[0;31m# receivers with all nan distances impute with mean\u001b[0m\u001b[0;34m\u001b[0m\u001b[0;34m\u001b[0m\u001b[0m\n\u001b[0;32m--> 320\u001b[0;31m                 \u001b[0mall_nan_dist_mask\u001b[0m \u001b[0;34m=\u001b[0m \u001b[0mnp\u001b[0m\u001b[0;34m.\u001b[0m\u001b[0misnan\u001b[0m\u001b[0;34m(\u001b[0m\u001b[0mdist_subset\u001b[0m\u001b[0;34m)\u001b[0m\u001b[0;34m.\u001b[0m\u001b[0mall\u001b[0m\u001b[0;34m(\u001b[0m\u001b[0maxis\u001b[0m\u001b[0;34m=\u001b[0m\u001b[0;36m1\u001b[0m\u001b[0;34m)\u001b[0m\u001b[0;34m\u001b[0m\u001b[0;34m\u001b[0m\u001b[0m\n\u001b[0m\u001b[1;32m    321\u001b[0m                 \u001b[0mall_nan_receivers_idx\u001b[0m \u001b[0;34m=\u001b[0m \u001b[0mreceivers_idx\u001b[0m\u001b[0;34m[\u001b[0m\u001b[0mall_nan_dist_mask\u001b[0m\u001b[0;34m]\u001b[0m\u001b[0;34m\u001b[0m\u001b[0;34m\u001b[0m\u001b[0m\n\u001b[1;32m    322\u001b[0m \u001b[0;34m\u001b[0m\u001b[0m\n",
      "\u001b[0;31mKeyboardInterrupt\u001b[0m: "
     ]
    }
   ],
   "source": [
    "imputed_df = impute_missing_values(X)"
   ]
  },
  {
   "cell_type": "code",
   "execution_count": null,
   "metadata": {
    "colab": {
     "base_uri": "https://localhost:8080/",
     "height": 313
    },
    "id": "apHO77NwcNsV",
    "outputId": "a45284eb-ca66-492b-f262-295312ebc5c2"
   },
   "outputs": [
    {
     "data": {
      "application/vnd.google.colaboratory.intrinsic+json": {
       "type": "dataframe",
       "variable_name": "imputed_df"
      },
      "text/html": [
       "\n",
       "  <div id=\"df-dfa9890b-335d-4dbc-a26f-b827346f56bf\" class=\"colab-df-container\">\n",
       "    <div>\n",
       "<style scoped>\n",
       "    .dataframe tbody tr th:only-of-type {\n",
       "        vertical-align: middle;\n",
       "    }\n",
       "\n",
       "    .dataframe tbody tr th {\n",
       "        vertical-align: top;\n",
       "    }\n",
       "\n",
       "    .dataframe thead th {\n",
       "        text-align: right;\n",
       "    }\n",
       "</style>\n",
       "<table border=\"1\" class=\"dataframe\">\n",
       "  <thead>\n",
       "    <tr style=\"text-align: right;\">\n",
       "      <th></th>\n",
       "      <th>year</th>\n",
       "      <th>manufacturer</th>\n",
       "      <th>condition</th>\n",
       "      <th>cylinders</th>\n",
       "      <th>fuel</th>\n",
       "      <th>odometer</th>\n",
       "      <th>title_status</th>\n",
       "      <th>transmission</th>\n",
       "      <th>drive</th>\n",
       "      <th>size</th>\n",
       "      <th>type</th>\n",
       "      <th>paint_color</th>\n",
       "      <th>state</th>\n",
       "    </tr>\n",
       "  </thead>\n",
       "  <tbody>\n",
       "    <tr>\n",
       "      <th>144436</th>\n",
       "      <td>10.0</td>\n",
       "      <td>ford</td>\n",
       "      <td>excellent</td>\n",
       "      <td>4.0</td>\n",
       "      <td>gas</td>\n",
       "      <td>107168.0</td>\n",
       "      <td>clean</td>\n",
       "      <td>automatic</td>\n",
       "      <td>fwd</td>\n",
       "      <td>full-size</td>\n",
       "      <td>SUV</td>\n",
       "      <td>white</td>\n",
       "      <td>ky</td>\n",
       "    </tr>\n",
       "    <tr>\n",
       "      <th>110623</th>\n",
       "      <td>15.0</td>\n",
       "      <td>audi</td>\n",
       "      <td>excellent</td>\n",
       "      <td>6.0</td>\n",
       "      <td>gas</td>\n",
       "      <td>125186.0</td>\n",
       "      <td>clean</td>\n",
       "      <td>automatic</td>\n",
       "      <td>4wd</td>\n",
       "      <td>full-size</td>\n",
       "      <td>sedan</td>\n",
       "      <td>silver</td>\n",
       "      <td>id</td>\n",
       "    </tr>\n",
       "    <tr>\n",
       "      <th>106192</th>\n",
       "      <td>14.0</td>\n",
       "      <td>jeep</td>\n",
       "      <td>good</td>\n",
       "      <td>4.0</td>\n",
       "      <td>gas</td>\n",
       "      <td>128000.0</td>\n",
       "      <td>clean</td>\n",
       "      <td>automatic</td>\n",
       "      <td>4wd</td>\n",
       "      <td>full-size</td>\n",
       "      <td>sedan</td>\n",
       "      <td>white</td>\n",
       "      <td>tx</td>\n",
       "    </tr>\n",
       "    <tr>\n",
       "      <th>152394</th>\n",
       "      <td>16.0</td>\n",
       "      <td>honda</td>\n",
       "      <td>excellent</td>\n",
       "      <td>4.0</td>\n",
       "      <td>gas</td>\n",
       "      <td>103000.0</td>\n",
       "      <td>clean</td>\n",
       "      <td>automatic</td>\n",
       "      <td>fwd</td>\n",
       "      <td>full-size</td>\n",
       "      <td>SUV</td>\n",
       "      <td>silver</td>\n",
       "      <td>mi</td>\n",
       "    </tr>\n",
       "    <tr>\n",
       "      <th>23100</th>\n",
       "      <td>19.0</td>\n",
       "      <td>chevrolet</td>\n",
       "      <td>good</td>\n",
       "      <td>8.0</td>\n",
       "      <td>gas</td>\n",
       "      <td>197600.0</td>\n",
       "      <td>clean</td>\n",
       "      <td>automatic</td>\n",
       "      <td>4wd</td>\n",
       "      <td>full-size</td>\n",
       "      <td>SUV</td>\n",
       "      <td>black</td>\n",
       "      <td>mn</td>\n",
       "    </tr>\n",
       "  </tbody>\n",
       "</table>\n",
       "</div>\n",
       "    <div class=\"colab-df-buttons\">\n",
       "\n",
       "  <div class=\"colab-df-container\">\n",
       "    <button class=\"colab-df-convert\" onclick=\"convertToInteractive('df-dfa9890b-335d-4dbc-a26f-b827346f56bf')\"\n",
       "            title=\"Convert this dataframe to an interactive table.\"\n",
       "            style=\"display:none;\">\n",
       "\n",
       "  <svg xmlns=\"http://www.w3.org/2000/svg\" height=\"24px\" viewBox=\"0 -960 960 960\">\n",
       "    <path d=\"M120-120v-720h720v720H120Zm60-500h600v-160H180v160Zm220 220h160v-160H400v160Zm0 220h160v-160H400v160ZM180-400h160v-160H180v160Zm440 0h160v-160H620v160ZM180-180h160v-160H180v160Zm440 0h160v-160H620v160Z\"/>\n",
       "  </svg>\n",
       "    </button>\n",
       "\n",
       "  <style>\n",
       "    .colab-df-container {\n",
       "      display:flex;\n",
       "      gap: 12px;\n",
       "    }\n",
       "\n",
       "    .colab-df-convert {\n",
       "      background-color: #E8F0FE;\n",
       "      border: none;\n",
       "      border-radius: 50%;\n",
       "      cursor: pointer;\n",
       "      display: none;\n",
       "      fill: #1967D2;\n",
       "      height: 32px;\n",
       "      padding: 0 0 0 0;\n",
       "      width: 32px;\n",
       "    }\n",
       "\n",
       "    .colab-df-convert:hover {\n",
       "      background-color: #E2EBFA;\n",
       "      box-shadow: 0px 1px 2px rgba(60, 64, 67, 0.3), 0px 1px 3px 1px rgba(60, 64, 67, 0.15);\n",
       "      fill: #174EA6;\n",
       "    }\n",
       "\n",
       "    .colab-df-buttons div {\n",
       "      margin-bottom: 4px;\n",
       "    }\n",
       "\n",
       "    [theme=dark] .colab-df-convert {\n",
       "      background-color: #3B4455;\n",
       "      fill: #D2E3FC;\n",
       "    }\n",
       "\n",
       "    [theme=dark] .colab-df-convert:hover {\n",
       "      background-color: #434B5C;\n",
       "      box-shadow: 0px 1px 3px 1px rgba(0, 0, 0, 0.15);\n",
       "      filter: drop-shadow(0px 1px 2px rgba(0, 0, 0, 0.3));\n",
       "      fill: #FFFFFF;\n",
       "    }\n",
       "  </style>\n",
       "\n",
       "    <script>\n",
       "      const buttonEl =\n",
       "        document.querySelector('#df-dfa9890b-335d-4dbc-a26f-b827346f56bf button.colab-df-convert');\n",
       "      buttonEl.style.display =\n",
       "        google.colab.kernel.accessAllowed ? 'block' : 'none';\n",
       "\n",
       "      async function convertToInteractive(key) {\n",
       "        const element = document.querySelector('#df-dfa9890b-335d-4dbc-a26f-b827346f56bf');\n",
       "        const dataTable =\n",
       "          await google.colab.kernel.invokeFunction('convertToInteractive',\n",
       "                                                    [key], {});\n",
       "        if (!dataTable) return;\n",
       "\n",
       "        const docLinkHtml = 'Like what you see? Visit the ' +\n",
       "          '<a target=\"_blank\" href=https://colab.research.google.com/notebooks/data_table.ipynb>data table notebook</a>'\n",
       "          + ' to learn more about interactive tables.';\n",
       "        element.innerHTML = '';\n",
       "        dataTable['output_type'] = 'display_data';\n",
       "        await google.colab.output.renderOutput(dataTable, element);\n",
       "        const docLink = document.createElement('div');\n",
       "        docLink.innerHTML = docLinkHtml;\n",
       "        element.appendChild(docLink);\n",
       "      }\n",
       "    </script>\n",
       "  </div>\n",
       "\n",
       "\n",
       "<div id=\"df-e56e0401-8b5c-46ba-8e9d-c1ea080b030b\">\n",
       "  <button class=\"colab-df-quickchart\" onclick=\"quickchart('df-e56e0401-8b5c-46ba-8e9d-c1ea080b030b')\"\n",
       "            title=\"Suggest charts\"\n",
       "            style=\"display:none;\">\n",
       "\n",
       "<svg xmlns=\"http://www.w3.org/2000/svg\" height=\"24px\"viewBox=\"0 0 24 24\"\n",
       "     width=\"24px\">\n",
       "    <g>\n",
       "        <path d=\"M19 3H5c-1.1 0-2 .9-2 2v14c0 1.1.9 2 2 2h14c1.1 0 2-.9 2-2V5c0-1.1-.9-2-2-2zM9 17H7v-7h2v7zm4 0h-2V7h2v10zm4 0h-2v-4h2v4z\"/>\n",
       "    </g>\n",
       "</svg>\n",
       "  </button>\n",
       "\n",
       "<style>\n",
       "  .colab-df-quickchart {\n",
       "      --bg-color: #E8F0FE;\n",
       "      --fill-color: #1967D2;\n",
       "      --hover-bg-color: #E2EBFA;\n",
       "      --hover-fill-color: #174EA6;\n",
       "      --disabled-fill-color: #AAA;\n",
       "      --disabled-bg-color: #DDD;\n",
       "  }\n",
       "\n",
       "  [theme=dark] .colab-df-quickchart {\n",
       "      --bg-color: #3B4455;\n",
       "      --fill-color: #D2E3FC;\n",
       "      --hover-bg-color: #434B5C;\n",
       "      --hover-fill-color: #FFFFFF;\n",
       "      --disabled-bg-color: #3B4455;\n",
       "      --disabled-fill-color: #666;\n",
       "  }\n",
       "\n",
       "  .colab-df-quickchart {\n",
       "    background-color: var(--bg-color);\n",
       "    border: none;\n",
       "    border-radius: 50%;\n",
       "    cursor: pointer;\n",
       "    display: none;\n",
       "    fill: var(--fill-color);\n",
       "    height: 32px;\n",
       "    padding: 0;\n",
       "    width: 32px;\n",
       "  }\n",
       "\n",
       "  .colab-df-quickchart:hover {\n",
       "    background-color: var(--hover-bg-color);\n",
       "    box-shadow: 0 1px 2px rgba(60, 64, 67, 0.3), 0 1px 3px 1px rgba(60, 64, 67, 0.15);\n",
       "    fill: var(--button-hover-fill-color);\n",
       "  }\n",
       "\n",
       "  .colab-df-quickchart-complete:disabled,\n",
       "  .colab-df-quickchart-complete:disabled:hover {\n",
       "    background-color: var(--disabled-bg-color);\n",
       "    fill: var(--disabled-fill-color);\n",
       "    box-shadow: none;\n",
       "  }\n",
       "\n",
       "  .colab-df-spinner {\n",
       "    border: 2px solid var(--fill-color);\n",
       "    border-color: transparent;\n",
       "    border-bottom-color: var(--fill-color);\n",
       "    animation:\n",
       "      spin 1s steps(1) infinite;\n",
       "  }\n",
       "\n",
       "  @keyframes spin {\n",
       "    0% {\n",
       "      border-color: transparent;\n",
       "      border-bottom-color: var(--fill-color);\n",
       "      border-left-color: var(--fill-color);\n",
       "    }\n",
       "    20% {\n",
       "      border-color: transparent;\n",
       "      border-left-color: var(--fill-color);\n",
       "      border-top-color: var(--fill-color);\n",
       "    }\n",
       "    30% {\n",
       "      border-color: transparent;\n",
       "      border-left-color: var(--fill-color);\n",
       "      border-top-color: var(--fill-color);\n",
       "      border-right-color: var(--fill-color);\n",
       "    }\n",
       "    40% {\n",
       "      border-color: transparent;\n",
       "      border-right-color: var(--fill-color);\n",
       "      border-top-color: var(--fill-color);\n",
       "    }\n",
       "    60% {\n",
       "      border-color: transparent;\n",
       "      border-right-color: var(--fill-color);\n",
       "    }\n",
       "    80% {\n",
       "      border-color: transparent;\n",
       "      border-right-color: var(--fill-color);\n",
       "      border-bottom-color: var(--fill-color);\n",
       "    }\n",
       "    90% {\n",
       "      border-color: transparent;\n",
       "      border-bottom-color: var(--fill-color);\n",
       "    }\n",
       "  }\n",
       "</style>\n",
       "\n",
       "  <script>\n",
       "    async function quickchart(key) {\n",
       "      const quickchartButtonEl =\n",
       "        document.querySelector('#' + key + ' button');\n",
       "      quickchartButtonEl.disabled = true;  // To prevent multiple clicks.\n",
       "      quickchartButtonEl.classList.add('colab-df-spinner');\n",
       "      try {\n",
       "        const charts = await google.colab.kernel.invokeFunction(\n",
       "            'suggestCharts', [key], {});\n",
       "      } catch (error) {\n",
       "        console.error('Error during call to suggestCharts:', error);\n",
       "      }\n",
       "      quickchartButtonEl.classList.remove('colab-df-spinner');\n",
       "      quickchartButtonEl.classList.add('colab-df-quickchart-complete');\n",
       "    }\n",
       "    (() => {\n",
       "      let quickchartButtonEl =\n",
       "        document.querySelector('#df-e56e0401-8b5c-46ba-8e9d-c1ea080b030b button');\n",
       "      quickchartButtonEl.style.display =\n",
       "        google.colab.kernel.accessAllowed ? 'block' : 'none';\n",
       "    })();\n",
       "  </script>\n",
       "</div>\n",
       "\n",
       "    </div>\n",
       "  </div>\n"
      ],
      "text/plain": [
       "        year manufacturer  condition cylinders fuel  odometer title_status  \\\n",
       "144436  10.0         ford  excellent       4.0  gas  107168.0        clean   \n",
       "110623  15.0         audi  excellent       6.0  gas  125186.0        clean   \n",
       "106192  14.0         jeep       good       4.0  gas  128000.0        clean   \n",
       "152394  16.0        honda  excellent       4.0  gas  103000.0        clean   \n",
       "23100   19.0    chevrolet       good       8.0  gas  197600.0        clean   \n",
       "\n",
       "       transmission drive       size   type paint_color state  \n",
       "144436    automatic   fwd  full-size    SUV       white    ky  \n",
       "110623    automatic   4wd  full-size  sedan      silver    id  \n",
       "106192    automatic   4wd  full-size  sedan       white    tx  \n",
       "152394    automatic   fwd  full-size    SUV      silver    mi  \n",
       "23100     automatic   4wd  full-size    SUV       black    mn  "
      ]
     },
     "execution_count": 135,
     "metadata": {},
     "output_type": "execute_result"
    }
   ],
   "source": [
    "imputed_df.head()"
   ]
  },
  {
   "cell_type": "code",
   "execution_count": null,
   "metadata": {
    "colab": {
     "base_uri": "https://localhost:8080/"
    },
    "id": "koiQui-k0Hxl",
    "outputId": "9c94f432-1ac4-45fe-80e4-1d55317b4455"
   },
   "outputs": [
    {
     "name": "stdout",
     "output_type": "stream",
     "text": [
      "<class 'pandas.core.frame.DataFrame'>\n",
      "Int64Index: 365462 entries, 144436 to 208221\n",
      "Data columns (total 13 columns):\n",
      " #   Column        Non-Null Count   Dtype \n",
      "---  ------        --------------   ----- \n",
      " 0   year          312838 non-null  object\n",
      " 1   manufacturer  312838 non-null  object\n",
      " 2   condition     312838 non-null  object\n",
      " 3   cylinders     312838 non-null  object\n",
      " 4   fuel          312838 non-null  object\n",
      " 5   odometer      312838 non-null  object\n",
      " 6   title_status  312838 non-null  object\n",
      " 7   transmission  312838 non-null  object\n",
      " 8   drive         312838 non-null  object\n",
      " 9   size          312838 non-null  object\n",
      " 10  type          312838 non-null  object\n",
      " 11  paint_color   312838 non-null  object\n",
      " 12  state         312838 non-null  object\n",
      "dtypes: object(13)\n",
      "memory usage: 39.0+ MB\n"
     ]
    }
   ],
   "source": [
    "imputed_df.info()"
   ]
  },
  {
   "cell_type": "code",
   "execution_count": null,
   "metadata": {
    "colab": {
     "base_uri": "https://localhost:8080/"
    },
    "id": "mjVxW9fzdBLe",
    "outputId": "5f54fe60-f59e-410e-a5fc-5332320a9741"
   },
   "outputs": [
    {
     "data": {
      "text/plain": [
       "year            52624\n",
       "manufacturer    52624\n",
       "condition       52624\n",
       "cylinders       52624\n",
       "fuel            52624\n",
       "odometer        52624\n",
       "title_status    52624\n",
       "transmission    52624\n",
       "drive           52624\n",
       "size            52624\n",
       "type            52624\n",
       "paint_color     52624\n",
       "state           52624\n",
       "dtype: int64"
      ]
     },
     "execution_count": 137,
     "metadata": {},
     "output_type": "execute_result"
    }
   ],
   "source": [
    "imputed_df.isnull().sum()"
   ]
  },
  {
   "cell_type": "code",
   "execution_count": null,
   "metadata": {
    "id": "sod3zfi1lNpS"
   },
   "outputs": [],
   "source": [
    "# combine price column to imputed df and make a new dataframe final_df\n",
    "final_df = imputed_df.join(y)\n"
   ]
  },
  {
   "cell_type": "code",
   "execution_count": null,
   "metadata": {
    "colab": {
     "base_uri": "https://localhost:8080/",
     "height": 296
    },
    "id": "muU03d3FlNme",
    "outputId": "4b0ee85c-c23d-4ec9-d919-f4790edfd429"
   },
   "outputs": [
    {
     "data": {
      "application/vnd.google.colaboratory.intrinsic+json": {
       "repr_error": "0",
       "type": "dataframe"
      },
      "text/html": [
       "\n",
       "  <div id=\"df-8c1d447d-6940-4755-9733-a0b602d1cf34\" class=\"colab-df-container\">\n",
       "    <div>\n",
       "<style scoped>\n",
       "    .dataframe tbody tr th:only-of-type {\n",
       "        vertical-align: middle;\n",
       "    }\n",
       "\n",
       "    .dataframe tbody tr th {\n",
       "        vertical-align: top;\n",
       "    }\n",
       "\n",
       "    .dataframe thead th {\n",
       "        text-align: right;\n",
       "    }\n",
       "</style>\n",
       "<table border=\"1\" class=\"dataframe\">\n",
       "  <thead>\n",
       "    <tr style=\"text-align: right;\">\n",
       "      <th></th>\n",
       "      <th>year</th>\n",
       "      <th>manufacturer</th>\n",
       "      <th>condition</th>\n",
       "      <th>cylinders</th>\n",
       "      <th>fuel</th>\n",
       "      <th>odometer</th>\n",
       "      <th>title_status</th>\n",
       "      <th>transmission</th>\n",
       "      <th>drive</th>\n",
       "      <th>size</th>\n",
       "      <th>type</th>\n",
       "      <th>paint_color</th>\n",
       "      <th>state</th>\n",
       "      <th>price</th>\n",
       "    </tr>\n",
       "  </thead>\n",
       "  <tbody>\n",
       "    <tr>\n",
       "      <th>409848</th>\n",
       "      <td>NaN</td>\n",
       "      <td>NaN</td>\n",
       "      <td>NaN</td>\n",
       "      <td>NaN</td>\n",
       "      <td>NaN</td>\n",
       "      <td>NaN</td>\n",
       "      <td>NaN</td>\n",
       "      <td>NaN</td>\n",
       "      <td>NaN</td>\n",
       "      <td>NaN</td>\n",
       "      <td>NaN</td>\n",
       "      <td>NaN</td>\n",
       "      <td>NaN</td>\n",
       "      <td>11.198201</td>\n",
       "    </tr>\n",
       "    <tr>\n",
       "      <th>94438</th>\n",
       "      <td>11.0</td>\n",
       "      <td>gmc</td>\n",
       "      <td>excellent</td>\n",
       "      <td>6.0</td>\n",
       "      <td>gas</td>\n",
       "      <td>134579.0</td>\n",
       "      <td>clean</td>\n",
       "      <td>automatic</td>\n",
       "      <td>fwd</td>\n",
       "      <td>full-size</td>\n",
       "      <td>SUV</td>\n",
       "      <td>grey</td>\n",
       "      <td>il</td>\n",
       "      <td>8.922658</td>\n",
       "    </tr>\n",
       "    <tr>\n",
       "      <th>328547</th>\n",
       "      <td>7.0</td>\n",
       "      <td>kia</td>\n",
       "      <td>good</td>\n",
       "      <td>6.0</td>\n",
       "      <td>gas</td>\n",
       "      <td>17631.0</td>\n",
       "      <td>clean</td>\n",
       "      <td>automatic</td>\n",
       "      <td>fwd</td>\n",
       "      <td>full-size</td>\n",
       "      <td>coupe</td>\n",
       "      <td>white</td>\n",
       "      <td>tn</td>\n",
       "      <td>6.551080</td>\n",
       "    </tr>\n",
       "    <tr>\n",
       "      <th>110032</th>\n",
       "      <td>8.0</td>\n",
       "      <td>gmc</td>\n",
       "      <td>good</td>\n",
       "      <td>6.0</td>\n",
       "      <td>gas</td>\n",
       "      <td>125699.0</td>\n",
       "      <td>clean</td>\n",
       "      <td>automatic</td>\n",
       "      <td>4wd</td>\n",
       "      <td>full-size</td>\n",
       "      <td>truck</td>\n",
       "      <td>white</td>\n",
       "      <td>tx</td>\n",
       "      <td>8.496990</td>\n",
       "    </tr>\n",
       "    <tr>\n",
       "      <th>208221</th>\n",
       "      <td>9.0</td>\n",
       "      <td>honda</td>\n",
       "      <td>excellent</td>\n",
       "      <td>4.0</td>\n",
       "      <td>gas</td>\n",
       "      <td>76000.0</td>\n",
       "      <td>rebuilt</td>\n",
       "      <td>automatic</td>\n",
       "      <td>4wd</td>\n",
       "      <td>mid-size</td>\n",
       "      <td>SUV</td>\n",
       "      <td>silver</td>\n",
       "      <td>oh</td>\n",
       "      <td>8.611594</td>\n",
       "    </tr>\n",
       "  </tbody>\n",
       "</table>\n",
       "</div>\n",
       "    <div class=\"colab-df-buttons\">\n",
       "\n",
       "  <div class=\"colab-df-container\">\n",
       "    <button class=\"colab-df-convert\" onclick=\"convertToInteractive('df-8c1d447d-6940-4755-9733-a0b602d1cf34')\"\n",
       "            title=\"Convert this dataframe to an interactive table.\"\n",
       "            style=\"display:none;\">\n",
       "\n",
       "  <svg xmlns=\"http://www.w3.org/2000/svg\" height=\"24px\" viewBox=\"0 -960 960 960\">\n",
       "    <path d=\"M120-120v-720h720v720H120Zm60-500h600v-160H180v160Zm220 220h160v-160H400v160Zm0 220h160v-160H400v160ZM180-400h160v-160H180v160Zm440 0h160v-160H620v160ZM180-180h160v-160H180v160Zm440 0h160v-160H620v160Z\"/>\n",
       "  </svg>\n",
       "    </button>\n",
       "\n",
       "  <style>\n",
       "    .colab-df-container {\n",
       "      display:flex;\n",
       "      gap: 12px;\n",
       "    }\n",
       "\n",
       "    .colab-df-convert {\n",
       "      background-color: #E8F0FE;\n",
       "      border: none;\n",
       "      border-radius: 50%;\n",
       "      cursor: pointer;\n",
       "      display: none;\n",
       "      fill: #1967D2;\n",
       "      height: 32px;\n",
       "      padding: 0 0 0 0;\n",
       "      width: 32px;\n",
       "    }\n",
       "\n",
       "    .colab-df-convert:hover {\n",
       "      background-color: #E2EBFA;\n",
       "      box-shadow: 0px 1px 2px rgba(60, 64, 67, 0.3), 0px 1px 3px 1px rgba(60, 64, 67, 0.15);\n",
       "      fill: #174EA6;\n",
       "    }\n",
       "\n",
       "    .colab-df-buttons div {\n",
       "      margin-bottom: 4px;\n",
       "    }\n",
       "\n",
       "    [theme=dark] .colab-df-convert {\n",
       "      background-color: #3B4455;\n",
       "      fill: #D2E3FC;\n",
       "    }\n",
       "\n",
       "    [theme=dark] .colab-df-convert:hover {\n",
       "      background-color: #434B5C;\n",
       "      box-shadow: 0px 1px 3px 1px rgba(0, 0, 0, 0.15);\n",
       "      filter: drop-shadow(0px 1px 2px rgba(0, 0, 0, 0.3));\n",
       "      fill: #FFFFFF;\n",
       "    }\n",
       "  </style>\n",
       "\n",
       "    <script>\n",
       "      const buttonEl =\n",
       "        document.querySelector('#df-8c1d447d-6940-4755-9733-a0b602d1cf34 button.colab-df-convert');\n",
       "      buttonEl.style.display =\n",
       "        google.colab.kernel.accessAllowed ? 'block' : 'none';\n",
       "\n",
       "      async function convertToInteractive(key) {\n",
       "        const element = document.querySelector('#df-8c1d447d-6940-4755-9733-a0b602d1cf34');\n",
       "        const dataTable =\n",
       "          await google.colab.kernel.invokeFunction('convertToInteractive',\n",
       "                                                    [key], {});\n",
       "        if (!dataTable) return;\n",
       "\n",
       "        const docLinkHtml = 'Like what you see? Visit the ' +\n",
       "          '<a target=\"_blank\" href=https://colab.research.google.com/notebooks/data_table.ipynb>data table notebook</a>'\n",
       "          + ' to learn more about interactive tables.';\n",
       "        element.innerHTML = '';\n",
       "        dataTable['output_type'] = 'display_data';\n",
       "        await google.colab.output.renderOutput(dataTable, element);\n",
       "        const docLink = document.createElement('div');\n",
       "        docLink.innerHTML = docLinkHtml;\n",
       "        element.appendChild(docLink);\n",
       "      }\n",
       "    </script>\n",
       "  </div>\n",
       "\n",
       "\n",
       "<div id=\"df-0015d9bb-fe6e-49c1-9c78-d5411c24fc69\">\n",
       "  <button class=\"colab-df-quickchart\" onclick=\"quickchart('df-0015d9bb-fe6e-49c1-9c78-d5411c24fc69')\"\n",
       "            title=\"Suggest charts\"\n",
       "            style=\"display:none;\">\n",
       "\n",
       "<svg xmlns=\"http://www.w3.org/2000/svg\" height=\"24px\"viewBox=\"0 0 24 24\"\n",
       "     width=\"24px\">\n",
       "    <g>\n",
       "        <path d=\"M19 3H5c-1.1 0-2 .9-2 2v14c0 1.1.9 2 2 2h14c1.1 0 2-.9 2-2V5c0-1.1-.9-2-2-2zM9 17H7v-7h2v7zm4 0h-2V7h2v10zm4 0h-2v-4h2v4z\"/>\n",
       "    </g>\n",
       "</svg>\n",
       "  </button>\n",
       "\n",
       "<style>\n",
       "  .colab-df-quickchart {\n",
       "      --bg-color: #E8F0FE;\n",
       "      --fill-color: #1967D2;\n",
       "      --hover-bg-color: #E2EBFA;\n",
       "      --hover-fill-color: #174EA6;\n",
       "      --disabled-fill-color: #AAA;\n",
       "      --disabled-bg-color: #DDD;\n",
       "  }\n",
       "\n",
       "  [theme=dark] .colab-df-quickchart {\n",
       "      --bg-color: #3B4455;\n",
       "      --fill-color: #D2E3FC;\n",
       "      --hover-bg-color: #434B5C;\n",
       "      --hover-fill-color: #FFFFFF;\n",
       "      --disabled-bg-color: #3B4455;\n",
       "      --disabled-fill-color: #666;\n",
       "  }\n",
       "\n",
       "  .colab-df-quickchart {\n",
       "    background-color: var(--bg-color);\n",
       "    border: none;\n",
       "    border-radius: 50%;\n",
       "    cursor: pointer;\n",
       "    display: none;\n",
       "    fill: var(--fill-color);\n",
       "    height: 32px;\n",
       "    padding: 0;\n",
       "    width: 32px;\n",
       "  }\n",
       "\n",
       "  .colab-df-quickchart:hover {\n",
       "    background-color: var(--hover-bg-color);\n",
       "    box-shadow: 0 1px 2px rgba(60, 64, 67, 0.3), 0 1px 3px 1px rgba(60, 64, 67, 0.15);\n",
       "    fill: var(--button-hover-fill-color);\n",
       "  }\n",
       "\n",
       "  .colab-df-quickchart-complete:disabled,\n",
       "  .colab-df-quickchart-complete:disabled:hover {\n",
       "    background-color: var(--disabled-bg-color);\n",
       "    fill: var(--disabled-fill-color);\n",
       "    box-shadow: none;\n",
       "  }\n",
       "\n",
       "  .colab-df-spinner {\n",
       "    border: 2px solid var(--fill-color);\n",
       "    border-color: transparent;\n",
       "    border-bottom-color: var(--fill-color);\n",
       "    animation:\n",
       "      spin 1s steps(1) infinite;\n",
       "  }\n",
       "\n",
       "  @keyframes spin {\n",
       "    0% {\n",
       "      border-color: transparent;\n",
       "      border-bottom-color: var(--fill-color);\n",
       "      border-left-color: var(--fill-color);\n",
       "    }\n",
       "    20% {\n",
       "      border-color: transparent;\n",
       "      border-left-color: var(--fill-color);\n",
       "      border-top-color: var(--fill-color);\n",
       "    }\n",
       "    30% {\n",
       "      border-color: transparent;\n",
       "      border-left-color: var(--fill-color);\n",
       "      border-top-color: var(--fill-color);\n",
       "      border-right-color: var(--fill-color);\n",
       "    }\n",
       "    40% {\n",
       "      border-color: transparent;\n",
       "      border-right-color: var(--fill-color);\n",
       "      border-top-color: var(--fill-color);\n",
       "    }\n",
       "    60% {\n",
       "      border-color: transparent;\n",
       "      border-right-color: var(--fill-color);\n",
       "    }\n",
       "    80% {\n",
       "      border-color: transparent;\n",
       "      border-right-color: var(--fill-color);\n",
       "      border-bottom-color: var(--fill-color);\n",
       "    }\n",
       "    90% {\n",
       "      border-color: transparent;\n",
       "      border-bottom-color: var(--fill-color);\n",
       "    }\n",
       "  }\n",
       "</style>\n",
       "\n",
       "  <script>\n",
       "    async function quickchart(key) {\n",
       "      const quickchartButtonEl =\n",
       "        document.querySelector('#' + key + ' button');\n",
       "      quickchartButtonEl.disabled = true;  // To prevent multiple clicks.\n",
       "      quickchartButtonEl.classList.add('colab-df-spinner');\n",
       "      try {\n",
       "        const charts = await google.colab.kernel.invokeFunction(\n",
       "            'suggestCharts', [key], {});\n",
       "      } catch (error) {\n",
       "        console.error('Error during call to suggestCharts:', error);\n",
       "      }\n",
       "      quickchartButtonEl.classList.remove('colab-df-spinner');\n",
       "      quickchartButtonEl.classList.add('colab-df-quickchart-complete');\n",
       "    }\n",
       "    (() => {\n",
       "      let quickchartButtonEl =\n",
       "        document.querySelector('#df-0015d9bb-fe6e-49c1-9c78-d5411c24fc69 button');\n",
       "      quickchartButtonEl.style.display =\n",
       "        google.colab.kernel.accessAllowed ? 'block' : 'none';\n",
       "    })();\n",
       "  </script>\n",
       "</div>\n",
       "\n",
       "    </div>\n",
       "  </div>\n"
      ],
      "text/plain": [
       "        year manufacturer  condition cylinders fuel  odometer title_status  \\\n",
       "409848   NaN          NaN        NaN       NaN  NaN       NaN          NaN   \n",
       "94438   11.0          gmc  excellent       6.0  gas  134579.0        clean   \n",
       "328547   7.0          kia       good       6.0  gas   17631.0        clean   \n",
       "110032   8.0          gmc       good       6.0  gas  125699.0        clean   \n",
       "208221   9.0        honda  excellent       4.0  gas   76000.0      rebuilt   \n",
       "\n",
       "       transmission drive       size   type paint_color state      price  \n",
       "409848          NaN   NaN        NaN    NaN         NaN   NaN  11.198201  \n",
       "94438     automatic   fwd  full-size    SUV        grey    il   8.922658  \n",
       "328547    automatic   fwd  full-size  coupe       white    tn   6.551080  \n",
       "110032    automatic   4wd  full-size  truck       white    tx   8.496990  \n",
       "208221    automatic   4wd   mid-size    SUV      silver    oh   8.611594  "
      ]
     },
     "execution_count": 139,
     "metadata": {},
     "output_type": "execute_result"
    }
   ],
   "source": [
    "final_df.tail()"
   ]
  },
  {
   "cell_type": "code",
   "execution_count": null,
   "metadata": {
    "colab": {
     "base_uri": "https://localhost:8080/"
    },
    "id": "KXUTpXzCB5xc",
    "outputId": "e492086f-a434-454d-c06d-e61b9bab3a8d"
   },
   "outputs": [
    {
     "data": {
      "text/plain": [
       "year            0\n",
       "manufacturer    0\n",
       "condition       0\n",
       "cylinders       0\n",
       "fuel            0\n",
       "odometer        0\n",
       "title_status    0\n",
       "transmission    0\n",
       "drive           0\n",
       "size            0\n",
       "type            0\n",
       "paint_color     0\n",
       "state           0\n",
       "price           0\n",
       "dtype: int64"
      ]
     },
     "execution_count": 140,
     "metadata": {},
     "output_type": "execute_result"
    }
   ],
   "source": [
    "# removing the record that has missing values\n",
    "\n",
    "final_df = final_df.dropna()\n",
    "final_df.isnull().sum()\n"
   ]
  },
  {
   "cell_type": "code",
   "execution_count": null,
   "metadata": {
    "colab": {
     "base_uri": "https://localhost:8080/"
    },
    "id": "d3o-qsCuCCuY",
    "outputId": "242289c1-4586-4058-d352-c0d52c6fa619"
   },
   "outputs": [
    {
     "name": "stdout",
     "output_type": "stream",
     "text": [
      "<class 'pandas.core.frame.DataFrame'>\n",
      "Int64Index: 312838 entries, 144436 to 208221\n",
      "Data columns (total 14 columns):\n",
      " #   Column        Non-Null Count   Dtype  \n",
      "---  ------        --------------   -----  \n",
      " 0   year          312838 non-null  object \n",
      " 1   manufacturer  312838 non-null  object \n",
      " 2   condition     312838 non-null  object \n",
      " 3   cylinders     312838 non-null  object \n",
      " 4   fuel          312838 non-null  object \n",
      " 5   odometer      312838 non-null  object \n",
      " 6   title_status  312838 non-null  object \n",
      " 7   transmission  312838 non-null  object \n",
      " 8   drive         312838 non-null  object \n",
      " 9   size          312838 non-null  object \n",
      " 10  type          312838 non-null  object \n",
      " 11  paint_color   312838 non-null  object \n",
      " 12  state         312838 non-null  object \n",
      " 13  price         312838 non-null  float64\n",
      "dtypes: float64(1), object(13)\n",
      "memory usage: 35.8+ MB\n"
     ]
    }
   ],
   "source": [
    "final_df.info()"
   ]
  },
  {
   "cell_type": "markdown",
   "metadata": {
    "id": "4OqI5KD-Cbjn"
   },
   "source": [
    "### Handling Categorical features into numerical features"
   ]
  },
  {
   "cell_type": "code",
   "execution_count": null,
   "metadata": {
    "id": "t56ZWdllCA1z"
   },
   "outputs": [],
   "source": [
    "#applying one hot encoding on manufacturer column in df dataframe\n",
    "\n",
    "final_df = pd.get_dummies(final_df, columns=['manufacturer'], prefix='', prefix_sep='')\n"
   ]
  },
  {
   "cell_type": "code",
   "execution_count": null,
   "metadata": {
    "colab": {
     "base_uri": "https://localhost:8080/"
    },
    "id": "xFI_jVkdCuLl",
    "outputId": "2c16c1d7-d8ef-4812-c590-e7190d250f7b"
   },
   "outputs": [
    {
     "data": {
      "text/plain": [
       "(312838, 46)"
      ]
     },
     "execution_count": 143,
     "metadata": {},
     "output_type": "execute_result"
    }
   ],
   "source": [
    "final_df.shape"
   ]
  },
  {
   "cell_type": "code",
   "execution_count": null,
   "metadata": {
    "colab": {
     "base_uri": "https://localhost:8080/"
    },
    "id": "xNpIfx03DYmM",
    "outputId": "4ac0fa5b-b021-40d6-9bde-69b339913c49"
   },
   "outputs": [
    {
     "name": "stdout",
     "output_type": "stream",
     "text": [
      "['year', 'condition', 'cylinders', 'fuel', 'odometer', 'title_status', 'transmission', 'drive', 'size', 'type', 'paint_color', 'state']\n"
     ]
    }
   ],
   "source": [
    "# finding the categorical data on final_df\n",
    "\n",
    "categorical_columns = final_df.select_dtypes(include='object').columns.tolist()\n",
    "print(categorical_columns)\n"
   ]
  },
  {
   "cell_type": "code",
   "execution_count": null,
   "metadata": {
    "id": "zB0mUymnCuDq"
   },
   "outputs": [],
   "source": [
    "# applying label encoding on categorical data\n",
    "\n",
    "def apply_label_encoding(data, categorical_cols):\n",
    "  \"\"\"\n",
    "  Applies label encoding to categorical columns in a DataFrame.\n",
    "\n",
    "  Args:\n",
    "    data (DataFrame): The DataFrame containing the categorical columns.\n",
    "    categorical_cols (list): A list of column names to apply label encoding to.\n",
    "\n",
    "  Returns:\n",
    "    DataFrame: The DataFrame with label-encoded categorical columns.\n",
    "  \"\"\"\n",
    "\n",
    "  le = LabelEncoder()\n",
    "  for col in categorical_cols:\n",
    "    data[col] = le.fit_transform(data[col])\n",
    "\n",
    "\n",
    "  return data\n"
   ]
  },
  {
   "cell_type": "code",
   "execution_count": null,
   "metadata": {
    "id": "gWtdr6xqCuBT"
   },
   "outputs": [],
   "source": [
    "final_df_encoded = apply_label_encoding(final_df, categorical_columns)"
   ]
  },
  {
   "cell_type": "code",
   "execution_count": null,
   "metadata": {
    "colab": {
     "base_uri": "https://localhost:8080/"
    },
    "id": "t-dAqYeiFJh6",
    "outputId": "654784d3-01b8-4ca7-d229-ca1eaabbc1a1"
   },
   "outputs": [
    {
     "name": "stdout",
     "output_type": "stream",
     "text": [
      "<class 'pandas.core.frame.DataFrame'>\n",
      "Int64Index: 312838 entries, 144436 to 208221\n",
      "Data columns (total 46 columns):\n",
      " #   Column         Non-Null Count   Dtype  \n",
      "---  ------         --------------   -----  \n",
      " 0   year           312838 non-null  int64  \n",
      " 1   condition      312838 non-null  int64  \n",
      " 2   cylinders      312838 non-null  int64  \n",
      " 3   fuel           312838 non-null  int64  \n",
      " 4   odometer       312838 non-null  int64  \n",
      " 5   title_status   312838 non-null  int64  \n",
      " 6   transmission   312838 non-null  int64  \n",
      " 7   drive          312838 non-null  int64  \n",
      " 8   size           312838 non-null  int64  \n",
      " 9   type           312838 non-null  int64  \n",
      " 10  paint_color    312838 non-null  int64  \n",
      " 11  state          312838 non-null  int64  \n",
      " 12  price          312838 non-null  float64\n",
      " 13  acura          312838 non-null  uint8  \n",
      " 14  audi           312838 non-null  uint8  \n",
      " 15  bmw            312838 non-null  uint8  \n",
      " 16  buick          312838 non-null  uint8  \n",
      " 17  cadillac       312838 non-null  uint8  \n",
      " 18  chevrolet      312838 non-null  uint8  \n",
      " 19  chrysler       312838 non-null  uint8  \n",
      " 20  dodge          312838 non-null  uint8  \n",
      " 21  ford           312838 non-null  uint8  \n",
      " 22  gmc            312838 non-null  uint8  \n",
      " 23  honda          312838 non-null  uint8  \n",
      " 24  hyundai        312838 non-null  uint8  \n",
      " 25  infiniti       312838 non-null  uint8  \n",
      " 26  jaguar         312838 non-null  uint8  \n",
      " 27  jeep           312838 non-null  uint8  \n",
      " 28  kia            312838 non-null  uint8  \n",
      " 29  lexus          312838 non-null  uint8  \n",
      " 30  lincoln        312838 non-null  uint8  \n",
      " 31  mazda          312838 non-null  uint8  \n",
      " 32  mercedes-benz  312838 non-null  uint8  \n",
      " 33  mercury        312838 non-null  uint8  \n",
      " 34  mini           312838 non-null  uint8  \n",
      " 35  mitsubishi     312838 non-null  uint8  \n",
      " 36  nissan         312838 non-null  uint8  \n",
      " 37  pontiac        312838 non-null  uint8  \n",
      " 38  porsche        312838 non-null  uint8  \n",
      " 39  ram            312838 non-null  uint8  \n",
      " 40  rover          312838 non-null  uint8  \n",
      " 41  saturn         312838 non-null  uint8  \n",
      " 42  subaru         312838 non-null  uint8  \n",
      " 43  toyota         312838 non-null  uint8  \n",
      " 44  volkswagen     312838 non-null  uint8  \n",
      " 45  volvo          312838 non-null  uint8  \n",
      "dtypes: float64(1), int64(12), uint8(33)\n",
      "memory usage: 43.3 MB\n"
     ]
    }
   ],
   "source": [
    "final_df_encoded.info()"
   ]
  },
  {
   "cell_type": "code",
   "execution_count": null,
   "metadata": {
    "id": "_FzDbvfKlNhq"
   },
   "outputs": [],
   "source": [
    "# saving to csv file removing the index\n",
    "\n",
    "final_df.to_csv('final_vehicle.csv', index=False)\n"
   ]
  },
  {
   "cell_type": "code",
   "execution_count": null,
   "metadata": {
    "colab": {
     "base_uri": "https://localhost:8080/",
     "height": 256
    },
    "id": "sbCzAkhjHTlY",
    "outputId": "f09f150e-77f8-4fe2-b4c2-56aaa92bf6ca"
   },
   "outputs": [
    {
     "data": {
      "application/vnd.google.colaboratory.intrinsic+json": {
       "type": "dataframe",
       "variable_name": "final_df"
      },
      "text/html": [
       "\n",
       "  <div id=\"df-9ec43760-0493-4d66-95f0-1f5d27b07941\" class=\"colab-df-container\">\n",
       "    <div>\n",
       "<style scoped>\n",
       "    .dataframe tbody tr th:only-of-type {\n",
       "        vertical-align: middle;\n",
       "    }\n",
       "\n",
       "    .dataframe tbody tr th {\n",
       "        vertical-align: top;\n",
       "    }\n",
       "\n",
       "    .dataframe thead th {\n",
       "        text-align: right;\n",
       "    }\n",
       "</style>\n",
       "<table border=\"1\" class=\"dataframe\">\n",
       "  <thead>\n",
       "    <tr style=\"text-align: right;\">\n",
       "      <th></th>\n",
       "      <th>year</th>\n",
       "      <th>condition</th>\n",
       "      <th>cylinders</th>\n",
       "      <th>fuel</th>\n",
       "      <th>odometer</th>\n",
       "      <th>title_status</th>\n",
       "      <th>transmission</th>\n",
       "      <th>drive</th>\n",
       "      <th>size</th>\n",
       "      <th>type</th>\n",
       "      <th>...</th>\n",
       "      <th>nissan</th>\n",
       "      <th>pontiac</th>\n",
       "      <th>porsche</th>\n",
       "      <th>ram</th>\n",
       "      <th>rover</th>\n",
       "      <th>saturn</th>\n",
       "      <th>subaru</th>\n",
       "      <th>toyota</th>\n",
       "      <th>volkswagen</th>\n",
       "      <th>volvo</th>\n",
       "    </tr>\n",
       "  </thead>\n",
       "  <tbody>\n",
       "    <tr>\n",
       "      <th>144436</th>\n",
       "      <td>9</td>\n",
       "      <td>0</td>\n",
       "      <td>1</td>\n",
       "      <td>2</td>\n",
       "      <td>50622</td>\n",
       "      <td>0</td>\n",
       "      <td>0</td>\n",
       "      <td>1</td>\n",
       "      <td>1</td>\n",
       "      <td>0</td>\n",
       "      <td>...</td>\n",
       "      <td>0</td>\n",
       "      <td>0</td>\n",
       "      <td>0</td>\n",
       "      <td>0</td>\n",
       "      <td>0</td>\n",
       "      <td>0</td>\n",
       "      <td>0</td>\n",
       "      <td>0</td>\n",
       "      <td>0</td>\n",
       "      <td>0</td>\n",
       "    </tr>\n",
       "    <tr>\n",
       "      <th>110623</th>\n",
       "      <td>14</td>\n",
       "      <td>0</td>\n",
       "      <td>3</td>\n",
       "      <td>2</td>\n",
       "      <td>59179</td>\n",
       "      <td>0</td>\n",
       "      <td>0</td>\n",
       "      <td>0</td>\n",
       "      <td>1</td>\n",
       "      <td>8</td>\n",
       "      <td>...</td>\n",
       "      <td>0</td>\n",
       "      <td>0</td>\n",
       "      <td>0</td>\n",
       "      <td>0</td>\n",
       "      <td>0</td>\n",
       "      <td>0</td>\n",
       "      <td>0</td>\n",
       "      <td>0</td>\n",
       "      <td>0</td>\n",
       "      <td>0</td>\n",
       "    </tr>\n",
       "    <tr>\n",
       "      <th>106192</th>\n",
       "      <td>13</td>\n",
       "      <td>2</td>\n",
       "      <td>1</td>\n",
       "      <td>2</td>\n",
       "      <td>60420</td>\n",
       "      <td>0</td>\n",
       "      <td>0</td>\n",
       "      <td>0</td>\n",
       "      <td>1</td>\n",
       "      <td>8</td>\n",
       "      <td>...</td>\n",
       "      <td>0</td>\n",
       "      <td>0</td>\n",
       "      <td>0</td>\n",
       "      <td>0</td>\n",
       "      <td>0</td>\n",
       "      <td>0</td>\n",
       "      <td>0</td>\n",
       "      <td>0</td>\n",
       "      <td>0</td>\n",
       "      <td>0</td>\n",
       "    </tr>\n",
       "    <tr>\n",
       "      <th>152394</th>\n",
       "      <td>15</td>\n",
       "      <td>0</td>\n",
       "      <td>1</td>\n",
       "      <td>2</td>\n",
       "      <td>48502</td>\n",
       "      <td>0</td>\n",
       "      <td>0</td>\n",
       "      <td>1</td>\n",
       "      <td>1</td>\n",
       "      <td>0</td>\n",
       "      <td>...</td>\n",
       "      <td>0</td>\n",
       "      <td>0</td>\n",
       "      <td>0</td>\n",
       "      <td>0</td>\n",
       "      <td>0</td>\n",
       "      <td>0</td>\n",
       "      <td>0</td>\n",
       "      <td>0</td>\n",
       "      <td>0</td>\n",
       "      <td>0</td>\n",
       "    </tr>\n",
       "    <tr>\n",
       "      <th>23100</th>\n",
       "      <td>18</td>\n",
       "      <td>2</td>\n",
       "      <td>4</td>\n",
       "      <td>2</td>\n",
       "      <td>81242</td>\n",
       "      <td>0</td>\n",
       "      <td>0</td>\n",
       "      <td>0</td>\n",
       "      <td>1</td>\n",
       "      <td>0</td>\n",
       "      <td>...</td>\n",
       "      <td>0</td>\n",
       "      <td>0</td>\n",
       "      <td>0</td>\n",
       "      <td>0</td>\n",
       "      <td>0</td>\n",
       "      <td>0</td>\n",
       "      <td>0</td>\n",
       "      <td>0</td>\n",
       "      <td>0</td>\n",
       "      <td>0</td>\n",
       "    </tr>\n",
       "  </tbody>\n",
       "</table>\n",
       "<p>5 rows × 46 columns</p>\n",
       "</div>\n",
       "    <div class=\"colab-df-buttons\">\n",
       "\n",
       "  <div class=\"colab-df-container\">\n",
       "    <button class=\"colab-df-convert\" onclick=\"convertToInteractive('df-9ec43760-0493-4d66-95f0-1f5d27b07941')\"\n",
       "            title=\"Convert this dataframe to an interactive table.\"\n",
       "            style=\"display:none;\">\n",
       "\n",
       "  <svg xmlns=\"http://www.w3.org/2000/svg\" height=\"24px\" viewBox=\"0 -960 960 960\">\n",
       "    <path d=\"M120-120v-720h720v720H120Zm60-500h600v-160H180v160Zm220 220h160v-160H400v160Zm0 220h160v-160H400v160ZM180-400h160v-160H180v160Zm440 0h160v-160H620v160ZM180-180h160v-160H180v160Zm440 0h160v-160H620v160Z\"/>\n",
       "  </svg>\n",
       "    </button>\n",
       "\n",
       "  <style>\n",
       "    .colab-df-container {\n",
       "      display:flex;\n",
       "      gap: 12px;\n",
       "    }\n",
       "\n",
       "    .colab-df-convert {\n",
       "      background-color: #E8F0FE;\n",
       "      border: none;\n",
       "      border-radius: 50%;\n",
       "      cursor: pointer;\n",
       "      display: none;\n",
       "      fill: #1967D2;\n",
       "      height: 32px;\n",
       "      padding: 0 0 0 0;\n",
       "      width: 32px;\n",
       "    }\n",
       "\n",
       "    .colab-df-convert:hover {\n",
       "      background-color: #E2EBFA;\n",
       "      box-shadow: 0px 1px 2px rgba(60, 64, 67, 0.3), 0px 1px 3px 1px rgba(60, 64, 67, 0.15);\n",
       "      fill: #174EA6;\n",
       "    }\n",
       "\n",
       "    .colab-df-buttons div {\n",
       "      margin-bottom: 4px;\n",
       "    }\n",
       "\n",
       "    [theme=dark] .colab-df-convert {\n",
       "      background-color: #3B4455;\n",
       "      fill: #D2E3FC;\n",
       "    }\n",
       "\n",
       "    [theme=dark] .colab-df-convert:hover {\n",
       "      background-color: #434B5C;\n",
       "      box-shadow: 0px 1px 3px 1px rgba(0, 0, 0, 0.15);\n",
       "      filter: drop-shadow(0px 1px 2px rgba(0, 0, 0, 0.3));\n",
       "      fill: #FFFFFF;\n",
       "    }\n",
       "  </style>\n",
       "\n",
       "    <script>\n",
       "      const buttonEl =\n",
       "        document.querySelector('#df-9ec43760-0493-4d66-95f0-1f5d27b07941 button.colab-df-convert');\n",
       "      buttonEl.style.display =\n",
       "        google.colab.kernel.accessAllowed ? 'block' : 'none';\n",
       "\n",
       "      async function convertToInteractive(key) {\n",
       "        const element = document.querySelector('#df-9ec43760-0493-4d66-95f0-1f5d27b07941');\n",
       "        const dataTable =\n",
       "          await google.colab.kernel.invokeFunction('convertToInteractive',\n",
       "                                                    [key], {});\n",
       "        if (!dataTable) return;\n",
       "\n",
       "        const docLinkHtml = 'Like what you see? Visit the ' +\n",
       "          '<a target=\"_blank\" href=https://colab.research.google.com/notebooks/data_table.ipynb>data table notebook</a>'\n",
       "          + ' to learn more about interactive tables.';\n",
       "        element.innerHTML = '';\n",
       "        dataTable['output_type'] = 'display_data';\n",
       "        await google.colab.output.renderOutput(dataTable, element);\n",
       "        const docLink = document.createElement('div');\n",
       "        docLink.innerHTML = docLinkHtml;\n",
       "        element.appendChild(docLink);\n",
       "      }\n",
       "    </script>\n",
       "  </div>\n",
       "\n",
       "\n",
       "<div id=\"df-071731ee-80e0-4ce4-8bcc-8c9fcb308f5f\">\n",
       "  <button class=\"colab-df-quickchart\" onclick=\"quickchart('df-071731ee-80e0-4ce4-8bcc-8c9fcb308f5f')\"\n",
       "            title=\"Suggest charts\"\n",
       "            style=\"display:none;\">\n",
       "\n",
       "<svg xmlns=\"http://www.w3.org/2000/svg\" height=\"24px\"viewBox=\"0 0 24 24\"\n",
       "     width=\"24px\">\n",
       "    <g>\n",
       "        <path d=\"M19 3H5c-1.1 0-2 .9-2 2v14c0 1.1.9 2 2 2h14c1.1 0 2-.9 2-2V5c0-1.1-.9-2-2-2zM9 17H7v-7h2v7zm4 0h-2V7h2v10zm4 0h-2v-4h2v4z\"/>\n",
       "    </g>\n",
       "</svg>\n",
       "  </button>\n",
       "\n",
       "<style>\n",
       "  .colab-df-quickchart {\n",
       "      --bg-color: #E8F0FE;\n",
       "      --fill-color: #1967D2;\n",
       "      --hover-bg-color: #E2EBFA;\n",
       "      --hover-fill-color: #174EA6;\n",
       "      --disabled-fill-color: #AAA;\n",
       "      --disabled-bg-color: #DDD;\n",
       "  }\n",
       "\n",
       "  [theme=dark] .colab-df-quickchart {\n",
       "      --bg-color: #3B4455;\n",
       "      --fill-color: #D2E3FC;\n",
       "      --hover-bg-color: #434B5C;\n",
       "      --hover-fill-color: #FFFFFF;\n",
       "      --disabled-bg-color: #3B4455;\n",
       "      --disabled-fill-color: #666;\n",
       "  }\n",
       "\n",
       "  .colab-df-quickchart {\n",
       "    background-color: var(--bg-color);\n",
       "    border: none;\n",
       "    border-radius: 50%;\n",
       "    cursor: pointer;\n",
       "    display: none;\n",
       "    fill: var(--fill-color);\n",
       "    height: 32px;\n",
       "    padding: 0;\n",
       "    width: 32px;\n",
       "  }\n",
       "\n",
       "  .colab-df-quickchart:hover {\n",
       "    background-color: var(--hover-bg-color);\n",
       "    box-shadow: 0 1px 2px rgba(60, 64, 67, 0.3), 0 1px 3px 1px rgba(60, 64, 67, 0.15);\n",
       "    fill: var(--button-hover-fill-color);\n",
       "  }\n",
       "\n",
       "  .colab-df-quickchart-complete:disabled,\n",
       "  .colab-df-quickchart-complete:disabled:hover {\n",
       "    background-color: var(--disabled-bg-color);\n",
       "    fill: var(--disabled-fill-color);\n",
       "    box-shadow: none;\n",
       "  }\n",
       "\n",
       "  .colab-df-spinner {\n",
       "    border: 2px solid var(--fill-color);\n",
       "    border-color: transparent;\n",
       "    border-bottom-color: var(--fill-color);\n",
       "    animation:\n",
       "      spin 1s steps(1) infinite;\n",
       "  }\n",
       "\n",
       "  @keyframes spin {\n",
       "    0% {\n",
       "      border-color: transparent;\n",
       "      border-bottom-color: var(--fill-color);\n",
       "      border-left-color: var(--fill-color);\n",
       "    }\n",
       "    20% {\n",
       "      border-color: transparent;\n",
       "      border-left-color: var(--fill-color);\n",
       "      border-top-color: var(--fill-color);\n",
       "    }\n",
       "    30% {\n",
       "      border-color: transparent;\n",
       "      border-left-color: var(--fill-color);\n",
       "      border-top-color: var(--fill-color);\n",
       "      border-right-color: var(--fill-color);\n",
       "    }\n",
       "    40% {\n",
       "      border-color: transparent;\n",
       "      border-right-color: var(--fill-color);\n",
       "      border-top-color: var(--fill-color);\n",
       "    }\n",
       "    60% {\n",
       "      border-color: transparent;\n",
       "      border-right-color: var(--fill-color);\n",
       "    }\n",
       "    80% {\n",
       "      border-color: transparent;\n",
       "      border-right-color: var(--fill-color);\n",
       "      border-bottom-color: var(--fill-color);\n",
       "    }\n",
       "    90% {\n",
       "      border-color: transparent;\n",
       "      border-bottom-color: var(--fill-color);\n",
       "    }\n",
       "  }\n",
       "</style>\n",
       "\n",
       "  <script>\n",
       "    async function quickchart(key) {\n",
       "      const quickchartButtonEl =\n",
       "        document.querySelector('#' + key + ' button');\n",
       "      quickchartButtonEl.disabled = true;  // To prevent multiple clicks.\n",
       "      quickchartButtonEl.classList.add('colab-df-spinner');\n",
       "      try {\n",
       "        const charts = await google.colab.kernel.invokeFunction(\n",
       "            'suggestCharts', [key], {});\n",
       "      } catch (error) {\n",
       "        console.error('Error during call to suggestCharts:', error);\n",
       "      }\n",
       "      quickchartButtonEl.classList.remove('colab-df-spinner');\n",
       "      quickchartButtonEl.classList.add('colab-df-quickchart-complete');\n",
       "    }\n",
       "    (() => {\n",
       "      let quickchartButtonEl =\n",
       "        document.querySelector('#df-071731ee-80e0-4ce4-8bcc-8c9fcb308f5f button');\n",
       "      quickchartButtonEl.style.display =\n",
       "        google.colab.kernel.accessAllowed ? 'block' : 'none';\n",
       "    })();\n",
       "  </script>\n",
       "</div>\n",
       "\n",
       "    </div>\n",
       "  </div>\n"
      ],
      "text/plain": [
       "        year  condition  cylinders  fuel  odometer  title_status  \\\n",
       "144436     9          0          1     2     50622             0   \n",
       "110623    14          0          3     2     59179             0   \n",
       "106192    13          2          1     2     60420             0   \n",
       "152394    15          0          1     2     48502             0   \n",
       "23100     18          2          4     2     81242             0   \n",
       "\n",
       "        transmission  drive  size  type  ...  nissan  pontiac  porsche  ram  \\\n",
       "144436             0      1     1     0  ...       0        0        0    0   \n",
       "110623             0      0     1     8  ...       0        0        0    0   \n",
       "106192             0      0     1     8  ...       0        0        0    0   \n",
       "152394             0      1     1     0  ...       0        0        0    0   \n",
       "23100              0      0     1     0  ...       0        0        0    0   \n",
       "\n",
       "        rover  saturn  subaru  toyota  volkswagen  volvo  \n",
       "144436      0       0       0       0           0      0  \n",
       "110623      0       0       0       0           0      0  \n",
       "106192      0       0       0       0           0      0  \n",
       "152394      0       0       0       0           0      0  \n",
       "23100       0       0       0       0           0      0  \n",
       "\n",
       "[5 rows x 46 columns]"
      ]
     },
     "execution_count": 150,
     "metadata": {},
     "output_type": "execute_result"
    }
   ],
   "source": [
    "final_df.head()"
   ]
  },
  {
   "cell_type": "code",
   "execution_count": null,
   "metadata": {
    "id": "bjkn45p3RU2G"
   },
   "outputs": [],
   "source": []
  }
 ],
 "metadata": {
  "colab": {
   "provenance": []
  },
  "kernelspec": {
   "display_name": "python-used-cars",
   "language": "python",
   "name": "used_cars"
  },
  "language_info": {
   "codemirror_mode": {
    "name": "ipython",
    "version": 3
   },
   "file_extension": ".py",
   "mimetype": "text/x-python",
   "name": "python",
   "nbconvert_exporter": "python",
   "pygments_lexer": "ipython3",
   "version": "3.12.1"
  }
 },
 "nbformat": 4,
 "nbformat_minor": 4
}
